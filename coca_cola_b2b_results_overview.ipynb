{
 "cells": [
  {
   "cell_type": "markdown",
   "metadata": {
    "slideshow": {
     "slide_type": "slide"
    }
   },
   "source": [
    "# Overview results for Coke2Vec\n",
    "Evaluation metrics for different values of parameter k"
   ]
  },
  {
   "cell_type": "code",
   "execution_count": 1,
   "metadata": {},
   "outputs": [],
   "source": [
    "import requests\n",
    "import xmltodict\n",
    "import fnmatch\n",
    "import os\n",
    "\n",
    "\n",
    "url = \"https://storage.googleapis.com/public_bucket_raf\"\n",
    "response = requests.get(url)\n",
    "data = xmltodict.parse(response.content)\n",
    "\n",
    "files_all_products = [d['Key'] for d in data['ListBucketResult']['Contents']]\n",
    "files_all_products = fnmatch.filter(files_all_products, 'coke2vec_results/all_products/*')\n",
    "files_all_products = [os.path.join(url, file) for file in files_all_products]\n",
    "\n",
    "files_new_products = [d['Key'] for d in data['ListBucketResult']['Contents']]\n",
    "files_new_products = fnmatch.filter(files_new_products, 'coke2vec_results/new_products_only/*')\n",
    "files_new_products = [os.path.join(url, file) for file in files_new_products]"
   ]
  },
  {
   "cell_type": "code",
   "execution_count": 2,
   "metadata": {
    "hide_input": false,
    "slideshow": {
     "slide_type": "skip"
    }
   },
   "outputs": [],
   "source": [
    "import pandas as pd\n",
    "import glob\n",
    "import matplotlib.pyplot as plt\n",
    "import seaborn as sns\n",
    "import qgrid"
   ]
  },
  {
   "cell_type": "markdown",
   "metadata": {
    "slideshow": {
     "slide_type": "slide"
    }
   },
   "source": [
    "## Scores all products"
   ]
  },
  {
   "cell_type": "code",
   "execution_count": 3,
   "metadata": {
    "slideshow": {
     "slide_type": "skip"
    }
   },
   "outputs": [],
   "source": [
    "columns = ['f1_micro', 'f1_macro', 'mapk', 'p@k', 'r@k']"
   ]
  },
  {
   "cell_type": "code",
   "execution_count": 4,
   "metadata": {
    "slideshow": {
     "slide_type": "skip"
    }
   },
   "outputs": [],
   "source": [
    "df_all_products = pd.concat([pd.read_csv(f, index_col=0) for f in files_all_products], ignore_index = True)\n",
    "# Remove some superfluous metrics\n",
    "df_all_products = df_all_products.drop(['ap','ar','ma'], axis=1)\n",
    "# Let's group the results by configuration, k value and threshold value. \n",
    "df_all_products_grouped = df_all_products.groupby(['threshold', 'k', 'config_name']).mean()"
   ]
  },
  {
   "cell_type": "code",
   "execution_count": 5,
   "metadata": {
    "slideshow": {
     "slide_type": "slide"
    }
   },
   "outputs": [
    {
     "data": {
      "application/vnd.jupyter.widget-view+json": {
       "model_id": "d8c863a2324c4c94a066326c7324f93a",
       "version_major": 2,
       "version_minor": 0
      },
      "text/plain": [
       "QgridWidget(grid_options={'fullWidthRows': True, 'syncColumnCellResize': True, 'forceFitColumns': True, 'defau…"
      ]
     },
     "metadata": {},
     "output_type": "display_data"
    }
   ],
   "source": [
    "# Use qgrid for quick overview\n",
    "qgrid_widget = qgrid.show_grid(df_all_products_grouped)\n",
    "qgrid_widget"
   ]
  },
  {
   "cell_type": "markdown",
   "metadata": {
    "slideshow": {
     "slide_type": "slide"
    }
   },
   "source": [
    "**Legend**\n",
    "- `threshold`: a prediction probability exceeding the threshold is categorized as a recommendation. When three recommendations are allowed (k=3), the threshold parameter could make that only one or two out of three products are actually recommended. \n",
    "- `k`: the k parameter determines how many recommendations are taken into account when calculating the performance measures. In recommender systems we are interested in the first one to ten recommendations. \n",
    "- `config_name`\n",
    "- `hl`: hadamard loss\n",
    "- `f1_macro`: Considers each labels as equally important regardless of absolute number of instances associated to the label. Will calculate an F1 score for each label separately and calculate an average.  \n",
    "- `f1_micro`: Calculate metrics globally by counting the total true positives, false negatives and false positives.\n",
    "[Micro vs. Macro](https://i.stack.imgur.com/HQCrS.png)\n",
    "- `f1_average`: Calculate metrics for each label, and find their average weighted by support (the number of true instances for each label).\n",
    "- `mapk`: Mean-Average Precision at k\n",
    "- `nans p@k`: Nan values for precision at k\n",
    "- `nans r@k`: Nan values for recall at k\n",
    "- `p@k`: Precision at k\n",
    "- `r@k`: Recall at k \n",
    "- `rows_with_k_recommendations`: One would expect exactly k recommendations, although high treshold values could result in less than k recommendations. See below. \n",
    "- `rows_with_less_than_k_recommendations`: high threshold values can result in less than k observations being recommended\n",
    "\n",
    "See [Github Wiki](https://github.com/rafaelvanbelle/coca_cola_b2b/wiki/Classifier-evaluation) for explanation of classifier performance metrics. "
   ]
  },
  {
   "cell_type": "markdown",
   "metadata": {
    "slideshow": {
     "slide_type": "slide"
    }
   },
   "source": [
    "### Threshold 0.5, k=1"
   ]
  },
  {
   "cell_type": "code",
   "execution_count": 6,
   "metadata": {
    "slideshow": {
     "slide_type": "fragment"
    }
   },
   "outputs": [
    {
     "data": {
      "text/html": [
       "<div>\n",
       "<style scoped>\n",
       "    .dataframe tbody tr th:only-of-type {\n",
       "        vertical-align: middle;\n",
       "    }\n",
       "\n",
       "    .dataframe tbody tr th {\n",
       "        vertical-align: top;\n",
       "    }\n",
       "\n",
       "    .dataframe thead th {\n",
       "        text-align: right;\n",
       "    }\n",
       "</style>\n",
       "<table border=\"1\" class=\"dataframe\">\n",
       "  <thead>\n",
       "    <tr style=\"text-align: right;\">\n",
       "      <th></th>\n",
       "      <th>f1_micro</th>\n",
       "      <th>f1_macro</th>\n",
       "      <th>mapk</th>\n",
       "      <th>p@k</th>\n",
       "      <th>r@k</th>\n",
       "    </tr>\n",
       "    <tr>\n",
       "      <th>config_name</th>\n",
       "      <th></th>\n",
       "      <th></th>\n",
       "      <th></th>\n",
       "      <th></th>\n",
       "      <th></th>\n",
       "    </tr>\n",
       "  </thead>\n",
       "  <tbody>\n",
       "    <tr>\n",
       "      <th>Benchmark: popular vote</th>\n",
       "      <td>0.229</td>\n",
       "      <td>0.022</td>\n",
       "      <td>0.920</td>\n",
       "      <td>0.681</td>\n",
       "      <td>0.162</td>\n",
       "    </tr>\n",
       "    <tr>\n",
       "      <th>Benchmark: Multi-label classification with extended RFM features</th>\n",
       "      <td>0.782</td>\n",
       "      <td>0.490</td>\n",
       "      <td>0.912</td>\n",
       "      <td>0.771</td>\n",
       "      <td>0.175</td>\n",
       "    </tr>\n",
       "    <tr>\n",
       "      <th>Random Forest with original features without vector space translation</th>\n",
       "      <td>0.561</td>\n",
       "      <td>0.130</td>\n",
       "      <td>0.899</td>\n",
       "      <td>0.710</td>\n",
       "      <td>0.155</td>\n",
       "    </tr>\n",
       "    <tr>\n",
       "      <th>Random Forest without vector space translation</th>\n",
       "      <td>0.559</td>\n",
       "      <td>0.129</td>\n",
       "      <td>0.899</td>\n",
       "      <td>0.710</td>\n",
       "      <td>0.155</td>\n",
       "    </tr>\n",
       "    <tr>\n",
       "      <th>Benchmark: implicit feedback</th>\n",
       "      <td>0.776</td>\n",
       "      <td>0.608</td>\n",
       "      <td>0.886</td>\n",
       "      <td>0.886</td>\n",
       "      <td>0.171</td>\n",
       "    </tr>\n",
       "    <tr>\n",
       "      <th>XGBoost without vector space translation</th>\n",
       "      <td>0.587</td>\n",
       "      <td>0.240</td>\n",
       "      <td>0.843</td>\n",
       "      <td>0.700</td>\n",
       "      <td>0.143</td>\n",
       "    </tr>\n",
       "    <tr>\n",
       "      <th>Benchmark: Multi-label classification without network features</th>\n",
       "      <td>0.557</td>\n",
       "      <td>0.181</td>\n",
       "      <td>0.801</td>\n",
       "      <td>0.709</td>\n",
       "      <td>0.143</td>\n",
       "    </tr>\n",
       "    <tr>\n",
       "      <th>XGBoost with vector space translation</th>\n",
       "      <td>0.003</td>\n",
       "      <td>0.001</td>\n",
       "      <td>0.011</td>\n",
       "      <td>0.676</td>\n",
       "      <td>0.002</td>\n",
       "    </tr>\n",
       "    <tr>\n",
       "      <th>Benchmark: explicit feedback</th>\n",
       "      <td>0.003</td>\n",
       "      <td>0.010</td>\n",
       "      <td>0.000</td>\n",
       "      <td>0.054</td>\n",
       "      <td>0.000</td>\n",
       "    </tr>\n",
       "    <tr>\n",
       "      <th>Random Forest with vector space translation</th>\n",
       "      <td>0.000</td>\n",
       "      <td>0.000</td>\n",
       "      <td>0.000</td>\n",
       "      <td>1.000</td>\n",
       "      <td>0.000</td>\n",
       "    </tr>\n",
       "  </tbody>\n",
       "</table>\n",
       "</div>"
      ],
      "text/plain": [
       "                                                    f1_micro  f1_macro   mapk  \\\n",
       "config_name                                                                     \n",
       "Benchmark: popular vote                                0.229     0.022  0.920   \n",
       "Benchmark: Multi-label classification with exte...     0.782     0.490  0.912   \n",
       "Random Forest with original features without ve...     0.561     0.130  0.899   \n",
       "Random Forest without vector space translation         0.559     0.129  0.899   \n",
       "Benchmark: implicit feedback                           0.776     0.608  0.886   \n",
       "XGBoost without vector space translation               0.587     0.240  0.843   \n",
       "Benchmark: Multi-label classification without n...     0.557     0.181  0.801   \n",
       "XGBoost with vector space translation                  0.003     0.001  0.011   \n",
       "Benchmark: explicit feedback                           0.003     0.010  0.000   \n",
       "Random Forest with vector space translation            0.000     0.000  0.000   \n",
       "\n",
       "                                                      p@k    r@k  \n",
       "config_name                                                       \n",
       "Benchmark: popular vote                             0.681  0.162  \n",
       "Benchmark: Multi-label classification with exte...  0.771  0.175  \n",
       "Random Forest with original features without ve...  0.710  0.155  \n",
       "Random Forest without vector space translation      0.710  0.155  \n",
       "Benchmark: implicit feedback                        0.886  0.171  \n",
       "XGBoost without vector space translation            0.700  0.143  \n",
       "Benchmark: Multi-label classification without n...  0.709  0.143  \n",
       "XGBoost with vector space translation               0.676  0.002  \n",
       "Benchmark: explicit feedback                        0.054  0.000  \n",
       "Random Forest with vector space translation         1.000  0.000  "
      ]
     },
     "execution_count": 6,
     "metadata": {},
     "output_type": "execute_result"
    }
   ],
   "source": [
    "df_all_products_grouped.loc[(0.5, 1), columns].round(3).sort_values(by='mapk', ascending=False)"
   ]
  },
  {
   "cell_type": "markdown",
   "metadata": {
    "slideshow": {
     "slide_type": "slide"
    }
   },
   "source": [
    "### Threshold 0.5, k=3"
   ]
  },
  {
   "cell_type": "code",
   "execution_count": 7,
   "metadata": {
    "slideshow": {
     "slide_type": "fragment"
    }
   },
   "outputs": [
    {
     "data": {
      "text/html": [
       "<div>\n",
       "<style scoped>\n",
       "    .dataframe tbody tr th:only-of-type {\n",
       "        vertical-align: middle;\n",
       "    }\n",
       "\n",
       "    .dataframe tbody tr th {\n",
       "        vertical-align: top;\n",
       "    }\n",
       "\n",
       "    .dataframe thead th {\n",
       "        text-align: right;\n",
       "    }\n",
       "</style>\n",
       "<table border=\"1\" class=\"dataframe\">\n",
       "  <thead>\n",
       "    <tr style=\"text-align: right;\">\n",
       "      <th></th>\n",
       "      <th>f1_micro</th>\n",
       "      <th>f1_macro</th>\n",
       "      <th>mapk</th>\n",
       "      <th>p@k</th>\n",
       "      <th>r@k</th>\n",
       "    </tr>\n",
       "    <tr>\n",
       "      <th>config_name</th>\n",
       "      <th></th>\n",
       "      <th></th>\n",
       "      <th></th>\n",
       "      <th></th>\n",
       "      <th></th>\n",
       "    </tr>\n",
       "  </thead>\n",
       "  <tbody>\n",
       "    <tr>\n",
       "      <th>Benchmark: Multi-label classification with extended RFM features</th>\n",
       "      <td>0.782</td>\n",
       "      <td>0.487</td>\n",
       "      <td>0.867</td>\n",
       "      <td>0.747</td>\n",
       "      <td>0.451</td>\n",
       "    </tr>\n",
       "    <tr>\n",
       "      <th>Benchmark: popular vote</th>\n",
       "      <td>0.484</td>\n",
       "      <td>0.064</td>\n",
       "      <td>0.863</td>\n",
       "      <td>0.641</td>\n",
       "      <td>0.439</td>\n",
       "    </tr>\n",
       "    <tr>\n",
       "      <th>Benchmark: implicit feedback</th>\n",
       "      <td>0.864</td>\n",
       "      <td>0.687</td>\n",
       "      <td>0.847</td>\n",
       "      <td>0.876</td>\n",
       "      <td>0.470</td>\n",
       "    </tr>\n",
       "    <tr>\n",
       "      <th>Random Forest without vector space translation</th>\n",
       "      <td>0.558</td>\n",
       "      <td>0.129</td>\n",
       "      <td>0.826</td>\n",
       "      <td>0.675</td>\n",
       "      <td>0.410</td>\n",
       "    </tr>\n",
       "    <tr>\n",
       "      <th>Random Forest with original features without vector space translation</th>\n",
       "      <td>0.561</td>\n",
       "      <td>0.131</td>\n",
       "      <td>0.825</td>\n",
       "      <td>0.676</td>\n",
       "      <td>0.410</td>\n",
       "    </tr>\n",
       "    <tr>\n",
       "      <th>Benchmark: Multi-label classification without network features</th>\n",
       "      <td>0.556</td>\n",
       "      <td>0.182</td>\n",
       "      <td>0.736</td>\n",
       "      <td>0.675</td>\n",
       "      <td>0.373</td>\n",
       "    </tr>\n",
       "    <tr>\n",
       "      <th>XGBoost without vector space translation</th>\n",
       "      <td>0.587</td>\n",
       "      <td>0.240</td>\n",
       "      <td>0.734</td>\n",
       "      <td>0.678</td>\n",
       "      <td>0.362</td>\n",
       "    </tr>\n",
       "    <tr>\n",
       "      <th>XGBoost with vector space translation</th>\n",
       "      <td>0.003</td>\n",
       "      <td>0.001</td>\n",
       "      <td>0.004</td>\n",
       "      <td>0.676</td>\n",
       "      <td>0.002</td>\n",
       "    </tr>\n",
       "    <tr>\n",
       "      <th>Benchmark: explicit feedback</th>\n",
       "      <td>0.003</td>\n",
       "      <td>0.009</td>\n",
       "      <td>0.000</td>\n",
       "      <td>0.099</td>\n",
       "      <td>0.000</td>\n",
       "    </tr>\n",
       "    <tr>\n",
       "      <th>Random Forest with vector space translation</th>\n",
       "      <td>0.000</td>\n",
       "      <td>0.000</td>\n",
       "      <td>0.000</td>\n",
       "      <td>NaN</td>\n",
       "      <td>0.000</td>\n",
       "    </tr>\n",
       "  </tbody>\n",
       "</table>\n",
       "</div>"
      ],
      "text/plain": [
       "                                                    f1_micro  f1_macro   mapk  \\\n",
       "config_name                                                                     \n",
       "Benchmark: Multi-label classification with exte...     0.782     0.487  0.867   \n",
       "Benchmark: popular vote                                0.484     0.064  0.863   \n",
       "Benchmark: implicit feedback                           0.864     0.687  0.847   \n",
       "Random Forest without vector space translation         0.558     0.129  0.826   \n",
       "Random Forest with original features without ve...     0.561     0.131  0.825   \n",
       "Benchmark: Multi-label classification without n...     0.556     0.182  0.736   \n",
       "XGBoost without vector space translation               0.587     0.240  0.734   \n",
       "XGBoost with vector space translation                  0.003     0.001  0.004   \n",
       "Benchmark: explicit feedback                           0.003     0.009  0.000   \n",
       "Random Forest with vector space translation            0.000     0.000  0.000   \n",
       "\n",
       "                                                      p@k    r@k  \n",
       "config_name                                                       \n",
       "Benchmark: Multi-label classification with exte...  0.747  0.451  \n",
       "Benchmark: popular vote                             0.641  0.439  \n",
       "Benchmark: implicit feedback                        0.876  0.470  \n",
       "Random Forest without vector space translation      0.675  0.410  \n",
       "Random Forest with original features without ve...  0.676  0.410  \n",
       "Benchmark: Multi-label classification without n...  0.675  0.373  \n",
       "XGBoost without vector space translation            0.678  0.362  \n",
       "XGBoost with vector space translation               0.676  0.002  \n",
       "Benchmark: explicit feedback                        0.099  0.000  \n",
       "Random Forest with vector space translation           NaN  0.000  "
      ]
     },
     "execution_count": 7,
     "metadata": {},
     "output_type": "execute_result"
    }
   ],
   "source": [
    "df_all_products_grouped.loc[(0.5, 3), columns].round(3).sort_values(by='mapk', ascending=False)"
   ]
  },
  {
   "cell_type": "markdown",
   "metadata": {
    "slideshow": {
     "slide_type": "slide"
    }
   },
   "source": [
    "### Threshold 0.5, k=5"
   ]
  },
  {
   "cell_type": "code",
   "execution_count": 8,
   "metadata": {
    "slideshow": {
     "slide_type": "fragment"
    }
   },
   "outputs": [
    {
     "data": {
      "text/html": [
       "<div>\n",
       "<style scoped>\n",
       "    .dataframe tbody tr th:only-of-type {\n",
       "        vertical-align: middle;\n",
       "    }\n",
       "\n",
       "    .dataframe tbody tr th {\n",
       "        vertical-align: top;\n",
       "    }\n",
       "\n",
       "    .dataframe thead th {\n",
       "        text-align: right;\n",
       "    }\n",
       "</style>\n",
       "<table border=\"1\" class=\"dataframe\">\n",
       "  <thead>\n",
       "    <tr style=\"text-align: right;\">\n",
       "      <th></th>\n",
       "      <th>f1_micro</th>\n",
       "      <th>f1_macro</th>\n",
       "      <th>mapk</th>\n",
       "      <th>p@k</th>\n",
       "      <th>r@k</th>\n",
       "    </tr>\n",
       "    <tr>\n",
       "      <th>config_name</th>\n",
       "      <th></th>\n",
       "      <th></th>\n",
       "      <th></th>\n",
       "      <th></th>\n",
       "      <th></th>\n",
       "    </tr>\n",
       "  </thead>\n",
       "  <tbody>\n",
       "    <tr>\n",
       "      <th>Benchmark: implicit feedback</th>\n",
       "      <td>0.857</td>\n",
       "      <td>0.665</td>\n",
       "      <td>0.862</td>\n",
       "      <td>0.875</td>\n",
       "      <td>0.702</td>\n",
       "    </tr>\n",
       "    <tr>\n",
       "      <th>Benchmark: Multi-label classification with extended RFM features</th>\n",
       "      <td>0.781</td>\n",
       "      <td>0.484</td>\n",
       "      <td>0.828</td>\n",
       "      <td>0.728</td>\n",
       "      <td>0.638</td>\n",
       "    </tr>\n",
       "    <tr>\n",
       "      <th>Benchmark: popular vote</th>\n",
       "      <td>0.486</td>\n",
       "      <td>0.086</td>\n",
       "      <td>0.681</td>\n",
       "      <td>0.483</td>\n",
       "      <td>0.535</td>\n",
       "    </tr>\n",
       "    <tr>\n",
       "      <th>Random Forest with original features without vector space translation</th>\n",
       "      <td>0.558</td>\n",
       "      <td>0.128</td>\n",
       "      <td>0.626</td>\n",
       "      <td>0.659</td>\n",
       "      <td>0.470</td>\n",
       "    </tr>\n",
       "    <tr>\n",
       "      <th>Random Forest without vector space translation</th>\n",
       "      <td>0.559</td>\n",
       "      <td>0.129</td>\n",
       "      <td>0.626</td>\n",
       "      <td>0.659</td>\n",
       "      <td>0.470</td>\n",
       "    </tr>\n",
       "    <tr>\n",
       "      <th>Benchmark: Multi-label classification without network features</th>\n",
       "      <td>0.557</td>\n",
       "      <td>0.182</td>\n",
       "      <td>0.610</td>\n",
       "      <td>0.623</td>\n",
       "      <td>0.473</td>\n",
       "    </tr>\n",
       "    <tr>\n",
       "      <th>XGBoost without vector space translation</th>\n",
       "      <td>0.587</td>\n",
       "      <td>0.240</td>\n",
       "      <td>0.607</td>\n",
       "      <td>0.658</td>\n",
       "      <td>0.455</td>\n",
       "    </tr>\n",
       "    <tr>\n",
       "      <th>XGBoost with vector space translation</th>\n",
       "      <td>0.003</td>\n",
       "      <td>0.001</td>\n",
       "      <td>0.003</td>\n",
       "      <td>0.676</td>\n",
       "      <td>0.002</td>\n",
       "    </tr>\n",
       "    <tr>\n",
       "      <th>Benchmark: explicit feedback</th>\n",
       "      <td>0.003</td>\n",
       "      <td>0.010</td>\n",
       "      <td>0.000</td>\n",
       "      <td>0.124</td>\n",
       "      <td>0.000</td>\n",
       "    </tr>\n",
       "    <tr>\n",
       "      <th>Random Forest with vector space translation</th>\n",
       "      <td>0.000</td>\n",
       "      <td>0.000</td>\n",
       "      <td>0.000</td>\n",
       "      <td>NaN</td>\n",
       "      <td>0.000</td>\n",
       "    </tr>\n",
       "  </tbody>\n",
       "</table>\n",
       "</div>"
      ],
      "text/plain": [
       "                                                    f1_micro  f1_macro   mapk  \\\n",
       "config_name                                                                     \n",
       "Benchmark: implicit feedback                           0.857     0.665  0.862   \n",
       "Benchmark: Multi-label classification with exte...     0.781     0.484  0.828   \n",
       "Benchmark: popular vote                                0.486     0.086  0.681   \n",
       "Random Forest with original features without ve...     0.558     0.128  0.626   \n",
       "Random Forest without vector space translation         0.559     0.129  0.626   \n",
       "Benchmark: Multi-label classification without n...     0.557     0.182  0.610   \n",
       "XGBoost without vector space translation               0.587     0.240  0.607   \n",
       "XGBoost with vector space translation                  0.003     0.001  0.003   \n",
       "Benchmark: explicit feedback                           0.003     0.010  0.000   \n",
       "Random Forest with vector space translation            0.000     0.000  0.000   \n",
       "\n",
       "                                                      p@k    r@k  \n",
       "config_name                                                       \n",
       "Benchmark: implicit feedback                        0.875  0.702  \n",
       "Benchmark: Multi-label classification with exte...  0.728  0.638  \n",
       "Benchmark: popular vote                             0.483  0.535  \n",
       "Random Forest with original features without ve...  0.659  0.470  \n",
       "Random Forest without vector space translation      0.659  0.470  \n",
       "Benchmark: Multi-label classification without n...  0.623  0.473  \n",
       "XGBoost without vector space translation            0.658  0.455  \n",
       "XGBoost with vector space translation               0.676  0.002  \n",
       "Benchmark: explicit feedback                        0.124  0.000  \n",
       "Random Forest with vector space translation           NaN  0.000  "
      ]
     },
     "execution_count": 8,
     "metadata": {},
     "output_type": "execute_result"
    }
   ],
   "source": [
    "df_all_products_grouped.loc[(0.5, 5), columns].round(3).sort_values(by='mapk', ascending=False)"
   ]
  },
  {
   "cell_type": "markdown",
   "metadata": {
    "slideshow": {
     "slide_type": "slide"
    }
   },
   "source": [
    "**Conclusions threshold 0.5**\n",
    "\n",
    "From the results on `MAPK` it becomes clear that the `popular vote` is by far the most effective for recommending a single product to a customer. The training data is based on 52 weeks of observations followed by a 6 months test period. When the goal is to predict consumption in the 6 months test set, the popular vote approach clearly wins. \n",
    "\n",
    "- `Vector space translation` doesn't work. It seems to negatively impact the results. \n",
    "- `Explicit feedback` is worthless\n",
    "- `Multi-label classification with RFM features` performs quite strong (has learned which brands are popular ;)\n",
    "- `Random-forest with original features without vector space translation` has similar performance as `Multi-label classification` and `popular vote`. \n",
    "\n",
    "- as K increases (the number of recommended products), the performance of the `popular vote` goes down. This is logical as the chances are high that somebody will buy coca-cola (the most popular product), but less likely that he will buy sprite. Hence as K increases the recommendations work for fewer and fewer customers. "
   ]
  },
  {
   "cell_type": "markdown",
   "metadata": {
    "slideshow": {
     "slide_type": "slide"
    }
   },
   "source": [
    "### Threshold 0.0, k=1"
   ]
  },
  {
   "cell_type": "code",
   "execution_count": 9,
   "metadata": {
    "slideshow": {
     "slide_type": "fragment"
    }
   },
   "outputs": [
    {
     "data": {
      "text/html": [
       "<div>\n",
       "<style scoped>\n",
       "    .dataframe tbody tr th:only-of-type {\n",
       "        vertical-align: middle;\n",
       "    }\n",
       "\n",
       "    .dataframe tbody tr th {\n",
       "        vertical-align: top;\n",
       "    }\n",
       "\n",
       "    .dataframe thead th {\n",
       "        text-align: right;\n",
       "    }\n",
       "</style>\n",
       "<table border=\"1\" class=\"dataframe\">\n",
       "  <thead>\n",
       "    <tr style=\"text-align: right;\">\n",
       "      <th></th>\n",
       "      <th>f1_micro</th>\n",
       "      <th>f1_macro</th>\n",
       "      <th>mapk</th>\n",
       "      <th>p@k</th>\n",
       "      <th>r@k</th>\n",
       "    </tr>\n",
       "    <tr>\n",
       "      <th>config_name</th>\n",
       "      <th></th>\n",
       "      <th></th>\n",
       "      <th></th>\n",
       "      <th></th>\n",
       "      <th></th>\n",
       "    </tr>\n",
       "  </thead>\n",
       "  <tbody>\n",
       "    <tr>\n",
       "      <th>Benchmark: Multi-label classification with extended RFM features</th>\n",
       "      <td>0.390</td>\n",
       "      <td>0.248</td>\n",
       "      <td>0.957</td>\n",
       "      <td>0.714</td>\n",
       "      <td>0.189</td>\n",
       "    </tr>\n",
       "    <tr>\n",
       "      <th>Benchmark: popular vote</th>\n",
       "      <td>0.229</td>\n",
       "      <td>0.022</td>\n",
       "      <td>0.920</td>\n",
       "      <td>0.681</td>\n",
       "      <td>0.162</td>\n",
       "    </tr>\n",
       "    <tr>\n",
       "      <th>Random Forest with original features without vector space translation</th>\n",
       "      <td>0.312</td>\n",
       "      <td>0.215</td>\n",
       "      <td>0.920</td>\n",
       "      <td>0.682</td>\n",
       "      <td>0.163</td>\n",
       "    </tr>\n",
       "    <tr>\n",
       "      <th>Random Forest without vector space translation</th>\n",
       "      <td>0.312</td>\n",
       "      <td>0.215</td>\n",
       "      <td>0.918</td>\n",
       "      <td>0.681</td>\n",
       "      <td>0.163</td>\n",
       "    </tr>\n",
       "    <tr>\n",
       "      <th>Benchmark: implicit feedback</th>\n",
       "      <td>0.315</td>\n",
       "      <td>0.255</td>\n",
       "      <td>0.900</td>\n",
       "      <td>0.900</td>\n",
       "      <td>0.178</td>\n",
       "    </tr>\n",
       "    <tr>\n",
       "      <th>XGBoost without vector space translation</th>\n",
       "      <td>0.249</td>\n",
       "      <td>0.209</td>\n",
       "      <td>0.888</td>\n",
       "      <td>0.657</td>\n",
       "      <td>0.158</td>\n",
       "    </tr>\n",
       "    <tr>\n",
       "      <th>Random Forest with vector space translation</th>\n",
       "      <td>0.426</td>\n",
       "      <td>0.224</td>\n",
       "      <td>0.878</td>\n",
       "      <td>0.661</td>\n",
       "      <td>0.164</td>\n",
       "    </tr>\n",
       "    <tr>\n",
       "      <th>Benchmark: Multi-label classification without network features</th>\n",
       "      <td>0.366</td>\n",
       "      <td>0.230</td>\n",
       "      <td>0.868</td>\n",
       "      <td>0.663</td>\n",
       "      <td>0.159</td>\n",
       "    </tr>\n",
       "    <tr>\n",
       "      <th>XGBoost with vector space translation</th>\n",
       "      <td>0.249</td>\n",
       "      <td>0.209</td>\n",
       "      <td>0.857</td>\n",
       "      <td>0.634</td>\n",
       "      <td>0.157</td>\n",
       "    </tr>\n",
       "    <tr>\n",
       "      <th>Benchmark: explicit feedback</th>\n",
       "      <td>0.279</td>\n",
       "      <td>0.230</td>\n",
       "      <td>0.002</td>\n",
       "      <td>0.002</td>\n",
       "      <td>0.000</td>\n",
       "    </tr>\n",
       "  </tbody>\n",
       "</table>\n",
       "</div>"
      ],
      "text/plain": [
       "                                                    f1_micro  f1_macro   mapk  \\\n",
       "config_name                                                                     \n",
       "Benchmark: Multi-label classification with exte...     0.390     0.248  0.957   \n",
       "Benchmark: popular vote                                0.229     0.022  0.920   \n",
       "Random Forest with original features without ve...     0.312     0.215  0.920   \n",
       "Random Forest without vector space translation         0.312     0.215  0.918   \n",
       "Benchmark: implicit feedback                           0.315     0.255  0.900   \n",
       "XGBoost without vector space translation               0.249     0.209  0.888   \n",
       "Random Forest with vector space translation            0.426     0.224  0.878   \n",
       "Benchmark: Multi-label classification without n...     0.366     0.230  0.868   \n",
       "XGBoost with vector space translation                  0.249     0.209  0.857   \n",
       "Benchmark: explicit feedback                           0.279     0.230  0.002   \n",
       "\n",
       "                                                      p@k    r@k  \n",
       "config_name                                                       \n",
       "Benchmark: Multi-label classification with exte...  0.714  0.189  \n",
       "Benchmark: popular vote                             0.681  0.162  \n",
       "Random Forest with original features without ve...  0.682  0.163  \n",
       "Random Forest without vector space translation      0.681  0.163  \n",
       "Benchmark: implicit feedback                        0.900  0.178  \n",
       "XGBoost without vector space translation            0.657  0.158  \n",
       "Random Forest with vector space translation         0.661  0.164  \n",
       "Benchmark: Multi-label classification without n...  0.663  0.159  \n",
       "XGBoost with vector space translation               0.634  0.157  \n",
       "Benchmark: explicit feedback                        0.002  0.000  "
      ]
     },
     "execution_count": 9,
     "metadata": {},
     "output_type": "execute_result"
    }
   ],
   "source": [
    "df_all_products_grouped.loc[(0.0, 1), columns].round(3).sort_values(by='mapk', ascending=False)\n"
   ]
  },
  {
   "cell_type": "markdown",
   "metadata": {
    "slideshow": {
     "slide_type": "slide"
    }
   },
   "source": [
    "### Threshold 0.0, k=3"
   ]
  },
  {
   "cell_type": "code",
   "execution_count": 10,
   "metadata": {
    "slideshow": {
     "slide_type": "fragment"
    }
   },
   "outputs": [
    {
     "data": {
      "text/html": [
       "<div>\n",
       "<style scoped>\n",
       "    .dataframe tbody tr th:only-of-type {\n",
       "        vertical-align: middle;\n",
       "    }\n",
       "\n",
       "    .dataframe tbody tr th {\n",
       "        vertical-align: top;\n",
       "    }\n",
       "\n",
       "    .dataframe thead th {\n",
       "        text-align: right;\n",
       "    }\n",
       "</style>\n",
       "<table border=\"1\" class=\"dataframe\">\n",
       "  <thead>\n",
       "    <tr style=\"text-align: right;\">\n",
       "      <th></th>\n",
       "      <th>f1_micro</th>\n",
       "      <th>f1_macro</th>\n",
       "      <th>mapk</th>\n",
       "      <th>p@k</th>\n",
       "      <th>r@k</th>\n",
       "    </tr>\n",
       "    <tr>\n",
       "      <th>config_name</th>\n",
       "      <th></th>\n",
       "      <th></th>\n",
       "      <th></th>\n",
       "      <th></th>\n",
       "      <th></th>\n",
       "    </tr>\n",
       "  </thead>\n",
       "  <tbody>\n",
       "    <tr>\n",
       "      <th>Benchmark: Multi-label classification with extended RFM features</th>\n",
       "      <td>0.390</td>\n",
       "      <td>0.249</td>\n",
       "      <td>0.921</td>\n",
       "      <td>0.676</td>\n",
       "      <td>0.492</td>\n",
       "    </tr>\n",
       "    <tr>\n",
       "      <th>Random Forest with original features without vector space translation</th>\n",
       "      <td>0.312</td>\n",
       "      <td>0.215</td>\n",
       "      <td>0.864</td>\n",
       "      <td>0.642</td>\n",
       "      <td>0.443</td>\n",
       "    </tr>\n",
       "    <tr>\n",
       "      <th>Random Forest without vector space translation</th>\n",
       "      <td>0.312</td>\n",
       "      <td>0.215</td>\n",
       "      <td>0.864</td>\n",
       "      <td>0.642</td>\n",
       "      <td>0.443</td>\n",
       "    </tr>\n",
       "    <tr>\n",
       "      <th>Benchmark: popular vote</th>\n",
       "      <td>0.484</td>\n",
       "      <td>0.064</td>\n",
       "      <td>0.863</td>\n",
       "      <td>0.641</td>\n",
       "      <td>0.439</td>\n",
       "    </tr>\n",
       "    <tr>\n",
       "      <th>XGBoost without vector space translation</th>\n",
       "      <td>0.249</td>\n",
       "      <td>0.209</td>\n",
       "      <td>0.830</td>\n",
       "      <td>0.624</td>\n",
       "      <td>0.439</td>\n",
       "    </tr>\n",
       "    <tr>\n",
       "      <th>Benchmark: Multi-label classification without network features</th>\n",
       "      <td>0.367</td>\n",
       "      <td>0.231</td>\n",
       "      <td>0.819</td>\n",
       "      <td>0.626</td>\n",
       "      <td>0.430</td>\n",
       "    </tr>\n",
       "    <tr>\n",
       "      <th>Random Forest with vector space translation</th>\n",
       "      <td>0.425</td>\n",
       "      <td>0.224</td>\n",
       "      <td>0.803</td>\n",
       "      <td>0.615</td>\n",
       "      <td>0.430</td>\n",
       "    </tr>\n",
       "    <tr>\n",
       "      <th>XGBoost with vector space translation</th>\n",
       "      <td>0.249</td>\n",
       "      <td>0.209</td>\n",
       "      <td>0.765</td>\n",
       "      <td>0.584</td>\n",
       "      <td>0.411</td>\n",
       "    </tr>\n",
       "    <tr>\n",
       "      <th>Benchmark: implicit feedback</th>\n",
       "      <td>0.314</td>\n",
       "      <td>0.254</td>\n",
       "      <td>0.744</td>\n",
       "      <td>0.761</td>\n",
       "      <td>0.412</td>\n",
       "    </tr>\n",
       "    <tr>\n",
       "      <th>Benchmark: explicit feedback</th>\n",
       "      <td>0.278</td>\n",
       "      <td>0.230</td>\n",
       "      <td>0.109</td>\n",
       "      <td>0.170</td>\n",
       "      <td>0.093</td>\n",
       "    </tr>\n",
       "  </tbody>\n",
       "</table>\n",
       "</div>"
      ],
      "text/plain": [
       "                                                    f1_micro  f1_macro   mapk  \\\n",
       "config_name                                                                     \n",
       "Benchmark: Multi-label classification with exte...     0.390     0.249  0.921   \n",
       "Random Forest with original features without ve...     0.312     0.215  0.864   \n",
       "Random Forest without vector space translation         0.312     0.215  0.864   \n",
       "Benchmark: popular vote                                0.484     0.064  0.863   \n",
       "XGBoost without vector space translation               0.249     0.209  0.830   \n",
       "Benchmark: Multi-label classification without n...     0.367     0.231  0.819   \n",
       "Random Forest with vector space translation            0.425     0.224  0.803   \n",
       "XGBoost with vector space translation                  0.249     0.209  0.765   \n",
       "Benchmark: implicit feedback                           0.314     0.254  0.744   \n",
       "Benchmark: explicit feedback                           0.278     0.230  0.109   \n",
       "\n",
       "                                                      p@k    r@k  \n",
       "config_name                                                       \n",
       "Benchmark: Multi-label classification with exte...  0.676  0.492  \n",
       "Random Forest with original features without ve...  0.642  0.443  \n",
       "Random Forest without vector space translation      0.642  0.443  \n",
       "Benchmark: popular vote                             0.641  0.439  \n",
       "XGBoost without vector space translation            0.624  0.439  \n",
       "Benchmark: Multi-label classification without n...  0.626  0.430  \n",
       "Random Forest with vector space translation         0.615  0.430  \n",
       "XGBoost with vector space translation               0.584  0.411  \n",
       "Benchmark: implicit feedback                        0.761  0.412  \n",
       "Benchmark: explicit feedback                        0.170  0.093  "
      ]
     },
     "execution_count": 10,
     "metadata": {},
     "output_type": "execute_result"
    }
   ],
   "source": [
    "df_all_products_grouped.loc[(0.0, 3), columns].round(3).sort_values(by='mapk', ascending=False)"
   ]
  },
  {
   "cell_type": "markdown",
   "metadata": {
    "slideshow": {
     "slide_type": "slide"
    }
   },
   "source": [
    "### Threshold 0.0, k=5"
   ]
  },
  {
   "cell_type": "code",
   "execution_count": 11,
   "metadata": {
    "slideshow": {
     "slide_type": "fragment"
    }
   },
   "outputs": [
    {
     "data": {
      "text/html": [
       "<div>\n",
       "<style scoped>\n",
       "    .dataframe tbody tr th:only-of-type {\n",
       "        vertical-align: middle;\n",
       "    }\n",
       "\n",
       "    .dataframe tbody tr th {\n",
       "        vertical-align: top;\n",
       "    }\n",
       "\n",
       "    .dataframe thead th {\n",
       "        text-align: right;\n",
       "    }\n",
       "</style>\n",
       "<table border=\"1\" class=\"dataframe\">\n",
       "  <thead>\n",
       "    <tr style=\"text-align: right;\">\n",
       "      <th></th>\n",
       "      <th>f1_micro</th>\n",
       "      <th>f1_macro</th>\n",
       "      <th>mapk</th>\n",
       "      <th>p@k</th>\n",
       "      <th>r@k</th>\n",
       "    </tr>\n",
       "    <tr>\n",
       "      <th>config_name</th>\n",
       "      <th></th>\n",
       "      <th></th>\n",
       "      <th></th>\n",
       "      <th></th>\n",
       "      <th></th>\n",
       "    </tr>\n",
       "  </thead>\n",
       "  <tbody>\n",
       "    <tr>\n",
       "      <th>Benchmark: Multi-label classification with extended RFM features</th>\n",
       "      <td>0.390</td>\n",
       "      <td>0.249</td>\n",
       "      <td>0.903</td>\n",
       "      <td>0.627</td>\n",
       "      <td>0.717</td>\n",
       "    </tr>\n",
       "    <tr>\n",
       "      <th>Random Forest with original features without vector space translation</th>\n",
       "      <td>0.312</td>\n",
       "      <td>0.215</td>\n",
       "      <td>0.771</td>\n",
       "      <td>0.553</td>\n",
       "      <td>0.619</td>\n",
       "    </tr>\n",
       "    <tr>\n",
       "      <th>Benchmark: implicit feedback</th>\n",
       "      <td>0.315</td>\n",
       "      <td>0.255</td>\n",
       "      <td>0.770</td>\n",
       "      <td>0.764</td>\n",
       "      <td>0.662</td>\n",
       "    </tr>\n",
       "    <tr>\n",
       "      <th>Random Forest without vector space translation</th>\n",
       "      <td>0.312</td>\n",
       "      <td>0.215</td>\n",
       "      <td>0.770</td>\n",
       "      <td>0.552</td>\n",
       "      <td>0.619</td>\n",
       "    </tr>\n",
       "    <tr>\n",
       "      <th>XGBoost without vector space translation</th>\n",
       "      <td>0.249</td>\n",
       "      <td>0.209</td>\n",
       "      <td>0.765</td>\n",
       "      <td>0.552</td>\n",
       "      <td>0.622</td>\n",
       "    </tr>\n",
       "    <tr>\n",
       "      <th>Benchmark: Multi-label classification without network features</th>\n",
       "      <td>0.367</td>\n",
       "      <td>0.230</td>\n",
       "      <td>0.727</td>\n",
       "      <td>0.535</td>\n",
       "      <td>0.592</td>\n",
       "    </tr>\n",
       "    <tr>\n",
       "      <th>Random Forest with vector space translation</th>\n",
       "      <td>0.427</td>\n",
       "      <td>0.223</td>\n",
       "      <td>0.720</td>\n",
       "      <td>0.535</td>\n",
       "      <td>0.599</td>\n",
       "    </tr>\n",
       "    <tr>\n",
       "      <th>XGBoost with vector space translation</th>\n",
       "      <td>0.249</td>\n",
       "      <td>0.209</td>\n",
       "      <td>0.707</td>\n",
       "      <td>0.524</td>\n",
       "      <td>0.591</td>\n",
       "    </tr>\n",
       "    <tr>\n",
       "      <th>Benchmark: popular vote</th>\n",
       "      <td>0.486</td>\n",
       "      <td>0.086</td>\n",
       "      <td>0.681</td>\n",
       "      <td>0.483</td>\n",
       "      <td>0.535</td>\n",
       "    </tr>\n",
       "    <tr>\n",
       "      <th>Benchmark: explicit feedback</th>\n",
       "      <td>0.279</td>\n",
       "      <td>0.230</td>\n",
       "      <td>0.149</td>\n",
       "      <td>0.219</td>\n",
       "      <td>0.198</td>\n",
       "    </tr>\n",
       "  </tbody>\n",
       "</table>\n",
       "</div>"
      ],
      "text/plain": [
       "                                                    f1_micro  f1_macro   mapk  \\\n",
       "config_name                                                                     \n",
       "Benchmark: Multi-label classification with exte...     0.390     0.249  0.903   \n",
       "Random Forest with original features without ve...     0.312     0.215  0.771   \n",
       "Benchmark: implicit feedback                           0.315     0.255  0.770   \n",
       "Random Forest without vector space translation         0.312     0.215  0.770   \n",
       "XGBoost without vector space translation               0.249     0.209  0.765   \n",
       "Benchmark: Multi-label classification without n...     0.367     0.230  0.727   \n",
       "Random Forest with vector space translation            0.427     0.223  0.720   \n",
       "XGBoost with vector space translation                  0.249     0.209  0.707   \n",
       "Benchmark: popular vote                                0.486     0.086  0.681   \n",
       "Benchmark: explicit feedback                           0.279     0.230  0.149   \n",
       "\n",
       "                                                      p@k    r@k  \n",
       "config_name                                                       \n",
       "Benchmark: Multi-label classification with exte...  0.627  0.717  \n",
       "Random Forest with original features without ve...  0.553  0.619  \n",
       "Benchmark: implicit feedback                        0.764  0.662  \n",
       "Random Forest without vector space translation      0.552  0.619  \n",
       "XGBoost without vector space translation            0.552  0.622  \n",
       "Benchmark: Multi-label classification without n...  0.535  0.592  \n",
       "Random Forest with vector space translation         0.535  0.599  \n",
       "XGBoost with vector space translation               0.524  0.591  \n",
       "Benchmark: popular vote                             0.483  0.535  \n",
       "Benchmark: explicit feedback                        0.219  0.198  "
      ]
     },
     "execution_count": 11,
     "metadata": {},
     "output_type": "execute_result"
    }
   ],
   "source": [
    "df_all_products_grouped.loc[(0.0, 5), columns].round(3).sort_values(by='mapk', ascending=False)"
   ]
  },
  {
   "cell_type": "markdown",
   "metadata": {
    "slideshow": {
     "slide_type": "slide"
    }
   },
   "source": [
    "**Conclusions threshold 0.0**"
   ]
  },
  {
   "cell_type": "markdown",
   "metadata": {
    "slideshow": {
     "slide_type": "fragment"
    }
   },
   "source": [
    "changing the threshold has an impact on all measures. This is caused by the way in which the classifier is evaluated. The evaluation will explicitly check the predicted probabilities and only recommend a product if the probability exceeds the threshold. \n",
    "\n",
    "`Popular vote` performance is roughly the same. (I am not sure why, but probably because of the way in which the probabilities have been configured and are all above 0.5. \n",
    "\n",
    "For `K=3`, no big surprises: `popular vote` is doing a bit worse, `Multi-label classification` is doing great, the embedding based approaches are not doing great (not much better than `popular vote`)\n",
    "\n",
    "For `K=5`, the performance of `popular vote` is considerably worse. `Implicit feedback` is doing great. Most important observation is `Multi-label classification` keeping a strong performance, while performance of embedding based approaches sinks away."
   ]
  },
  {
   "cell_type": "markdown",
   "metadata": {
    "slideshow": {
     "slide_type": "slide"
    }
   },
   "source": [
    "## Scores new products only"
   ]
  },
  {
   "cell_type": "markdown",
   "metadata": {
    "slideshow": {
     "slide_type": "fragment"
    }
   },
   "source": [
    "Because of the strong performance of the simple popularity vote in the previous experiments, the next round of experiments will only look for 'new products' not bought by the client in the past year.\n",
    "\n",
    "The setup remains identical: 52 weeks of training data, 6 months of test data. For every client the model is asked to recommend the brands most likely to be bought by the client during the next 6 months based on the 52 weeks of history."
   ]
  },
  {
   "cell_type": "code",
   "execution_count": 12,
   "metadata": {
    "slideshow": {
     "slide_type": "skip"
    }
   },
   "outputs": [],
   "source": [
    "df_new_products = pd.concat([pd.read_csv(f, index_col=0) for f in files_new_products], ignore_index = True)\n",
    "# Remove some superfluous rows\n",
    "df_new_products = df_new_products.drop(['ap','ar','ma'], axis=1)\n",
    "# Let's group the results by configuration, k value and threshold value. \n",
    "df_new_products_grouped = df_new_products.groupby(['threshold', 'k', 'config_name']).mean()"
   ]
  },
  {
   "cell_type": "code",
   "execution_count": 13,
   "metadata": {
    "slideshow": {
     "slide_type": "slide"
    }
   },
   "outputs": [
    {
     "data": {
      "application/vnd.jupyter.widget-view+json": {
       "model_id": "9b9a4d4c8247418bb124ffc6ff59f711",
       "version_major": 2,
       "version_minor": 0
      },
      "text/plain": [
       "QgridWidget(grid_options={'fullWidthRows': True, 'syncColumnCellResize': True, 'forceFitColumns': True, 'defau…"
      ]
     },
     "metadata": {},
     "output_type": "display_data"
    }
   ],
   "source": [
    "# Use qgrid for quick overview\n",
    "qgrid_widget = qgrid.show_grid(df_new_products_grouped)\n",
    "qgrid_widget"
   ]
  },
  {
   "cell_type": "markdown",
   "metadata": {
    "slideshow": {
     "slide_type": "slide"
    }
   },
   "source": [
    "### Threshold = 0.5, k=1"
   ]
  },
  {
   "cell_type": "code",
   "execution_count": 14,
   "metadata": {
    "slideshow": {
     "slide_type": "fragment"
    }
   },
   "outputs": [
    {
     "data": {
      "text/html": [
       "<div>\n",
       "<style scoped>\n",
       "    .dataframe tbody tr th:only-of-type {\n",
       "        vertical-align: middle;\n",
       "    }\n",
       "\n",
       "    .dataframe tbody tr th {\n",
       "        vertical-align: top;\n",
       "    }\n",
       "\n",
       "    .dataframe thead th {\n",
       "        text-align: right;\n",
       "    }\n",
       "</style>\n",
       "<table border=\"1\" class=\"dataframe\">\n",
       "  <thead>\n",
       "    <tr style=\"text-align: right;\">\n",
       "      <th></th>\n",
       "      <th>f1_micro</th>\n",
       "      <th>f1_macro</th>\n",
       "      <th>mapk</th>\n",
       "      <th>p@k</th>\n",
       "      <th>r@k</th>\n",
       "    </tr>\n",
       "    <tr>\n",
       "      <th>config_name</th>\n",
       "      <th></th>\n",
       "      <th></th>\n",
       "      <th></th>\n",
       "      <th></th>\n",
       "      <th></th>\n",
       "    </tr>\n",
       "  </thead>\n",
       "  <tbody>\n",
       "    <tr>\n",
       "      <th>Benchmark: Multi-label classification with extended RFM features</th>\n",
       "      <td>0.194</td>\n",
       "      <td>0.060</td>\n",
       "      <td>0.148</td>\n",
       "      <td>0.733</td>\n",
       "      <td>0.128</td>\n",
       "    </tr>\n",
       "    <tr>\n",
       "      <th>Benchmark: implicit feedback</th>\n",
       "      <td>0.085</td>\n",
       "      <td>0.075</td>\n",
       "      <td>0.080</td>\n",
       "      <td>0.080</td>\n",
       "      <td>0.056</td>\n",
       "    </tr>\n",
       "    <tr>\n",
       "      <th>Benchmark: Multi-label classification without network features</th>\n",
       "      <td>0.056</td>\n",
       "      <td>0.023</td>\n",
       "      <td>0.038</td>\n",
       "      <td>0.230</td>\n",
       "      <td>0.030</td>\n",
       "    </tr>\n",
       "    <tr>\n",
       "      <th>without vector space translation, with extended RFM features</th>\n",
       "      <td>0.036</td>\n",
       "      <td>0.012</td>\n",
       "      <td>0.026</td>\n",
       "      <td>0.820</td>\n",
       "      <td>0.022</td>\n",
       "    </tr>\n",
       "    <tr>\n",
       "      <th>XGBoost without vector space translation</th>\n",
       "      <td>0.036</td>\n",
       "      <td>0.013</td>\n",
       "      <td>0.025</td>\n",
       "      <td>0.358</td>\n",
       "      <td>0.021</td>\n",
       "    </tr>\n",
       "    <tr>\n",
       "      <th>Benchmark: popular vote</th>\n",
       "      <td>0.019</td>\n",
       "      <td>0.001</td>\n",
       "      <td>0.022</td>\n",
       "      <td>0.022</td>\n",
       "      <td>0.011</td>\n",
       "    </tr>\n",
       "    <tr>\n",
       "      <th>Random Forest with original features without vector space translation</th>\n",
       "      <td>0.002</td>\n",
       "      <td>0.000</td>\n",
       "      <td>0.002</td>\n",
       "      <td>0.627</td>\n",
       "      <td>0.002</td>\n",
       "    </tr>\n",
       "    <tr>\n",
       "      <th>Benchmark: explicit feedback</th>\n",
       "      <td>0.004</td>\n",
       "      <td>0.010</td>\n",
       "      <td>0.000</td>\n",
       "      <td>0.214</td>\n",
       "      <td>0.001</td>\n",
       "    </tr>\n",
       "  </tbody>\n",
       "</table>\n",
       "</div>"
      ],
      "text/plain": [
       "                                                    f1_micro  f1_macro   mapk  \\\n",
       "config_name                                                                     \n",
       "Benchmark: Multi-label classification with exte...     0.194     0.060  0.148   \n",
       "Benchmark: implicit feedback                           0.085     0.075  0.080   \n",
       "Benchmark: Multi-label classification without n...     0.056     0.023  0.038   \n",
       "without vector space translation, with extended...     0.036     0.012  0.026   \n",
       "XGBoost without vector space translation               0.036     0.013  0.025   \n",
       "Benchmark: popular vote                                0.019     0.001  0.022   \n",
       "Random Forest with original features without ve...     0.002     0.000  0.002   \n",
       "Benchmark: explicit feedback                           0.004     0.010  0.000   \n",
       "\n",
       "                                                      p@k    r@k  \n",
       "config_name                                                       \n",
       "Benchmark: Multi-label classification with exte...  0.733  0.128  \n",
       "Benchmark: implicit feedback                        0.080  0.056  \n",
       "Benchmark: Multi-label classification without n...  0.230  0.030  \n",
       "without vector space translation, with extended...  0.820  0.022  \n",
       "XGBoost without vector space translation            0.358  0.021  \n",
       "Benchmark: popular vote                             0.022  0.011  \n",
       "Random Forest with original features without ve...  0.627  0.002  \n",
       "Benchmark: explicit feedback                        0.214  0.001  "
      ]
     },
     "execution_count": 14,
     "metadata": {},
     "output_type": "execute_result"
    }
   ],
   "source": [
    "df_new_products_grouped.loc[(0.5, 1), columns].round(3).sort_values(by='mapk', ascending=False)"
   ]
  },
  {
   "cell_type": "markdown",
   "metadata": {
    "slideshow": {
     "slide_type": "slide"
    }
   },
   "source": [
    "### Threshold = 0.5, k=3"
   ]
  },
  {
   "cell_type": "code",
   "execution_count": 15,
   "metadata": {
    "slideshow": {
     "slide_type": "fragment"
    }
   },
   "outputs": [
    {
     "data": {
      "text/html": [
       "<div>\n",
       "<style scoped>\n",
       "    .dataframe tbody tr th:only-of-type {\n",
       "        vertical-align: middle;\n",
       "    }\n",
       "\n",
       "    .dataframe tbody tr th {\n",
       "        vertical-align: top;\n",
       "    }\n",
       "\n",
       "    .dataframe thead th {\n",
       "        text-align: right;\n",
       "    }\n",
       "</style>\n",
       "<table border=\"1\" class=\"dataframe\">\n",
       "  <thead>\n",
       "    <tr style=\"text-align: right;\">\n",
       "      <th></th>\n",
       "      <th>f1_micro</th>\n",
       "      <th>f1_macro</th>\n",
       "      <th>mapk</th>\n",
       "      <th>p@k</th>\n",
       "      <th>r@k</th>\n",
       "    </tr>\n",
       "    <tr>\n",
       "      <th>config_name</th>\n",
       "      <th></th>\n",
       "      <th></th>\n",
       "      <th></th>\n",
       "      <th></th>\n",
       "      <th></th>\n",
       "    </tr>\n",
       "  </thead>\n",
       "  <tbody>\n",
       "    <tr>\n",
       "      <th>Benchmark: implicit feedback</th>\n",
       "      <td>0.085</td>\n",
       "      <td>0.074</td>\n",
       "      <td>0.162</td>\n",
       "      <td>0.118</td>\n",
       "      <td>0.223</td>\n",
       "    </tr>\n",
       "    <tr>\n",
       "      <th>Benchmark: Multi-label classification with extended RFM features</th>\n",
       "      <td>0.193</td>\n",
       "      <td>0.058</td>\n",
       "      <td>0.130</td>\n",
       "      <td>0.730</td>\n",
       "      <td>0.130</td>\n",
       "    </tr>\n",
       "    <tr>\n",
       "      <th>Benchmark: popular vote</th>\n",
       "      <td>0.058</td>\n",
       "      <td>0.007</td>\n",
       "      <td>0.045</td>\n",
       "      <td>0.042</td>\n",
       "      <td>0.079</td>\n",
       "    </tr>\n",
       "    <tr>\n",
       "      <th>Benchmark: Multi-label classification without network features</th>\n",
       "      <td>0.053</td>\n",
       "      <td>0.022</td>\n",
       "      <td>0.029</td>\n",
       "      <td>0.200</td>\n",
       "      <td>0.030</td>\n",
       "    </tr>\n",
       "    <tr>\n",
       "      <th>XGBoost without vector space translation</th>\n",
       "      <td>0.036</td>\n",
       "      <td>0.013</td>\n",
       "      <td>0.022</td>\n",
       "      <td>0.358</td>\n",
       "      <td>0.022</td>\n",
       "    </tr>\n",
       "    <tr>\n",
       "      <th>without vector space translation, with extended RFM features</th>\n",
       "      <td>0.034</td>\n",
       "      <td>0.010</td>\n",
       "      <td>0.022</td>\n",
       "      <td>0.818</td>\n",
       "      <td>0.022</td>\n",
       "    </tr>\n",
       "    <tr>\n",
       "      <th>Random Forest with original features without vector space translation</th>\n",
       "      <td>0.006</td>\n",
       "      <td>0.001</td>\n",
       "      <td>0.004</td>\n",
       "      <td>0.655</td>\n",
       "      <td>0.004</td>\n",
       "    </tr>\n",
       "    <tr>\n",
       "      <th>Random Forest without vector space translation</th>\n",
       "      <td>0.003</td>\n",
       "      <td>0.000</td>\n",
       "      <td>0.002</td>\n",
       "      <td>0.708</td>\n",
       "      <td>0.002</td>\n",
       "    </tr>\n",
       "    <tr>\n",
       "      <th>Benchmark: explicit feedback</th>\n",
       "      <td>0.004</td>\n",
       "      <td>0.010</td>\n",
       "      <td>0.001</td>\n",
       "      <td>0.151</td>\n",
       "      <td>0.001</td>\n",
       "    </tr>\n",
       "  </tbody>\n",
       "</table>\n",
       "</div>"
      ],
      "text/plain": [
       "                                                    f1_micro  f1_macro   mapk  \\\n",
       "config_name                                                                     \n",
       "Benchmark: implicit feedback                           0.085     0.074  0.162   \n",
       "Benchmark: Multi-label classification with exte...     0.193     0.058  0.130   \n",
       "Benchmark: popular vote                                0.058     0.007  0.045   \n",
       "Benchmark: Multi-label classification without n...     0.053     0.022  0.029   \n",
       "XGBoost without vector space translation               0.036     0.013  0.022   \n",
       "without vector space translation, with extended...     0.034     0.010  0.022   \n",
       "Random Forest with original features without ve...     0.006     0.001  0.004   \n",
       "Random Forest without vector space translation         0.003     0.000  0.002   \n",
       "Benchmark: explicit feedback                           0.004     0.010  0.001   \n",
       "\n",
       "                                                      p@k    r@k  \n",
       "config_name                                                       \n",
       "Benchmark: implicit feedback                        0.118  0.223  \n",
       "Benchmark: Multi-label classification with exte...  0.730  0.130  \n",
       "Benchmark: popular vote                             0.042  0.079  \n",
       "Benchmark: Multi-label classification without n...  0.200  0.030  \n",
       "XGBoost without vector space translation            0.358  0.022  \n",
       "without vector space translation, with extended...  0.818  0.022  \n",
       "Random Forest with original features without ve...  0.655  0.004  \n",
       "Random Forest without vector space translation      0.708  0.002  \n",
       "Benchmark: explicit feedback                        0.151  0.001  "
      ]
     },
     "execution_count": 15,
     "metadata": {},
     "output_type": "execute_result"
    }
   ],
   "source": [
    "df_new_products_grouped.loc[(0.5, 3), columns].round(3).sort_values(by='mapk', ascending=False)"
   ]
  },
  {
   "cell_type": "markdown",
   "metadata": {
    "slideshow": {
     "slide_type": "slide"
    }
   },
   "source": [
    "### Threshold = 0.5, k=5"
   ]
  },
  {
   "cell_type": "code",
   "execution_count": 16,
   "metadata": {
    "slideshow": {
     "slide_type": "fragment"
    }
   },
   "outputs": [
    {
     "data": {
      "text/html": [
       "<div>\n",
       "<style scoped>\n",
       "    .dataframe tbody tr th:only-of-type {\n",
       "        vertical-align: middle;\n",
       "    }\n",
       "\n",
       "    .dataframe tbody tr th {\n",
       "        vertical-align: top;\n",
       "    }\n",
       "\n",
       "    .dataframe thead th {\n",
       "        text-align: right;\n",
       "    }\n",
       "</style>\n",
       "<table border=\"1\" class=\"dataframe\">\n",
       "  <thead>\n",
       "    <tr style=\"text-align: right;\">\n",
       "      <th></th>\n",
       "      <th>f1_micro</th>\n",
       "      <th>f1_macro</th>\n",
       "      <th>mapk</th>\n",
       "      <th>p@k</th>\n",
       "      <th>r@k</th>\n",
       "    </tr>\n",
       "    <tr>\n",
       "      <th>config_name</th>\n",
       "      <th></th>\n",
       "      <th></th>\n",
       "      <th></th>\n",
       "      <th></th>\n",
       "      <th></th>\n",
       "    </tr>\n",
       "  </thead>\n",
       "  <tbody>\n",
       "    <tr>\n",
       "      <th>Benchmark: implicit feedback</th>\n",
       "      <td>0.090</td>\n",
       "      <td>0.076</td>\n",
       "      <td>0.183</td>\n",
       "      <td>0.122</td>\n",
       "      <td>0.311</td>\n",
       "    </tr>\n",
       "    <tr>\n",
       "      <th>Benchmark: Multi-label classification with extended RFM features</th>\n",
       "      <td>0.191</td>\n",
       "      <td>0.057</td>\n",
       "      <td>0.128</td>\n",
       "      <td>0.735</td>\n",
       "      <td>0.128</td>\n",
       "    </tr>\n",
       "    <tr>\n",
       "      <th>Benchmark: popular vote</th>\n",
       "      <td>0.107</td>\n",
       "      <td>0.018</td>\n",
       "      <td>0.084</td>\n",
       "      <td>0.068</td>\n",
       "      <td>0.249</td>\n",
       "    </tr>\n",
       "    <tr>\n",
       "      <th>Benchmark: Multi-label classification without network features</th>\n",
       "      <td>0.057</td>\n",
       "      <td>0.023</td>\n",
       "      <td>0.032</td>\n",
       "      <td>0.211</td>\n",
       "      <td>0.034</td>\n",
       "    </tr>\n",
       "    <tr>\n",
       "      <th>without vector space translation, with extended RFM features</th>\n",
       "      <td>0.037</td>\n",
       "      <td>0.012</td>\n",
       "      <td>0.023</td>\n",
       "      <td>0.859</td>\n",
       "      <td>0.023</td>\n",
       "    </tr>\n",
       "    <tr>\n",
       "      <th>XGBoost without vector space translation</th>\n",
       "      <td>0.036</td>\n",
       "      <td>0.013</td>\n",
       "      <td>0.021</td>\n",
       "      <td>0.358</td>\n",
       "      <td>0.022</td>\n",
       "    </tr>\n",
       "    <tr>\n",
       "      <th>Random Forest with original features without vector space translation</th>\n",
       "      <td>0.003</td>\n",
       "      <td>0.001</td>\n",
       "      <td>0.002</td>\n",
       "      <td>0.637</td>\n",
       "      <td>0.002</td>\n",
       "    </tr>\n",
       "    <tr>\n",
       "      <th>Benchmark: explicit feedback</th>\n",
       "      <td>0.004</td>\n",
       "      <td>0.010</td>\n",
       "      <td>0.001</td>\n",
       "      <td>0.139</td>\n",
       "      <td>0.001</td>\n",
       "    </tr>\n",
       "  </tbody>\n",
       "</table>\n",
       "</div>"
      ],
      "text/plain": [
       "                                                    f1_micro  f1_macro   mapk  \\\n",
       "config_name                                                                     \n",
       "Benchmark: implicit feedback                           0.090     0.076  0.183   \n",
       "Benchmark: Multi-label classification with exte...     0.191     0.057  0.128   \n",
       "Benchmark: popular vote                                0.107     0.018  0.084   \n",
       "Benchmark: Multi-label classification without n...     0.057     0.023  0.032   \n",
       "without vector space translation, with extended...     0.037     0.012  0.023   \n",
       "XGBoost without vector space translation               0.036     0.013  0.021   \n",
       "Random Forest with original features without ve...     0.003     0.001  0.002   \n",
       "Benchmark: explicit feedback                           0.004     0.010  0.001   \n",
       "\n",
       "                                                      p@k    r@k  \n",
       "config_name                                                       \n",
       "Benchmark: implicit feedback                        0.122  0.311  \n",
       "Benchmark: Multi-label classification with exte...  0.735  0.128  \n",
       "Benchmark: popular vote                             0.068  0.249  \n",
       "Benchmark: Multi-label classification without n...  0.211  0.034  \n",
       "without vector space translation, with extended...  0.859  0.023  \n",
       "XGBoost without vector space translation            0.358  0.022  \n",
       "Random Forest with original features without ve...  0.637  0.002  \n",
       "Benchmark: explicit feedback                        0.139  0.001  "
      ]
     },
     "execution_count": 16,
     "metadata": {},
     "output_type": "execute_result"
    }
   ],
   "source": [
    "df_new_products_grouped.loc[(0.5, 5), columns].round(3).sort_values(by='mapk', ascending=False)"
   ]
  },
  {
   "cell_type": "markdown",
   "metadata": {
    "slideshow": {
     "slide_type": "slide"
    }
   },
   "source": [
    "### Threshold = 0.0, k=1"
   ]
  },
  {
   "cell_type": "code",
   "execution_count": 17,
   "metadata": {
    "slideshow": {
     "slide_type": "fragment"
    }
   },
   "outputs": [
    {
     "data": {
      "text/html": [
       "<div>\n",
       "<style scoped>\n",
       "    .dataframe tbody tr th:only-of-type {\n",
       "        vertical-align: middle;\n",
       "    }\n",
       "\n",
       "    .dataframe tbody tr th {\n",
       "        vertical-align: top;\n",
       "    }\n",
       "\n",
       "    .dataframe thead th {\n",
       "        text-align: right;\n",
       "    }\n",
       "</style>\n",
       "<table border=\"1\" class=\"dataframe\">\n",
       "  <thead>\n",
       "    <tr style=\"text-align: right;\">\n",
       "      <th></th>\n",
       "      <th>f1_micro</th>\n",
       "      <th>f1_macro</th>\n",
       "      <th>mapk</th>\n",
       "      <th>p@k</th>\n",
       "      <th>r@k</th>\n",
       "    </tr>\n",
       "    <tr>\n",
       "      <th>config_name</th>\n",
       "      <th></th>\n",
       "      <th></th>\n",
       "      <th></th>\n",
       "      <th></th>\n",
       "      <th></th>\n",
       "    </tr>\n",
       "  </thead>\n",
       "  <tbody>\n",
       "    <tr>\n",
       "      <th>Benchmark: Multi-label classification with extended RFM features</th>\n",
       "      <td>0.115</td>\n",
       "      <td>0.093</td>\n",
       "      <td>0.340</td>\n",
       "      <td>0.344</td>\n",
       "      <td>0.287</td>\n",
       "    </tr>\n",
       "    <tr>\n",
       "      <th>without vector space translation, with extended RFM features</th>\n",
       "      <td>0.098</td>\n",
       "      <td>0.080</td>\n",
       "      <td>0.325</td>\n",
       "      <td>0.334</td>\n",
       "      <td>0.275</td>\n",
       "    </tr>\n",
       "    <tr>\n",
       "      <th>Random Forest with original features without vector space translation</th>\n",
       "      <td>0.095</td>\n",
       "      <td>0.078</td>\n",
       "      <td>0.224</td>\n",
       "      <td>0.234</td>\n",
       "      <td>0.200</td>\n",
       "    </tr>\n",
       "    <tr>\n",
       "      <th>XGBoost without vector space translation</th>\n",
       "      <td>0.079</td>\n",
       "      <td>0.076</td>\n",
       "      <td>0.167</td>\n",
       "      <td>0.165</td>\n",
       "      <td>0.134</td>\n",
       "    </tr>\n",
       "    <tr>\n",
       "      <th>Benchmark: Multi-label classification without network features</th>\n",
       "      <td>0.109</td>\n",
       "      <td>0.080</td>\n",
       "      <td>0.152</td>\n",
       "      <td>0.156</td>\n",
       "      <td>0.131</td>\n",
       "    </tr>\n",
       "    <tr>\n",
       "      <th>Benchmark: implicit feedback</th>\n",
       "      <td>0.072</td>\n",
       "      <td>0.069</td>\n",
       "      <td>0.139</td>\n",
       "      <td>0.139</td>\n",
       "      <td>0.106</td>\n",
       "    </tr>\n",
       "    <tr>\n",
       "      <th>Benchmark: popular vote</th>\n",
       "      <td>0.019</td>\n",
       "      <td>0.001</td>\n",
       "      <td>0.022</td>\n",
       "      <td>0.022</td>\n",
       "      <td>0.011</td>\n",
       "    </tr>\n",
       "    <tr>\n",
       "      <th>Benchmark: explicit feedback</th>\n",
       "      <td>0.074</td>\n",
       "      <td>0.071</td>\n",
       "      <td>0.005</td>\n",
       "      <td>0.013</td>\n",
       "      <td>0.011</td>\n",
       "    </tr>\n",
       "  </tbody>\n",
       "</table>\n",
       "</div>"
      ],
      "text/plain": [
       "                                                    f1_micro  f1_macro   mapk  \\\n",
       "config_name                                                                     \n",
       "Benchmark: Multi-label classification with exte...     0.115     0.093  0.340   \n",
       "without vector space translation, with extended...     0.098     0.080  0.325   \n",
       "Random Forest with original features without ve...     0.095     0.078  0.224   \n",
       "XGBoost without vector space translation               0.079     0.076  0.167   \n",
       "Benchmark: Multi-label classification without n...     0.109     0.080  0.152   \n",
       "Benchmark: implicit feedback                           0.072     0.069  0.139   \n",
       "Benchmark: popular vote                                0.019     0.001  0.022   \n",
       "Benchmark: explicit feedback                           0.074     0.071  0.005   \n",
       "\n",
       "                                                      p@k    r@k  \n",
       "config_name                                                       \n",
       "Benchmark: Multi-label classification with exte...  0.344  0.287  \n",
       "without vector space translation, with extended...  0.334  0.275  \n",
       "Random Forest with original features without ve...  0.234  0.200  \n",
       "XGBoost without vector space translation            0.165  0.134  \n",
       "Benchmark: Multi-label classification without n...  0.156  0.131  \n",
       "Benchmark: implicit feedback                        0.139  0.106  \n",
       "Benchmark: popular vote                             0.022  0.011  \n",
       "Benchmark: explicit feedback                        0.013  0.011  "
      ]
     },
     "execution_count": 17,
     "metadata": {},
     "output_type": "execute_result"
    }
   ],
   "source": [
    "df_new_products_grouped.loc[(0.0, 1), columns].round(3).sort_values(by='mapk', ascending=False)"
   ]
  },
  {
   "cell_type": "markdown",
   "metadata": {
    "slideshow": {
     "slide_type": "slide"
    }
   },
   "source": [
    "### Threshold = 0.0, k=3"
   ]
  },
  {
   "cell_type": "code",
   "execution_count": 18,
   "metadata": {
    "slideshow": {
     "slide_type": "fragment"
    }
   },
   "outputs": [
    {
     "data": {
      "text/html": [
       "<div>\n",
       "<style scoped>\n",
       "    .dataframe tbody tr th:only-of-type {\n",
       "        vertical-align: middle;\n",
       "    }\n",
       "\n",
       "    .dataframe tbody tr th {\n",
       "        vertical-align: top;\n",
       "    }\n",
       "\n",
       "    .dataframe thead th {\n",
       "        text-align: right;\n",
       "    }\n",
       "</style>\n",
       "<table border=\"1\" class=\"dataframe\">\n",
       "  <thead>\n",
       "    <tr style=\"text-align: right;\">\n",
       "      <th></th>\n",
       "      <th>f1_micro</th>\n",
       "      <th>f1_macro</th>\n",
       "      <th>mapk</th>\n",
       "      <th>p@k</th>\n",
       "      <th>r@k</th>\n",
       "    </tr>\n",
       "    <tr>\n",
       "      <th>config_name</th>\n",
       "      <th></th>\n",
       "      <th></th>\n",
       "      <th></th>\n",
       "      <th></th>\n",
       "      <th></th>\n",
       "    </tr>\n",
       "  </thead>\n",
       "  <tbody>\n",
       "    <tr>\n",
       "      <th>Benchmark: Multi-label classification with extended RFM features</th>\n",
       "      <td>0.115</td>\n",
       "      <td>0.092</td>\n",
       "      <td>0.377</td>\n",
       "      <td>0.207</td>\n",
       "      <td>0.485</td>\n",
       "    </tr>\n",
       "    <tr>\n",
       "      <th>without vector space translation, with extended RFM features</th>\n",
       "      <td>0.098</td>\n",
       "      <td>0.080</td>\n",
       "      <td>0.360</td>\n",
       "      <td>0.201</td>\n",
       "      <td>0.466</td>\n",
       "    </tr>\n",
       "    <tr>\n",
       "      <th>Random Forest with original features without vector space translation</th>\n",
       "      <td>0.095</td>\n",
       "      <td>0.078</td>\n",
       "      <td>0.253</td>\n",
       "      <td>0.146</td>\n",
       "      <td>0.349</td>\n",
       "    </tr>\n",
       "    <tr>\n",
       "      <th>Random Forest without vector space translation</th>\n",
       "      <td>0.095</td>\n",
       "      <td>0.078</td>\n",
       "      <td>0.253</td>\n",
       "      <td>0.145</td>\n",
       "      <td>0.347</td>\n",
       "    </tr>\n",
       "    <tr>\n",
       "      <th>XGBoost without vector space translation</th>\n",
       "      <td>0.079</td>\n",
       "      <td>0.076</td>\n",
       "      <td>0.206</td>\n",
       "      <td>0.123</td>\n",
       "      <td>0.289</td>\n",
       "    </tr>\n",
       "    <tr>\n",
       "      <th>Benchmark: Multi-label classification without network features</th>\n",
       "      <td>0.110</td>\n",
       "      <td>0.080</td>\n",
       "      <td>0.186</td>\n",
       "      <td>0.110</td>\n",
       "      <td>0.263</td>\n",
       "    </tr>\n",
       "    <tr>\n",
       "      <th>Benchmark: implicit feedback</th>\n",
       "      <td>0.074</td>\n",
       "      <td>0.070</td>\n",
       "      <td>0.153</td>\n",
       "      <td>0.106</td>\n",
       "      <td>0.238</td>\n",
       "    </tr>\n",
       "    <tr>\n",
       "      <th>Benchmark: popular vote</th>\n",
       "      <td>0.058</td>\n",
       "      <td>0.007</td>\n",
       "      <td>0.045</td>\n",
       "      <td>0.042</td>\n",
       "      <td>0.079</td>\n",
       "    </tr>\n",
       "    <tr>\n",
       "      <th>Benchmark: explicit feedback</th>\n",
       "      <td>0.074</td>\n",
       "      <td>0.071</td>\n",
       "      <td>0.013</td>\n",
       "      <td>0.012</td>\n",
       "      <td>0.026</td>\n",
       "    </tr>\n",
       "  </tbody>\n",
       "</table>\n",
       "</div>"
      ],
      "text/plain": [
       "                                                    f1_micro  f1_macro   mapk  \\\n",
       "config_name                                                                     \n",
       "Benchmark: Multi-label classification with exte...     0.115     0.092  0.377   \n",
       "without vector space translation, with extended...     0.098     0.080  0.360   \n",
       "Random Forest with original features without ve...     0.095     0.078  0.253   \n",
       "Random Forest without vector space translation         0.095     0.078  0.253   \n",
       "XGBoost without vector space translation               0.079     0.076  0.206   \n",
       "Benchmark: Multi-label classification without n...     0.110     0.080  0.186   \n",
       "Benchmark: implicit feedback                           0.074     0.070  0.153   \n",
       "Benchmark: popular vote                                0.058     0.007  0.045   \n",
       "Benchmark: explicit feedback                           0.074     0.071  0.013   \n",
       "\n",
       "                                                      p@k    r@k  \n",
       "config_name                                                       \n",
       "Benchmark: Multi-label classification with exte...  0.207  0.485  \n",
       "without vector space translation, with extended...  0.201  0.466  \n",
       "Random Forest with original features without ve...  0.146  0.349  \n",
       "Random Forest without vector space translation      0.145  0.347  \n",
       "XGBoost without vector space translation            0.123  0.289  \n",
       "Benchmark: Multi-label classification without n...  0.110  0.263  \n",
       "Benchmark: implicit feedback                        0.106  0.238  \n",
       "Benchmark: popular vote                             0.042  0.079  \n",
       "Benchmark: explicit feedback                        0.012  0.026  "
      ]
     },
     "execution_count": 18,
     "metadata": {},
     "output_type": "execute_result"
    }
   ],
   "source": [
    "df_new_products_grouped.loc[(0.0, 3), columns].round(3).sort_values(by='mapk', ascending=False)"
   ]
  },
  {
   "cell_type": "markdown",
   "metadata": {
    "slideshow": {
     "slide_type": "slide"
    }
   },
   "source": [
    "### Threshold = 0.0, k=5"
   ]
  },
  {
   "cell_type": "code",
   "execution_count": 19,
   "metadata": {
    "slideshow": {
     "slide_type": "fragment"
    }
   },
   "outputs": [
    {
     "data": {
      "text/html": [
       "<div>\n",
       "<style scoped>\n",
       "    .dataframe tbody tr th:only-of-type {\n",
       "        vertical-align: middle;\n",
       "    }\n",
       "\n",
       "    .dataframe tbody tr th {\n",
       "        vertical-align: top;\n",
       "    }\n",
       "\n",
       "    .dataframe thead th {\n",
       "        text-align: right;\n",
       "    }\n",
       "</style>\n",
       "<table border=\"1\" class=\"dataframe\">\n",
       "  <thead>\n",
       "    <tr style=\"text-align: right;\">\n",
       "      <th></th>\n",
       "      <th>f1_micro</th>\n",
       "      <th>f1_macro</th>\n",
       "      <th>mapk</th>\n",
       "      <th>p@k</th>\n",
       "      <th>r@k</th>\n",
       "    </tr>\n",
       "    <tr>\n",
       "      <th>config_name</th>\n",
       "      <th></th>\n",
       "      <th></th>\n",
       "      <th></th>\n",
       "      <th></th>\n",
       "      <th></th>\n",
       "    </tr>\n",
       "  </thead>\n",
       "  <tbody>\n",
       "    <tr>\n",
       "      <th>Benchmark: Multi-label classification with extended RFM features</th>\n",
       "      <td>0.115</td>\n",
       "      <td>0.092</td>\n",
       "      <td>0.404</td>\n",
       "      <td>0.158</td>\n",
       "      <td>0.606</td>\n",
       "    </tr>\n",
       "    <tr>\n",
       "      <th>without vector space translation, with extended RFM features</th>\n",
       "      <td>0.097</td>\n",
       "      <td>0.080</td>\n",
       "      <td>0.388</td>\n",
       "      <td>0.152</td>\n",
       "      <td>0.581</td>\n",
       "    </tr>\n",
       "    <tr>\n",
       "      <th>Random Forest with original features without vector space translation</th>\n",
       "      <td>0.095</td>\n",
       "      <td>0.078</td>\n",
       "      <td>0.280</td>\n",
       "      <td>0.120</td>\n",
       "      <td>0.467</td>\n",
       "    </tr>\n",
       "    <tr>\n",
       "      <th>XGBoost without vector space translation</th>\n",
       "      <td>0.079</td>\n",
       "      <td>0.076</td>\n",
       "      <td>0.232</td>\n",
       "      <td>0.105</td>\n",
       "      <td>0.404</td>\n",
       "    </tr>\n",
       "    <tr>\n",
       "      <th>Benchmark: implicit feedback</th>\n",
       "      <td>0.075</td>\n",
       "      <td>0.071</td>\n",
       "      <td>0.212</td>\n",
       "      <td>0.114</td>\n",
       "      <td>0.427</td>\n",
       "    </tr>\n",
       "    <tr>\n",
       "      <th>Benchmark: Multi-label classification without network features</th>\n",
       "      <td>0.110</td>\n",
       "      <td>0.080</td>\n",
       "      <td>0.206</td>\n",
       "      <td>0.095</td>\n",
       "      <td>0.371</td>\n",
       "    </tr>\n",
       "    <tr>\n",
       "      <th>Benchmark: popular vote</th>\n",
       "      <td>0.107</td>\n",
       "      <td>0.018</td>\n",
       "      <td>0.084</td>\n",
       "      <td>0.068</td>\n",
       "      <td>0.249</td>\n",
       "    </tr>\n",
       "    <tr>\n",
       "      <th>Benchmark: explicit feedback</th>\n",
       "      <td>0.074</td>\n",
       "      <td>0.071</td>\n",
       "      <td>0.022</td>\n",
       "      <td>0.020</td>\n",
       "      <td>0.071</td>\n",
       "    </tr>\n",
       "  </tbody>\n",
       "</table>\n",
       "</div>"
      ],
      "text/plain": [
       "                                                    f1_micro  f1_macro   mapk  \\\n",
       "config_name                                                                     \n",
       "Benchmark: Multi-label classification with exte...     0.115     0.092  0.404   \n",
       "without vector space translation, with extended...     0.097     0.080  0.388   \n",
       "Random Forest with original features without ve...     0.095     0.078  0.280   \n",
       "XGBoost without vector space translation               0.079     0.076  0.232   \n",
       "Benchmark: implicit feedback                           0.075     0.071  0.212   \n",
       "Benchmark: Multi-label classification without n...     0.110     0.080  0.206   \n",
       "Benchmark: popular vote                                0.107     0.018  0.084   \n",
       "Benchmark: explicit feedback                           0.074     0.071  0.022   \n",
       "\n",
       "                                                      p@k    r@k  \n",
       "config_name                                                       \n",
       "Benchmark: Multi-label classification with exte...  0.158  0.606  \n",
       "without vector space translation, with extended...  0.152  0.581  \n",
       "Random Forest with original features without ve...  0.120  0.467  \n",
       "XGBoost without vector space translation            0.105  0.404  \n",
       "Benchmark: implicit feedback                        0.114  0.427  \n",
       "Benchmark: Multi-label classification without n...  0.095  0.371  \n",
       "Benchmark: popular vote                             0.068  0.249  \n",
       "Benchmark: explicit feedback                        0.020  0.071  "
      ]
     },
     "execution_count": 19,
     "metadata": {},
     "output_type": "execute_result"
    }
   ],
   "source": [
    "df_new_products_grouped.loc[(0.0, 5), columns].round(3).sort_values(by='mapk', ascending=False)"
   ]
  },
  {
   "cell_type": "code",
   "execution_count": 20,
   "metadata": {
    "slideshow": {
     "slide_type": "skip"
    }
   },
   "outputs": [
    {
     "data": {
      "text/plain": [
       "Random Forest with vector space translation                              30\n",
       "Benchmark: popular vote                                                  30\n",
       "Benchmark: Multi-label classification without network features           30\n",
       "Benchmark: implicit feedback                                             30\n",
       "Benchmark: Multi-label classification with extended RFM features         30\n",
       "Random Forest with original features without vector space translation    30\n",
       "XGBoost without vector space translation                                 30\n",
       "Benchmark: explicit feedback                                             30\n",
       "XGBoost with vector space translation                                    30\n",
       "Random Forest without vector space translation                           30\n",
       "Name: config_name, dtype: int64"
      ]
     },
     "execution_count": 20,
     "metadata": {},
     "output_type": "execute_result"
    }
   ],
   "source": [
    "df_all_products.config_name.value_counts()"
   ]
  },
  {
   "cell_type": "markdown",
   "metadata": {
    "slideshow": {
     "slide_type": "slide"
    }
   },
   "source": [
    "## Visualizations"
   ]
  },
  {
   "cell_type": "code",
   "execution_count": 21,
   "metadata": {
    "slideshow": {
     "slide_type": "skip"
    }
   },
   "outputs": [],
   "source": [
    "configs_to_visualize = [\"Random Forest without vector space translation\",\n",
    "                        \"XGBoost without vector space translation\",\n",
    "                       \"Random Forest with original features without vector space translation\",\n",
    "                       \"Benchmark: Multi-label classification with extended RFM features\",\n",
    "                       \"Benchmark: Multi-label classification without network features\"]"
   ]
  },
  {
   "cell_type": "code",
   "execution_count": 22,
   "metadata": {
    "slideshow": {
     "slide_type": "skip"
    }
   },
   "outputs": [
    {
     "ename": "NameError",
     "evalue": "name 'data_to_visualize' is not defined",
     "output_type": "error",
     "traceback": [
      "\u001b[0;31m---------------------------------------------------------------------------\u001b[0m",
      "\u001b[0;31mNameError\u001b[0m                                 Traceback (most recent call last)",
      "\u001b[0;32m<ipython-input-22-5caeff0c3d82>\u001b[0m in \u001b[0;36m<module>\u001b[0;34m\u001b[0m\n\u001b[0;32m----> 1\u001b[0;31m \u001b[0mdata_to_visualize\u001b[0m\u001b[0;34m.\u001b[0m\u001b[0mloc\u001b[0m\u001b[0;34m[\u001b[0m\u001b[0;34m:\u001b[0m\u001b[0;34m,\u001b[0m \u001b[0;34m'k'\u001b[0m\u001b[0;34m]\u001b[0m \u001b[0;34m=\u001b[0m \u001b[0mdata_to_visualize\u001b[0m\u001b[0;34m.\u001b[0m\u001b[0mloc\u001b[0m\u001b[0;34m[\u001b[0m\u001b[0;34m:\u001b[0m\u001b[0;34m,\u001b[0m \u001b[0;34m'k'\u001b[0m\u001b[0;34m]\u001b[0m\u001b[0;34m.\u001b[0m\u001b[0mastype\u001b[0m\u001b[0;34m(\u001b[0m\u001b[0;34m'category'\u001b[0m\u001b[0;34m)\u001b[0m\u001b[0;34m\u001b[0m\u001b[0;34m\u001b[0m\u001b[0m\n\u001b[0m",
      "\u001b[0;31mNameError\u001b[0m: name 'data_to_visualize' is not defined"
     ]
    }
   ],
   "source": [
    "data_to_visualize.loc[:, 'k'] = data_to_visualize.loc[:, 'k'].astype('category')"
   ]
  },
  {
   "cell_type": "code",
   "execution_count": 23,
   "metadata": {
    "slideshow": {
     "slide_type": "skip"
    }
   },
   "outputs": [
    {
     "data": {
      "text/plain": [
       "<matplotlib.axes._subplots.AxesSubplot at 0x7fa660e12b90>"
      ]
     },
     "execution_count": 23,
     "metadata": {},
     "output_type": "execute_result"
    },
    {
     "data": {
      "image/png": "[encoded data removed]",
      "text/plain": [
       "<Figure size 1080x1080 with 1 Axes>"
      ]
     },
     "metadata": {
      "needs_background": "light"
     },
     "output_type": "display_data"
    }
   ],
   "source": [
    "\n",
    "data_to_visualize = df_all_products[df_all_products.config_name.isin(configs_to_visualize)]\n",
    "import matplotlib.pyplot as plt\n",
    "\n",
    "fig, ax = plt.subplots(figsize=(15,15))\n",
    "sns.lineplot(x=\"k\", y=\"mapk\",\n",
    "             hue=\"config_name\",\n",
    "             \n",
    "             markers=True,\n",
    "             dashes=False,\n",
    "             sizes=10,\n",
    "             data=data_to_visualize, \n",
    "            ax = ax\n",
    "            , marker='o', markersize=12\n",
    "               )"
   ]
  },
  {
   "cell_type": "markdown",
   "metadata": {
    "slideshow": {
     "slide_type": "skip"
    }
   },
   "source": [
    "## Bokeh Plotting"
   ]
  },
  {
   "cell_type": "code",
   "execution_count": 24,
   "metadata": {
    "slideshow": {
     "slide_type": "skip"
    }
   },
   "outputs": [
    {
     "data": {
      "text/html": [
       "\n",
       "    <div class=\"bk-root\">\n",
       "        <a href=\"https://bokeh.org\" target=\"_blank\" class=\"bk-logo bk-logo-small bk-logo-notebook\"></a>\n",
       "        <span id=\"1001\">Loading BokehJS ...</span>\n",
       "    </div>"
      ]
     },
     "metadata": {},
     "output_type": "display_data"
    },
    {
     "data": {
      "application/javascript": [
       "\n",
       "(function(root) {\n",
       "  function now() {\n",
       "    return new Date();\n",
       "  }\n",
       "\n",
       "  var force = true;\n",
       "\n",
       "  if (typeof root._bokeh_onload_callbacks === \"undefined\" || force === true) {\n",
       "    root._bokeh_onload_callbacks = [];\n",
       "    root._bokeh_is_loading = undefined;\n",
       "  }\n",
       "\n",
       "  var JS_MIME_TYPE = 'application/javascript';\n",
       "  var HTML_MIME_TYPE = 'text/html';\n",
       "  var EXEC_MIME_TYPE = 'application/vnd.bokehjs_exec.v0+json';\n",
       "  var CLASS_NAME = 'output_bokeh rendered_html';\n",
       "\n",
       "  /**\n",
       "   * Render data to the DOM node\n",
       "   */\n",
       "  function render(props, node) {\n",
       "    var script = document.createElement(\"script\");\n",
       "    node.appendChild(script);\n",
       "  }\n",
       "\n",
       "  /**\n",
       "   * Handle when an output is cleared or removed\n",
       "   */\n",
       "  function handleClearOutput(event, handle) {\n",
       "    var cell = handle.cell;\n",
       "\n",
       "    var id = cell.output_area._bokeh_element_id;\n",
       "    var server_id = cell.output_area._bokeh_server_id;\n",
       "    // Clean up Bokeh references\n",
       "    if (id != null && id in Bokeh.index) {\n",
       "      Bokeh.index[id].model.document.clear();\n",
       "      delete Bokeh.index[id];\n",
       "    }\n",
       "\n",
       "    if (server_id !== undefined) {\n",
       "      // Clean up Bokeh references\n",
       "      var cmd = \"from bokeh.io.state import curstate; print(curstate().uuid_to_server['\" + server_id + \"'].get_sessions()[0].document.roots[0]._id)\";\n",
       "      cell.notebook.kernel.execute(cmd, {\n",
       "        iopub: {\n",
       "          output: function(msg) {\n",
       "            var id = msg.content.text.trim();\n",
       "            if (id in Bokeh.index) {\n",
       "              Bokeh.index[id].model.document.clear();\n",
       "              delete Bokeh.index[id];\n",
       "            }\n",
       "          }\n",
       "        }\n",
       "      });\n",
       "      // Destroy server and session\n",
       "      var cmd = \"import bokeh.io.notebook as ion; ion.destroy_server('\" + server_id + \"')\";\n",
       "      cell.notebook.kernel.execute(cmd);\n",
       "    }\n",
       "  }\n",
       "\n",
       "  /**\n",
       "   * Handle when a new output is added\n",
       "   */\n",
       "  function handleAddOutput(event, handle) {\n",
       "    var output_area = handle.output_area;\n",
       "    var output = handle.output;\n",
       "\n",
       "    // limit handleAddOutput to display_data with EXEC_MIME_TYPE content only\n",
       "    if ((output.output_type != \"display_data\") || (!output.data.hasOwnProperty(EXEC_MIME_TYPE))) {\n",
       "      return\n",
       "    }\n",
       "\n",
       "    var toinsert = output_area.element.find(\".\" + CLASS_NAME.split(' ')[0]);\n",
       "\n",
       "    if (output.metadata[EXEC_MIME_TYPE][\"id\"] !== undefined) {\n",
       "      toinsert[toinsert.length - 1].firstChild.textContent = output.data[JS_MIME_TYPE];\n",
       "      // store reference to embed id on output_area\n",
       "      output_area._bokeh_element_id = output.metadata[EXEC_MIME_TYPE][\"id\"];\n",
       "    }\n",
       "    if (output.metadata[EXEC_MIME_TYPE][\"server_id\"] !== undefined) {\n",
       "      var bk_div = document.createElement(\"div\");\n",
       "      bk_div.innerHTML = output.data[HTML_MIME_TYPE];\n",
       "      var script_attrs = bk_div.children[0].attributes;\n",
       "      for (var i = 0; i < script_attrs.length; i++) {\n",
       "        toinsert[toinsert.length - 1].firstChild.setAttribute(script_attrs[i].name, script_attrs[i].value);\n",
       "        toinsert[toinsert.length - 1].firstChild.textContent = bk_div.children[0].textContent\n",
       "      }\n",
       "      // store reference to server id on output_area\n",
       "      output_area._bokeh_server_id = output.metadata[EXEC_MIME_TYPE][\"server_id\"];\n",
       "    }\n",
       "  }\n",
       "\n",
       "  function register_renderer(events, OutputArea) {\n",
       "\n",
       "    function append_mime(data, metadata, element) {\n",
       "      // create a DOM node to render to\n",
       "      var toinsert = this.create_output_subarea(\n",
       "        metadata,\n",
       "        CLASS_NAME,\n",
       "        EXEC_MIME_TYPE\n",
       "      );\n",
       "      this.keyboard_manager.register_events(toinsert);\n",
       "      // Render to node\n",
       "      var props = {data: data, metadata: metadata[EXEC_MIME_TYPE]};\n",
       "      render(props, toinsert[toinsert.length - 1]);\n",
       "      element.append(toinsert);\n",
       "      return toinsert\n",
       "    }\n",
       "\n",
       "    /* Handle when an output is cleared or removed */\n",
       "    events.on('clear_output.CodeCell', handleClearOutput);\n",
       "    events.on('delete.Cell', handleClearOutput);\n",
       "\n",
       "    /* Handle when a new output is added */\n",
       "    events.on('output_added.OutputArea', handleAddOutput);\n",
       "\n",
       "    /**\n",
       "     * Register the mime type and append_mime function with output_area\n",
       "     */\n",
       "    OutputArea.prototype.register_mime_type(EXEC_MIME_TYPE, append_mime, {\n",
       "      /* Is output safe? */\n",
       "      safe: true,\n",
       "      /* Index of renderer in `output_area.display_order` */\n",
       "      index: 0\n",
       "    });\n",
       "  }\n",
       "\n",
       "  // register the mime type if in Jupyter Notebook environment and previously unregistered\n",
       "  if (root.Jupyter !== undefined) {\n",
       "    var events = require('base/js/events');\n",
       "    var OutputArea = require('notebook/js/outputarea').OutputArea;\n",
       "\n",
       "    if (OutputArea.prototype.mime_types().indexOf(EXEC_MIME_TYPE) == -1) {\n",
       "      register_renderer(events, OutputArea);\n",
       "    }\n",
       "  }\n",
       "\n",
       "  \n",
       "  if (typeof (root._bokeh_timeout) === \"undefined\" || force === true) {\n",
       "    root._bokeh_timeout = Date.now() + 5000;\n",
       "    root._bokeh_failed_load = false;\n",
       "  }\n",
       "\n",
       "  var NB_LOAD_WARNING = {'data': {'text/html':\n",
       "     \"<div style='background-color: #fdd'>\\n\"+\n",
       "     \"<p>\\n\"+\n",
       "     \"BokehJS does not appear to have successfully loaded. If loading BokehJS from CDN, this \\n\"+\n",
       "     \"may be due to a slow or bad network connection. Possible fixes:\\n\"+\n",
       "     \"</p>\\n\"+\n",
       "     \"<ul>\\n\"+\n",
       "     \"<li>re-rerun `output_notebook()` to attempt to load from CDN again, or</li>\\n\"+\n",
       "     \"<li>use INLINE resources instead, as so:</li>\\n\"+\n",
       "     \"</ul>\\n\"+\n",
       "     \"<code>\\n\"+\n",
       "     \"from bokeh.resources import INLINE\\n\"+\n",
       "     \"output_notebook(resources=INLINE)\\n\"+\n",
       "     \"</code>\\n\"+\n",
       "     \"</div>\"}};\n",
       "\n",
       "  function display_loaded() {\n",
       "    var el = document.getElementById(\"1001\");\n",
       "    if (el != null) {\n",
       "      el.textContent = \"BokehJS is loading...\";\n",
       "    }\n",
       "    if (root.Bokeh !== undefined) {\n",
       "      if (el != null) {\n",
       "        el.textContent = \"BokehJS \" + root.Bokeh.version + \" successfully loaded.\";\n",
       "      }\n",
       "    } else if (Date.now() < root._bokeh_timeout) {\n",
       "      setTimeout(display_loaded, 100)\n",
       "    }\n",
       "  }\n",
       "\n",
       "\n",
       "  function run_callbacks() {\n",
       "    try {\n",
       "      root._bokeh_onload_callbacks.forEach(function(callback) {\n",
       "        if (callback != null)\n",
       "          callback();\n",
       "      });\n",
       "    } finally {\n",
       "      delete root._bokeh_onload_callbacks\n",
       "    }\n",
       "    console.debug(\"Bokeh: all callbacks have finished\");\n",
       "  }\n",
       "\n",
       "  function load_libs(css_urls, js_urls, callback) {\n",
       "    if (css_urls == null) css_urls = [];\n",
       "    if (js_urls == null) js_urls = [];\n",
       "\n",
       "    root._bokeh_onload_callbacks.push(callback);\n",
       "    if (root._bokeh_is_loading > 0) {\n",
       "      console.debug(\"Bokeh: BokehJS is being loaded, scheduling callback at\", now());\n",
       "      return null;\n",
       "    }\n",
       "    if (js_urls == null || js_urls.length === 0) {\n",
       "      run_callbacks();\n",
       "      return null;\n",
       "    }\n",
       "    console.debug(\"Bokeh: BokehJS not loaded, scheduling load and callback at\", now());\n",
       "    root._bokeh_is_loading = css_urls.length + js_urls.length;\n",
       "\n",
       "    function on_load() {\n",
       "      root._bokeh_is_loading--;\n",
       "      if (root._bokeh_is_loading === 0) {\n",
       "        console.debug(\"Bokeh: all BokehJS libraries/stylesheets loaded\");\n",
       "        run_callbacks()\n",
       "      }\n",
       "    }\n",
       "\n",
       "    function on_error() {\n",
       "      console.error(\"failed to load \" + url);\n",
       "    }\n",
       "\n",
       "    for (var i = 0; i < css_urls.length; i++) {\n",
       "      var url = css_urls[i];\n",
       "      const element = document.createElement(\"link\");\n",
       "      element.onload = on_load;\n",
       "      element.onerror = on_error;\n",
       "      element.rel = \"stylesheet\";\n",
       "      element.type = \"text/css\";\n",
       "      element.href = url;\n",
       "      console.debug(\"Bokeh: injecting link tag for BokehJS stylesheet: \", url);\n",
       "      document.body.appendChild(element);\n",
       "    }\n",
       "\n",
       "    const hashes = {\"https://cdn.bokeh.org/bokeh/release/bokeh-2.0.1.min.js\": \"JpP8FXbgAZLkfur7LiK3j9AGBhHNIvF742meBJrjO2ShJDhCG2I1uVvW+0DUtrmc\", \"https://cdn.bokeh.org/bokeh/release/bokeh-widgets-2.0.1.min.js\": \"xZlADit0Q04ISQEdKg2k3L4W9AwQBAuDs9nJL9fM/WwzL1tEU9VPNezOFX0nLEAz\", \"https://cdn.bokeh.org/bokeh/release/bokeh-tables-2.0.1.min.js\": \"4BuPRZkdMKSnj3zoxiNrQ86XgNw0rYmBOxe7nshquXwwcauupgBF2DHLVG1WuZlV\", \"https://cdn.bokeh.org/bokeh/release/bokeh-gl-2.0.1.min.js\": \"Dv1SQ87hmDqK6S5OhBf0bCuwAEvL5QYL0PuR/F1SPVhCS/r/abjkbpKDYL2zeM19\"};\n",
       "\n",
       "    for (var i = 0; i < js_urls.length; i++) {\n",
       "      var url = js_urls[i];\n",
       "      var element = document.createElement('script');\n",
       "      element.onload = on_load;\n",
       "      element.onerror = on_error;\n",
       "      element.async = false;\n",
       "      element.src = url;\n",
       "      if (url in hashes) {\n",
       "        element.crossOrigin = \"anonymous\";\n",
       "        element.integrity = \"sha384-\" + hashes[url];\n",
       "      }\n",
       "      console.debug(\"Bokeh: injecting script tag for BokehJS library: \", url);\n",
       "      document.head.appendChild(element);\n",
       "    }\n",
       "  };var element = document.getElementById(\"1001\");\n",
       "  if (element == null) {\n",
       "    console.error(\"Bokeh: ERROR: autoload.js configured with elementid '1001' but no matching script tag was found. \")\n",
       "    return false;\n",
       "  }\n",
       "\n",
       "  function inject_raw_css(css) {\n",
       "    const element = document.createElement(\"style\");\n",
       "    element.appendChild(document.createTextNode(css));\n",
       "    document.body.appendChild(element);\n",
       "  }\n",
       "\n",
       "  \n",
       "  var js_urls = [\"https://cdn.bokeh.org/bokeh/release/bokeh-2.0.1.min.js\", \"https://cdn.bokeh.org/bokeh/release/bokeh-widgets-2.0.1.min.js\", \"https://cdn.bokeh.org/bokeh/release/bokeh-tables-2.0.1.min.js\", \"https://cdn.bokeh.org/bokeh/release/bokeh-gl-2.0.1.min.js\"];\n",
       "  var css_urls = [];\n",
       "  \n",
       "\n",
       "  var inline_js = [\n",
       "    function(Bokeh) {\n",
       "      Bokeh.set_log_level(\"info\");\n",
       "    },\n",
       "    function(Bokeh) {\n",
       "    \n",
       "    \n",
       "    }\n",
       "  ];\n",
       "\n",
       "  function run_inline_js() {\n",
       "    \n",
       "    if (root.Bokeh !== undefined || force === true) {\n",
       "      \n",
       "    for (var i = 0; i < inline_js.length; i++) {\n",
       "      inline_js[i].call(root, root.Bokeh);\n",
       "    }\n",
       "    if (force === true) {\n",
       "        display_loaded();\n",
       "      }} else if (Date.now() < root._bokeh_timeout) {\n",
       "      setTimeout(run_inline_js, 100);\n",
       "    } else if (!root._bokeh_failed_load) {\n",
       "      console.log(\"Bokeh: BokehJS failed to load within specified timeout.\");\n",
       "      root._bokeh_failed_load = true;\n",
       "    } else if (force !== true) {\n",
       "      var cell = $(document.getElementById(\"1001\")).parents('.cell').data().cell;\n",
       "      cell.output_area.append_execute_result(NB_LOAD_WARNING)\n",
       "    }\n",
       "\n",
       "  }\n",
       "\n",
       "  if (root._bokeh_is_loading === 0) {\n",
       "    console.debug(\"Bokeh: BokehJS loaded, going straight to plotting\");\n",
       "    run_inline_js();\n",
       "  } else {\n",
       "    load_libs(css_urls, js_urls, function() {\n",
       "      console.debug(\"Bokeh: BokehJS plotting callback run at\", now());\n",
       "      run_inline_js();\n",
       "    });\n",
       "  }\n",
       "}(window));"
      ],
      "application/vnd.bokehjs_load.v0+json": "\n(function(root) {\n  function now() {\n    return new Date();\n  }\n\n  var force = true;\n\n  if (typeof root._bokeh_onload_callbacks === \"undefined\" || force === true) {\n    root._bokeh_onload_callbacks = [];\n    root._bokeh_is_loading = undefined;\n  }\n\n  \n\n  \n  if (typeof (root._bokeh_timeout) === \"undefined\" || force === true) {\n    root._bokeh_timeout = Date.now() + 5000;\n    root._bokeh_failed_load = false;\n  }\n\n  var NB_LOAD_WARNING = {'data': {'text/html':\n     \"<div style='background-color: #fdd'>\\n\"+\n     \"<p>\\n\"+\n     \"BokehJS does not appear to have successfully loaded. If loading BokehJS from CDN, this \\n\"+\n     \"may be due to a slow or bad network connection. Possible fixes:\\n\"+\n     \"</p>\\n\"+\n     \"<ul>\\n\"+\n     \"<li>re-rerun `output_notebook()` to attempt to load from CDN again, or</li>\\n\"+\n     \"<li>use INLINE resources instead, as so:</li>\\n\"+\n     \"</ul>\\n\"+\n     \"<code>\\n\"+\n     \"from bokeh.resources import INLINE\\n\"+\n     \"output_notebook(resources=INLINE)\\n\"+\n     \"</code>\\n\"+\n     \"</div>\"}};\n\n  function display_loaded() {\n    var el = document.getElementById(\"1001\");\n    if (el != null) {\n      el.textContent = \"BokehJS is loading...\";\n    }\n    if (root.Bokeh !== undefined) {\n      if (el != null) {\n        el.textContent = \"BokehJS \" + root.Bokeh.version + \" successfully loaded.\";\n      }\n    } else if (Date.now() < root._bokeh_timeout) {\n      setTimeout(display_loaded, 100)\n    }\n  }\n\n\n  function run_callbacks() {\n    try {\n      root._bokeh_onload_callbacks.forEach(function(callback) {\n        if (callback != null)\n          callback();\n      });\n    } finally {\n      delete root._bokeh_onload_callbacks\n    }\n    console.debug(\"Bokeh: all callbacks have finished\");\n  }\n\n  function load_libs(css_urls, js_urls, callback) {\n    if (css_urls == null) css_urls = [];\n    if (js_urls == null) js_urls = [];\n\n    root._bokeh_onload_callbacks.push(callback);\n    if (root._bokeh_is_loading > 0) {\n      console.debug(\"Bokeh: BokehJS is being loaded, scheduling callback at\", now());\n      return null;\n    }\n    if (js_urls == null || js_urls.length === 0) {\n      run_callbacks();\n      return null;\n    }\n    console.debug(\"Bokeh: BokehJS not loaded, scheduling load and callback at\", now());\n    root._bokeh_is_loading = css_urls.length + js_urls.length;\n\n    function on_load() {\n      root._bokeh_is_loading--;\n      if (root._bokeh_is_loading === 0) {\n        console.debug(\"Bokeh: all BokehJS libraries/stylesheets loaded\");\n        run_callbacks()\n      }\n    }\n\n    function on_error() {\n      console.error(\"failed to load \" + url);\n    }\n\n    for (var i = 0; i < css_urls.length; i++) {\n      var url = css_urls[i];\n      const element = document.createElement(\"link\");\n      element.onload = on_load;\n      element.onerror = on_error;\n      element.rel = \"stylesheet\";\n      element.type = \"text/css\";\n      element.href = url;\n      console.debug(\"Bokeh: injecting link tag for BokehJS stylesheet: \", url);\n      document.body.appendChild(element);\n    }\n\n    const hashes = {\"https://cdn.bokeh.org/bokeh/release/bokeh-2.0.1.min.js\": \"JpP8FXbgAZLkfur7LiK3j9AGBhHNIvF742meBJrjO2ShJDhCG2I1uVvW+0DUtrmc\", \"https://cdn.bokeh.org/bokeh/release/bokeh-widgets-2.0.1.min.js\": \"xZlADit0Q04ISQEdKg2k3L4W9AwQBAuDs9nJL9fM/WwzL1tEU9VPNezOFX0nLEAz\", \"https://cdn.bokeh.org/bokeh/release/bokeh-tables-2.0.1.min.js\": \"4BuPRZkdMKSnj3zoxiNrQ86XgNw0rYmBOxe7nshquXwwcauupgBF2DHLVG1WuZlV\", \"https://cdn.bokeh.org/bokeh/release/bokeh-gl-2.0.1.min.js\": \"Dv1SQ87hmDqK6S5OhBf0bCuwAEvL5QYL0PuR/F1SPVhCS/r/abjkbpKDYL2zeM19\"};\n\n    for (var i = 0; i < js_urls.length; i++) {\n      var url = js_urls[i];\n      var element = document.createElement('script');\n      element.onload = on_load;\n      element.onerror = on_error;\n      element.async = false;\n      element.src = url;\n      if (url in hashes) {\n        element.crossOrigin = \"anonymous\";\n        element.integrity = \"sha384-\" + hashes[url];\n      }\n      console.debug(\"Bokeh: injecting script tag for BokehJS library: \", url);\n      document.head.appendChild(element);\n    }\n  };var element = document.getElementById(\"1001\");\n  if (element == null) {\n    console.error(\"Bokeh: ERROR: autoload.js configured with elementid '1001' but no matching script tag was found. \")\n    return false;\n  }\n\n  function inject_raw_css(css) {\n    const element = document.createElement(\"style\");\n    element.appendChild(document.createTextNode(css));\n    document.body.appendChild(element);\n  }\n\n  \n  var js_urls = [\"https://cdn.bokeh.org/bokeh/release/bokeh-2.0.1.min.js\", \"https://cdn.bokeh.org/bokeh/release/bokeh-widgets-2.0.1.min.js\", \"https://cdn.bokeh.org/bokeh/release/bokeh-tables-2.0.1.min.js\", \"https://cdn.bokeh.org/bokeh/release/bokeh-gl-2.0.1.min.js\"];\n  var css_urls = [];\n  \n\n  var inline_js = [\n    function(Bokeh) {\n      Bokeh.set_log_level(\"info\");\n    },\n    function(Bokeh) {\n    \n    \n    }\n  ];\n\n  function run_inline_js() {\n    \n    if (root.Bokeh !== undefined || force === true) {\n      \n    for (var i = 0; i < inline_js.length; i++) {\n      inline_js[i].call(root, root.Bokeh);\n    }\n    if (force === true) {\n        display_loaded();\n      }} else if (Date.now() < root._bokeh_timeout) {\n      setTimeout(run_inline_js, 100);\n    } else if (!root._bokeh_failed_load) {\n      console.log(\"Bokeh: BokehJS failed to load within specified timeout.\");\n      root._bokeh_failed_load = true;\n    } else if (force !== true) {\n      var cell = $(document.getElementById(\"1001\")).parents('.cell').data().cell;\n      cell.output_area.append_execute_result(NB_LOAD_WARNING)\n    }\n\n  }\n\n  if (root._bokeh_is_loading === 0) {\n    console.debug(\"Bokeh: BokehJS loaded, going straight to plotting\");\n    run_inline_js();\n  } else {\n    load_libs(css_urls, js_urls, function() {\n      console.debug(\"Bokeh: BokehJS plotting callback run at\", now());\n      run_inline_js();\n    });\n  }\n}(window));"
     },
     "metadata": {},
     "output_type": "display_data"
    }
   ],
   "source": [
    "from bokeh.models import ColumnDataSource, Band, Circle, Line, Legend, LegendItem\n",
    "from bokeh.plotting import figure, output_notebook, show\n",
    "import itertools\n",
    "from tqdm.notebook import tqdm\n",
    "from bokeh.palettes import Dark2_5 as palette\n",
    "\n",
    "output_notebook()"
   ]
  },
  {
   "cell_type": "raw",
   "metadata": {
    "slideshow": {
     "slide_type": "skip"
    }
   },
   "source": [
    "dfkes = {}\n",
    "for threshold in [0, 0.5]:\n",
    "    for k in [1, 3, 5]:\n",
    "        for config_name in df_all_products.config_name:\n",
    "            subset_data = df_all_products[(df_all_products.threshold == threshold) &\n",
    "                                         (df_all_products.k == k) &\n",
    "                                         (df_all_products.config_name == config_name)]\n",
    "            dfkes['_'.join(['t',str(threshold),'k',str(k),config_name])] = subset_data"
   ]
  },
  {
   "cell_type": "code",
   "execution_count": 25,
   "metadata": {
    "slideshow": {
     "slide_type": "skip"
    }
   },
   "outputs": [
    {
     "data": {
      "application/vnd.jupyter.widget-view+json": {
       "model_id": "5955937c35564674b8bc61883d590842",
       "version_major": 2,
       "version_minor": 0
      },
      "text/plain": [
       "HBox(children=(FloatProgress(value=0.0, max=10.0), HTML(value='')))"
      ]
     },
     "metadata": {},
     "output_type": "display_data"
    },
    {
     "name": "stdout",
     "output_type": "stream",
     "text": [
      "\n"
     ]
    }
   ],
   "source": [
    "# create a color iterator\n",
    "colors = itertools.cycle(palette)    \n",
    "\n",
    "\n",
    "# create a figure\n",
    "p = figure(title=\"MAPK for different k-values (threshold=0)\", \n",
    "           x_range=(0.5, 5.5),\n",
    "           background_fill_color=\"#fafafa\",\n",
    "          toolbar_location = 'above',\n",
    "          plot_width=1000)\n",
    "\n",
    "p.xaxis.axis_label = 'k'\n",
    "p.yaxis.axis_label = 'MAPK'\n",
    "\n",
    "legend_items = []\n",
    "threshold = 0\n",
    "\n",
    "for config_name in tqdm(df_all_products.config_name.unique(), total=df_all_products.config_name.nunique()):\n",
    "    subset_data = df_all_products[(df_all_products.threshold == threshold) &\n",
    "                                     (df_all_products.config_name == config_name)]\n",
    "    subset_data = subset_data.sort_values(by='k')\n",
    "    subset_data_grouped = subset_data.groupby(['k']).agg(['mean', 'std']).reset_index()\n",
    "\n",
    "    subset_data_grouped[('mapk', 'lower')] = subset_data_grouped[('mapk', 'mean')] - subset_data_grouped[('mapk', 'std')]\n",
    "    subset_data_grouped[('mapk', 'upper')] = subset_data_grouped[('mapk', 'mean')] + subset_data_grouped[('mapk', 'std')]\n",
    "\n",
    "    source = ColumnDataSource(subset_data_grouped)\n",
    "\n",
    "    \n",
    "    color = next(colors)\n",
    "    l = p.line(x=\"k_\", y=\"mapk_mean\", source=source,  line_width=2, color=color)\n",
    "    c = p.circle(x=\"k_\", y=\"mapk_mean\", source=source, color=color)\n",
    "    #band = Band(base=\"k_\", lower='mapk_lower', upper='mapk_upper', source=source, level='underlay',\n",
    "    #         fill_alpha=1.0, line_width=1, line_color='black')\n",
    "    #b = p.add_layout(band)\n",
    "    legend_items.append((config_name, [l, c]))\n",
    "    \n",
    "    \n",
    "legend = Legend(items= legend_items, location=\"center\")\n",
    "p.add_layout(legend, 'right')\n",
    "        \n",
    "p.legend.click_policy=\"hide\"\n"
   ]
  },
  {
   "cell_type": "code",
   "execution_count": 26,
   "metadata": {
    "slideshow": {
     "slide_type": "slide"
    }
   },
   "outputs": [
    {
     "data": {
      "text/html": [
       "\n",
       "\n",
       "\n",
       "\n",
       "\n",
       "\n",
       "  <div class=\"bk-root\" id=\"9ac024d0-b10c-4179-bb1e-73828247f6d0\" data-root-id=\"1002\"></div>\n"
      ]
     },
     "metadata": {},
     "output_type": "display_data"
    },
    {
     "data": {
      "application/javascript": [
       "(function(root) {\n",
       "  function embed_document(root) {\n",
       "    \n",
       "  var docs_json = {\"e8ae0acc-7b6b-488b-8a8c-38ddb7a07a09\":{\"roots\":{\"references\":[{\"attributes\":{\"background_fill_color\":\"#fafafa\",\"below\":[{\"id\":\"1013\"}],\"center\":[{\"id\":\"1016\"},{\"id\":\"1020\"}],\"left\":[{\"id\":\"1017\"}],\"plot_width\":1000,\"renderers\":[{\"id\":\"1039\"},{\"id\":\"1044\"},{\"id\":\"1050\"},{\"id\":\"1055\"},{\"id\":\"1061\"},{\"id\":\"1066\"},{\"id\":\"1072\"},{\"id\":\"1077\"},{\"id\":\"1083\"},{\"id\":\"1088\"},{\"id\":\"1094\"},{\"id\":\"1099\"},{\"id\":\"1105\"},{\"id\":\"1110\"},{\"id\":\"1116\"},{\"id\":\"1121\"},{\"id\":\"1127\"},{\"id\":\"1132\"},{\"id\":\"1138\"},{\"id\":\"1143\"}],\"right\":[{\"id\":\"1145\"}],\"title\":{\"id\":\"1003\"},\"toolbar\":{\"id\":\"1028\"},\"toolbar_location\":\"above\",\"x_range\":{\"id\":\"1005\"},\"x_scale\":{\"id\":\"1009\"},\"y_range\":{\"id\":\"1007\"},\"y_scale\":{\"id\":\"1011\"}},\"id\":\"1002\",\"subtype\":\"Figure\",\"type\":\"Plot\"},{\"attributes\":{\"source\":{\"id\":\"1123\"}},\"id\":\"1133\",\"type\":\"CDSView\"},{\"attributes\":{},\"id\":\"1177\",\"type\":\"UnionRenderers\"},{\"attributes\":{\"source\":{\"id\":\"1134\"}},\"id\":\"1139\",\"type\":\"CDSView\"},{\"attributes\":{\"data_source\":{\"id\":\"1068\"},\"glyph\":{\"id\":\"1075\"},\"hover_glyph\":null,\"muted_glyph\":null,\"nonselection_glyph\":{\"id\":\"1076\"},\"selection_glyph\":null,\"view\":{\"id\":\"1078\"}},\"id\":\"1077\",\"type\":\"GlyphRenderer\"},{\"attributes\":{\"data_source\":{\"id\":\"1079\"},\"glyph\":{\"id\":\"1086\"},\"hover_glyph\":null,\"muted_glyph\":null,\"nonselection_glyph\":{\"id\":\"1087\"},\"selection_glyph\":null,\"view\":{\"id\":\"1089\"}},\"id\":\"1088\",\"type\":\"GlyphRenderer\"},{\"attributes\":{\"fill_color\":{\"value\":\"#66a61e\"},\"line_color\":{\"value\":\"#66a61e\"},\"x\":{\"field\":\"k_\"},\"y\":{\"field\":\"mapk_mean\"}},\"id\":\"1141\",\"type\":\"Circle\"},{\"attributes\":{\"end\":5.5,\"start\":0.5},\"id\":\"1005\",\"type\":\"Range1d\"},{\"attributes\":{\"fill_color\":{\"value\":\"#7570b3\"},\"line_color\":{\"value\":\"#7570b3\"},\"x\":{\"field\":\"k_\"},\"y\":{\"field\":\"mapk_mean\"}},\"id\":\"1064\",\"type\":\"Circle\"},{\"attributes\":{\"line_color\":\"#e7298a\",\"line_width\":2,\"x\":{\"field\":\"k_\"},\"y\":{\"field\":\"mapk_mean\"}},\"id\":\"1125\",\"type\":\"Line\"},{\"attributes\":{},\"id\":\"1021\",\"type\":\"PanTool\"},{\"attributes\":{\"data_source\":{\"id\":\"1123\"},\"glyph\":{\"id\":\"1130\"},\"hover_glyph\":null,\"muted_glyph\":null,\"nonselection_glyph\":{\"id\":\"1131\"},\"selection_glyph\":null,\"view\":{\"id\":\"1133\"}},\"id\":\"1132\",\"type\":\"GlyphRenderer\"},{\"attributes\":{\"data\":{\"f1_average_mean\":{\"__ndarray__\":\"u+GXHnxN4T+0WWpyY1DhPyLFbRv0U+E/\",\"dtype\":\"float64\",\"shape\":[3]},\"f1_average_std\":{\"__ndarray__\":\"qDL+64VZaj8VwLNISfhtP4sB3irY0G4/\",\"dtype\":\"float64\",\"shape\":[3]},\"f1_macro_mean\":{\"__ndarray__\":\"8wXXrbFszT++oHy4+m/NPyI0h5KGdM0/\",\"dtype\":\"float64\",\"shape\":[3]},\"f1_macro_std\":{\"__ndarray__\":\"iBulGvAtdD8ab0aBX4p1P9OXYWOeTXU/\",\"dtype\":\"float64\",\"shape\":[3]},\"f1_micro_mean\":{\"__ndarray__\":\"K689OfXW0T+iFAwirdDRP6VYsk+a3tE/\",\"dtype\":\"float64\",\"shape\":[3]},\"f1_micro_std\":{\"__ndarray__\":\"3p9NdLf2cz/HQczBFMpzP/UPLAGiWHQ/\",\"dtype\":\"float64\",\"shape\":[3]},\"hl_mean\":{\"__ndarray__\":\"ytoFEK2f4j/yhkFj/KPiP/paK922m+I/\",\"dtype\":\"float64\",\"shape\":[3]},\"hl_std\":{\"__ndarray__\":\"p/its5effT8JPDtB2Nh9P1Lma9PNbH4/\",\"dtype\":\"float64\",\"shape\":[3]},\"index\":[0,1,2],\"k_\":[1,3,5],\"mapk_lower\":{\"__ndarray__\":\"SpYnfNVrRD9SGpmaA2qrPzpnAudP9Lo/\",\"dtype\":\"float64\",\"shape\":[3]},\"mapk_mean\":{\"__ndarray__\":\"QGBWK+EgXz/1DdOrSsy7P63iltlDC8M/\",\"dtype\":\"float64\",\"shape\":[3]},\"mapk_std\":{\"__ndarray__\":\"G5VCbfbqVD+YAQ29kS6sPz+8VphvRKY/\",\"dtype\":\"float64\",\"shape\":[3]},\"mapk_upper\":{\"__ndarray__\":\"rnpMzOsFaj9gxyzFyfHEP72RrL9fnMg/\",\"dtype\":\"float64\",\"shape\":[3]},\"nans p@k_mean\":{\"__ndarray__\":\"MzMzMzOzW0CamZmZmZlbQAAAAAAAgFtA\",\"dtype\":\"float64\",\"shape\":[3]},\"nans p@k_std\":{\"__ndarray__\":\"6AxF5JuDI0BoIuNoqh8pQHMOvN2TfiZA\",\"dtype\":\"float64\",\"shape\":[3]},\"nans r@k_mean\":{\"__ndarray__\":\"MzMzMzP3mUAzMzMzM/eZQDMzMzMz95lA\",\"dtype\":\"float64\",\"shape\":[3]},\"nans r@k_std\":{\"__ndarray__\":\"lv3DhKLCTUCW/cOEosJNQJb9w4Siwk1A\",\"dtype\":\"float64\",\"shape\":[3]},\"p@k_mean\":{\"__ndarray__\":\"TdOwaU14YT9miVwz5r3FP/jZG/X9Bcw/\",\"dtype\":\"float64\",\"shape\":[3]},\"p@k_std\":{\"__ndarray__\":\"ZGgcUowUOj+a8pJQt5CsPwIsVcUSF54/\",\"dtype\":\"float64\",\"shape\":[3]},\"r@k_mean\":{\"__ndarray__\":\"6uUQ+YulMD/ymgq4MNe3P7qc2D83Tck/\",\"dtype\":\"float64\",\"shape\":[3]},\"r@k_std\":{\"__ndarray__\":\"dk0DTGuWCz9IdFWqYvCfPzoiA1w9vpw/\",\"dtype\":\"float64\",\"shape\":[3]},\"rows_with_k_recommendations_mean\":{\"__ndarray__\":\"MzMzMzOJuEDNzMzMzLiyQJqZmZmZBbJA\",\"dtype\":\"float64\",\"shape\":[3]},\"rows_with_k_recommendations_std\":{\"__ndarray__\":\"xgjrnoHNUkBYB3GxquhPQIiHZimDzFFA\",\"dtype\":\"float64\",\"shape\":[3]},\"rows_with_less_than_k_recommendations_mean\":{\"__ndarray__\":\"MzMzMzOzW0DNzMzMzPyYQJqZmZmZyZtA\",\"dtype\":\"float64\",\"shape\":[3]},\"rows_with_less_than_k_recommendations_std\":{\"__ndarray__\":\"6AxF5JuDI0DpbYtlkYNTQDr6I6ZNJ0lA\",\"dtype\":\"float64\",\"shape\":[3]},\"threshold_mean\":{\"__ndarray__\":\"AAAAAAAAAAAAAAAAAAAAAAAAAAAAAAAA\",\"dtype\":\"float64\",\"shape\":[3]},\"threshold_std\":{\"__ndarray__\":\"AAAAAAAAAAAAAAAAAAAAAAAAAAAAAAAA\",\"dtype\":\"float64\",\"shape\":[3]}},\"selected\":{\"id\":\"1178\"},\"selection_policy\":{\"id\":\"1177\"}},\"id\":\"1123\",\"type\":\"ColumnDataSource\"},{\"attributes\":{\"line_color\":\"#1b9e77\",\"line_width\":2,\"x\":{\"field\":\"k_\"},\"y\":{\"field\":\"mapk_mean\"}},\"id\":\"1037\",\"type\":\"Line\"},{\"attributes\":{\"source\":{\"id\":\"1079\"}},\"id\":\"1089\",\"type\":\"CDSView\"},{\"attributes\":{\"line_color\":\"#d95f02\",\"line_width\":2,\"x\":{\"field\":\"k_\"},\"y\":{\"field\":\"mapk_mean\"}},\"id\":\"1103\",\"type\":\"Line\"},{\"attributes\":{\"fill_alpha\":{\"value\":0.1},\"fill_color\":{\"value\":\"#d95f02\"},\"line_alpha\":{\"value\":0.1},\"line_color\":{\"value\":\"#d95f02\"},\"x\":{\"field\":\"k_\"},\"y\":{\"field\":\"mapk_mean\"}},\"id\":\"1109\",\"type\":\"Circle\"},{\"attributes\":{\"data_source\":{\"id\":\"1134\"},\"glyph\":{\"id\":\"1136\"},\"hover_glyph\":null,\"muted_glyph\":null,\"nonselection_glyph\":{\"id\":\"1137\"},\"selection_glyph\":null,\"view\":{\"id\":\"1139\"}},\"id\":\"1138\",\"type\":\"GlyphRenderer\"},{\"attributes\":{\"data\":{\"f1_average_mean\":{\"__ndarray__\":\"KE9+v/BM5D9PiiCmtkzkPwB+Lek1XOQ/\",\"dtype\":\"float64\",\"shape\":[3]},\"f1_average_std\":{\"__ndarray__\":\"NtjAj/ZNbz/1kPJv12V5P1kM2xrJh3U/\",\"dtype\":\"float64\",\"shape\":[3]},\"f1_macro_mean\":{\"__ndarray__\":\"YOXWry5Q0D+SIpdLMT7QP9LnxcROWdA/\",\"dtype\":\"float64\",\"shape\":[3]},\"f1_macro_std\":{\"__ndarray__\":\"SwREcxSicj8cnRG+3Bp/P6O1rA0nh3M/\",\"dtype\":\"float64\",\"shape\":[3]},\"f1_micro_mean\":{\"__ndarray__\":\"BgiR5PYq1D++LN79yxbUP3ND7xWhJtQ/\",\"dtype\":\"float64\",\"shape\":[3]},\"f1_micro_std\":{\"__ndarray__\":\"X9IiNzhFdj8OzvCp2WN9PwVsQNyCBHc/\",\"dtype\":\"float64\",\"shape\":[3]},\"hl_mean\":{\"__ndarray__\":\"qzHYPty74j8bdsn8ZMTiP2VNtbuoveI/\",\"dtype\":\"float64\",\"shape\":[3]},\"hl_std\":{\"__ndarray__\":\"fJk8tUPwfT8yhQeHYgqBP8JcIpyNGn4/\",\"dtype\":\"float64\",\"shape\":[3]},\"index\":[0,1,2],\"k_\":[1,3,5],\"mapk_lower\":{\"__ndarray__\":\"54JiKZA76z/1bFErcErcPzTjn+FzGuM/\",\"dtype\":\"float64\",\"shape\":[3]},\"mapk_mean\":{\"__ndarray__\":\"q48L+d7L7D8awrmirtDnPyO3fuP+oeg/\",\"dtype\":\"float64\",\"shape\":[3]},\"mapk_std\":{\"__ndarray__\":\"RsyQ+uwEqT8/FyIa7VbTP71PewcsHsY/\",\"dtype\":\"float64\",\"shape\":[3]},\"mapk_upper\":{\"__ndarray__\":\"b5y0yC1c7j/dZuWXEr7wPxKLXeWJKe4/\",\"dtype\":\"float64\",\"shape\":[3]},\"nans p@k_mean\":{\"__ndarray__\":\"MzMzMzP3mUAzMzMzM/eZQDMzMzMz95lA\",\"dtype\":\"float64\",\"shape\":[3]},\"nans p@k_std\":{\"__ndarray__\":\"lv3DhKLCTUCW/cOEosJNQJb9w4Siwk1A\",\"dtype\":\"float64\",\"shape\":[3]},\"nans r@k_mean\":{\"__ndarray__\":\"MzMzMzP3mUAzMzMzM/eZQDMzMzMz95lA\",\"dtype\":\"float64\",\"shape\":[3]},\"nans r@k_std\":{\"__ndarray__\":\"lv3DhKLCTUCW/cOEosJNQJb9w4Siwk1A\",\"dtype\":\"float64\",\"shape\":[3]},\"p@k_mean\":{\"__ndarray__\":\"q48L+d7L7D+EjXACeFboPwbybhWYb+g/\",\"dtype\":\"float64\",\"shape\":[3]},\"p@k_std\":{\"__ndarray__\":\"RsyQ+uwEqT9VYmstU07RP0ZKVFGXa74/\",\"dtype\":\"float64\",\"shape\":[3]},\"r@k_mean\":{\"__ndarray__\":\"SmK9AEfJxj/WHf1ICFbaP7D4Mr/1LeU/\",\"dtype\":\"float64\",\"shape\":[3]},\"r@k_std\":{\"__ndarray__\":\"+1CmVb+qfD8J00yESALDP5/IOhG8LLU/\",\"dtype\":\"float64\",\"shape\":[3]},\"rows_with_k_recommendations_mean\":{\"__ndarray__\":\"MzMzMzN6skAzMzMzM3qyQDMzMzMzerJA\",\"dtype\":\"float64\",\"shape\":[3]},\"rows_with_k_recommendations_std\":{\"__ndarray__\":\"69yhU7JTSEDr3KFTslNIQOvcoVOyU0hA\",\"dtype\":\"float64\",\"shape\":[3]},\"rows_with_less_than_k_recommendations_mean\":{\"__ndarray__\":\"MzMzMzP3mUAzMzMzM/eZQDMzMzMz95lA\",\"dtype\":\"float64\",\"shape\":[3]},\"rows_with_less_than_k_recommendations_std\":{\"__ndarray__\":\"lv3DhKLCTUCW/cOEosJNQJb9w4Siwk1A\",\"dtype\":\"float64\",\"shape\":[3]},\"threshold_mean\":{\"__ndarray__\":\"AAAAAAAAAAAAAAAAAAAAAAAAAAAAAAAA\",\"dtype\":\"float64\",\"shape\":[3]},\"threshold_std\":{\"__ndarray__\":\"AAAAAAAAAAAAAAAAAAAAAAAAAAAAAAAA\",\"dtype\":\"float64\",\"shape\":[3]}},\"selected\":{\"id\":\"1180\"},\"selection_policy\":{\"id\":\"1179\"}},\"id\":\"1134\",\"type\":\"ColumnDataSource\"},{\"attributes\":{\"data\":{\"f1_average_mean\":{\"__ndarray__\":\"dxPx2PVA4T/TcV1YTEHhP/NbEGdbROE/\",\"dtype\":\"float64\",\"shape\":[3]},\"f1_average_std\":{\"__ndarray__\":\"trV/1o8BdT+N8F+MpJ50P8Rg9b2703M/\",\"dtype\":\"float64\",\"shape\":[3]},\"f1_macro_mean\":{\"__ndarray__\":\"dSOmG3rJzz8lprnoaNXPPz3RCFuQ088/\",\"dtype\":\"float64\",\"shape\":[3]},\"f1_macro_std\":{\"__ndarray__\":\"q8IAaCAefT+nWKySXT19P48Xea1Pp3o/\",\"dtype\":\"float64\",\"shape\":[3]},\"f1_micro_mean\":{\"__ndarray__\":\"aEBltfHw2D8ee3YWM/bYP6K5jkaS+9g/\",\"dtype\":\"float64\",\"shape\":[3]},\"f1_micro_std\":{\"__ndarray__\":\"4N5w/GQGdz/TnDD2o4V2P544uoD1OnI/\",\"dtype\":\"float64\",\"shape\":[3]},\"hl_mean\":{\"__ndarray__\":\"vZVq44Iq3D/C6+PN7x/cP2ZM3b/9Ftw/\",\"dtype\":\"float64\",\"shape\":[3]},\"hl_std\":{\"__ndarray__\":\"qWT36J9ncT9uEeUR5ut0P3QIia6ozXk/\",\"dtype\":\"float64\",\"shape\":[3]},\"index\":[0,1,2],\"k_\":[1,3,5],\"mapk_lower\":{\"__ndarray__\":\"MBj8zT1+7j91T4PXBGjtPyxahNFT2uw/\",\"dtype\":\"float64\",\"shape\":[3]},\"mapk_mean\":{\"__ndarray__\":\"OP17MQOe7j8WzdsBc3jtP/AKFR9V5+w/\",\"dtype\":\"float64\",\"shape\":[3]},\"mapk_std\":{\"__ndarray__\":\"Rwjlf2PFbz/eoH1YKm5gP3qIYSGbAlo/\",\"dtype\":\"float64\",\"shape\":[3]},\"mapk_upper\":{\"__ndarray__\":\"QOL7lMi97j+3SjQs4YjtP7S7pWxW9Ow/\",\"dtype\":\"float64\",\"shape\":[3]},\"nans p@k_mean\":{\"__ndarray__\":\"zczMzMzMBEDNzMzMzMz8P83MzMzMzPw/\",\"dtype\":\"float64\",\"shape\":[3]},\"nans p@k_std\":{\"__ndarray__\":\"Ogacb3AUBECpZzE10Mb+P7LlhT3kQwhA\",\"dtype\":\"float64\",\"shape\":[3]},\"nans r@k_mean\":{\"__ndarray__\":\"MzMzMzP3mUAzMzMzM/eZQDMzMzMz95lA\",\"dtype\":\"float64\",\"shape\":[3]},\"nans r@k_std\":{\"__ndarray__\":\"lv3DhKLCTUCW/cOEosJNQJb9w4Siwk1A\",\"dtype\":\"float64\",\"shape\":[3]},\"p@k_mean\":{\"__ndarray__\":\"PkIp5Z/X5j/CMgsWHZ7lP3YWFYTHD+Q/\",\"dtype\":\"float64\",\"shape\":[3]},\"p@k_std\":{\"__ndarray__\":\"7TLY2Y1Jej/o+cHItaN7P3CXpYzv6nY/\",\"dtype\":\"float64\",\"shape\":[3]},\"r@k_mean\":{\"__ndarray__\":\"vvEOTuEwyD/ieWIzyHffPziGS26L8eY/\",\"dtype\":\"float64\",\"shape\":[3]},\"r@k_std\":{\"__ndarray__\":\"nYHwsXB8YD/G2wGLNDhpPz8sPGjNG20/\",\"dtype\":\"float64\",\"shape\":[3]},\"rows_with_k_recommendations_mean\":{\"__ndarray__\":\"ZmZmZmb1uEBmZmZmZs+4QJqZmZmZmbhA\",\"dtype\":\"float64\",\"shape\":[3]},\"rows_with_k_recommendations_std\":{\"__ndarray__\":\"vdAvt0OEUEC6UPyUuVpRQOQD6cwhDFBA\",\"dtype\":\"float64\",\"shape\":[3]},\"rows_with_less_than_k_recommendations_mean\":{\"__ndarray__\":\"zczMzMzMBEDNzMzMzExEQJqZmZmZmVdA\",\"dtype\":\"float64\",\"shape\":[3]},\"rows_with_less_than_k_recommendations_std\":{\"__ndarray__\":\"Ogacb3AUBECWI3qh1CQiQEObTMfaSSVA\",\"dtype\":\"float64\",\"shape\":[3]},\"threshold_mean\":{\"__ndarray__\":\"AAAAAAAAAAAAAAAAAAAAAAAAAAAAAAAA\",\"dtype\":\"float64\",\"shape\":[3]},\"threshold_std\":{\"__ndarray__\":\"AAAAAAAAAAAAAAAAAAAAAAAAAAAAAAAA\",\"dtype\":\"float64\",\"shape\":[3]}},\"selected\":{\"id\":\"1174\"},\"selection_policy\":{\"id\":\"1173\"}},\"id\":\"1101\",\"type\":\"ColumnDataSource\"},{\"attributes\":{\"fill_color\":{\"value\":\"#66a61e\"},\"line_color\":{\"value\":\"#66a61e\"},\"x\":{\"field\":\"k_\"},\"y\":{\"field\":\"mapk_mean\"}},\"id\":\"1086\",\"type\":\"Circle\"},{\"attributes\":{\"line_alpha\":0.1,\"line_color\":\"#7570b3\",\"line_width\":2,\"x\":{\"field\":\"k_\"},\"y\":{\"field\":\"mapk_mean\"}},\"id\":\"1115\",\"type\":\"Line\"},{\"attributes\":{\"data\":{\"f1_average_mean\":{\"__ndarray__\":\"JZMUj/WM4D9C0LCd1ozgPy+VJ4/CjOA/\",\"dtype\":\"float64\",\"shape\":[3]},\"f1_average_std\":{\"__ndarray__\":\"2ZzKKOW7cT/ozNYkQpZxPzWW9CDisHE/\",\"dtype\":\"float64\",\"shape\":[3]},\"f1_macro_mean\":{\"__ndarray__\":\"Kjc4PCB+yz/7XLSmjITLP4YHzOTJgss/\",\"dtype\":\"float64\",\"shape\":[3]},\"f1_macro_std\":{\"__ndarray__\":\"3K/XoBvffT/TFX+ltzR9P5sCQJzgsH0/\",\"dtype\":\"float64\",\"shape\":[3]},\"f1_micro_mean\":{\"__ndarray__\":\"q9w17WL60z+uqUMmCPXTP6Xz2jov8NM/\",\"dtype\":\"float64\",\"shape\":[3]},\"f1_micro_std\":{\"__ndarray__\":\"W1soIdKsgD9803DUQkOCP84jg9C+zIE/\",\"dtype\":\"float64\",\"shape\":[3]},\"hl_mean\":{\"__ndarray__\":\"YA6dyH/a4z/rQGgViuTjP30JL7S06uM/\",\"dtype\":\"float64\",\"shape\":[3]},\"hl_std\":{\"__ndarray__\":\"mvlF00ikfD9JAmwSKMmCPwSm8jVYyoE/\",\"dtype\":\"float64\",\"shape\":[3]},\"index\":[0,1,2],\"k_\":[1,3,5],\"mapk_lower\":{\"__ndarray__\":\"8IdVU5g17T/X7pqfYXfrP6f1jzyO2ec/\",\"dtype\":\"float64\",\"shape\":[3]},\"mapk_mean\":{\"__ndarray__\":\"TmDwtkhk7T89TGnnFqbrPzKKufnioug/\",\"dtype\":\"float64\",\"shape\":[3]},\"mapk_std\":{\"__ndarray__\":\"DS9szTFYdz8Csy7no1p3P2qRMqWXKpk/\",\"dtype\":\"float64\",\"shape\":[3]},\"mapk_upper\":{\"__ndarray__\":\"rDiLGvmS7T+jqTcvzNTrP70e47Y3bOk/\",\"dtype\":\"float64\",\"shape\":[3]},\"nans p@k_mean\":{\"__ndarray__\":\"AAAAAAAAAAAAAAAAAAAAAAAAAAAAAAAA\",\"dtype\":\"float64\",\"shape\":[3]},\"nans p@k_std\":{\"__ndarray__\":\"AAAAAAAAAAAAAAAAAAAAAAAAAAAAAAAA\",\"dtype\":\"float64\",\"shape\":[3]},\"nans r@k_mean\":{\"__ndarray__\":\"MzMzMzP3mUAzMzMzM/eZQDMzMzMz95lA\",\"dtype\":\"float64\",\"shape\":[3]},\"nans r@k_std\":{\"__ndarray__\":\"lv3DhKLCTUCW/cOEosJNQJb9w4Siwk1A\",\"dtype\":\"float64\",\"shape\":[3]},\"p@k_mean\":{\"__ndarray__\":\"baMHFtXK5T+Cl07Ov4nkP4KTkOjJrOE/\",\"dtype\":\"float64\",\"shape\":[3]},\"p@k_std\":{\"__ndarray__\":\"4FCTxtwkfz8SBcUOw3aBP5vX2v5gzZQ/\",\"dtype\":\"float64\",\"shape\":[3]},\"r@k_mean\":{\"__ndarray__\":\"Fc5W6jrXxD8D4dVdr1jcPzC395suzeM/\",\"dtype\":\"float64\",\"shape\":[3]},\"r@k_std\":{\"__ndarray__\":\"vU4Rism4Yz9BVpjW7IBxP5Kcni11AZU/\",\"dtype\":\"float64\",\"shape\":[3]},\"rows_with_k_recommendations_mean\":{\"__ndarray__\":\"AAAAAAD4uEAAAAAAAPi4QAAAAAAA+LhA\",\"dtype\":\"float64\",\"shape\":[3]},\"rows_with_k_recommendations_std\":{\"__ndarray__\":\"GcoA/GilUEAZygD8aKVQQBnKAPxopVBA\",\"dtype\":\"float64\",\"shape\":[3]},\"rows_with_less_than_k_recommendations_mean\":{\"__ndarray__\":\"AAAAAAAAAAAAAAAAAAAAAAAAAAAAAAAA\",\"dtype\":\"float64\",\"shape\":[3]},\"rows_with_less_than_k_recommendations_std\":{\"__ndarray__\":\"AAAAAAAAAAAAAAAAAAAAAAAAAAAAAAAA\",\"dtype\":\"float64\",\"shape\":[3]},\"threshold_mean\":{\"__ndarray__\":\"AAAAAAAAAAAAAAAAAAAAAAAAAAAAAAAA\",\"dtype\":\"float64\",\"shape\":[3]},\"threshold_std\":{\"__ndarray__\":\"AAAAAAAAAAAAAAAAAAAAAAAAAAAAAAAA\",\"dtype\":\"float64\",\"shape\":[3]}},\"selected\":{\"id\":\"1162\"},\"selection_policy\":{\"id\":\"1161\"}},\"id\":\"1035\",\"type\":\"ColumnDataSource\"},{\"attributes\":{\"data_source\":{\"id\":\"1035\"},\"glyph\":{\"id\":\"1037\"},\"hover_glyph\":null,\"muted_glyph\":null,\"nonselection_glyph\":{\"id\":\"1038\"},\"selection_glyph\":null,\"view\":{\"id\":\"1040\"}},\"id\":\"1039\",\"type\":\"GlyphRenderer\"},{\"attributes\":{\"line_alpha\":0.1,\"line_color\":\"#d95f02\",\"line_width\":2,\"x\":{\"field\":\"k_\"},\"y\":{\"field\":\"mapk_mean\"}},\"id\":\"1049\",\"type\":\"Line\"},{\"attributes\":{\"line_alpha\":0.1,\"line_color\":\"#66a61e\",\"line_width\":2,\"x\":{\"field\":\"k_\"},\"y\":{\"field\":\"mapk_mean\"}},\"id\":\"1137\",\"type\":\"Line\"},{\"attributes\":{},\"id\":\"1173\",\"type\":\"UnionRenderers\"},{\"attributes\":{\"source\":{\"id\":\"1101\"}},\"id\":\"1106\",\"type\":\"CDSView\"},{\"attributes\":{\"line_alpha\":0.1,\"line_color\":\"#e7298a\",\"line_width\":2,\"x\":{\"field\":\"k_\"},\"y\":{\"field\":\"mapk_mean\"}},\"id\":\"1126\",\"type\":\"Line\"},{\"attributes\":{\"data_source\":{\"id\":\"1112\"},\"glyph\":{\"id\":\"1114\"},\"hover_glyph\":null,\"muted_glyph\":null,\"nonselection_glyph\":{\"id\":\"1115\"},\"selection_glyph\":null,\"view\":{\"id\":\"1117\"}},\"id\":\"1116\",\"type\":\"GlyphRenderer\"},{\"attributes\":{\"click_policy\":\"hide\",\"items\":[{\"id\":\"1146\"},{\"id\":\"1147\"},{\"id\":\"1148\"},{\"id\":\"1149\"},{\"id\":\"1150\"},{\"id\":\"1151\"},{\"id\":\"1152\"},{\"id\":\"1153\"},{\"id\":\"1154\"},{\"id\":\"1155\"}],\"location\":\"center\"},\"id\":\"1145\",\"type\":\"Legend\"},{\"attributes\":{},\"id\":\"1172\",\"type\":\"Selection\"},{\"attributes\":{\"data_source\":{\"id\":\"1112\"},\"glyph\":{\"id\":\"1119\"},\"hover_glyph\":null,\"muted_glyph\":null,\"nonselection_glyph\":{\"id\":\"1120\"},\"selection_glyph\":null,\"view\":{\"id\":\"1122\"}},\"id\":\"1121\",\"type\":\"GlyphRenderer\"},{\"attributes\":{\"fill_alpha\":{\"value\":0.1},\"fill_color\":{\"value\":\"#e7298a\"},\"line_alpha\":{\"value\":0.1},\"line_color\":{\"value\":\"#e7298a\"},\"x\":{\"field\":\"k_\"},\"y\":{\"field\":\"mapk_mean\"}},\"id\":\"1131\",\"type\":\"Circle\"},{\"attributes\":{\"data_source\":{\"id\":\"1090\"},\"glyph\":{\"id\":\"1097\"},\"hover_glyph\":null,\"muted_glyph\":null,\"nonselection_glyph\":{\"id\":\"1098\"},\"selection_glyph\":null,\"view\":{\"id\":\"1100\"}},\"id\":\"1099\",\"type\":\"GlyphRenderer\"},{\"attributes\":{\"fill_alpha\":{\"value\":0.1},\"fill_color\":{\"value\":\"#66a61e\"},\"line_alpha\":{\"value\":0.1},\"line_color\":{\"value\":\"#66a61e\"},\"x\":{\"field\":\"k_\"},\"y\":{\"field\":\"mapk_mean\"}},\"id\":\"1087\",\"type\":\"Circle\"},{\"attributes\":{\"source\":{\"id\":\"1101\"}},\"id\":\"1111\",\"type\":\"CDSView\"},{\"attributes\":{\"source\":{\"id\":\"1068\"}},\"id\":\"1078\",\"type\":\"CDSView\"},{\"attributes\":{\"line_color\":\"#66a61e\",\"line_width\":2,\"x\":{\"field\":\"k_\"},\"y\":{\"field\":\"mapk_mean\"}},\"id\":\"1136\",\"type\":\"Line\"},{\"attributes\":{\"data_source\":{\"id\":\"1101\"},\"glyph\":{\"id\":\"1103\"},\"hover_glyph\":null,\"muted_glyph\":null,\"nonselection_glyph\":{\"id\":\"1104\"},\"selection_glyph\":null,\"view\":{\"id\":\"1106\"}},\"id\":\"1105\",\"type\":\"GlyphRenderer\"},{\"attributes\":{\"source\":{\"id\":\"1112\"}},\"id\":\"1117\",\"type\":\"CDSView\"},{\"attributes\":{\"data\":{\"f1_average_mean\":{\"__ndarray__\":\"Iqb672WF4D8ipvrvZYXgPyKm+u9lheA/\",\"dtype\":\"float64\",\"shape\":[3]},\"f1_average_std\":{\"__ndarray__\":\"RuuNmgKFcD9G642aAoVwP0brjZoChXA/\",\"dtype\":\"float64\",\"shape\":[3]},\"f1_macro_mean\":{\"__ndarray__\":\"KroNRVrMyj8qug1FWszKPyq6DUVazMo/\",\"dtype\":\"float64\",\"shape\":[3]},\"f1_macro_std\":{\"__ndarray__\":\"Y5oi1XTDdT9jmiLVdMN1P2OaItV0w3U/\",\"dtype\":\"float64\",\"shape\":[3]},\"f1_micro_mean\":{\"__ndarray__\":\"KMPzKTTSzz8ow/MpNNLPPyjD8yk00s8/\",\"dtype\":\"float64\",\"shape\":[3]},\"f1_micro_std\":{\"__ndarray__\":\"GoK3j7H/fz8agrePsf9/PxqCt4+x/38/\",\"dtype\":\"float64\",\"shape\":[3]},\"hl_mean\":{\"__ndarray__\":\"wuw7QzFN6z/C7DtDMU3rP8LsO0MxTes/\",\"dtype\":\"float64\",\"shape\":[3]},\"hl_std\":{\"__ndarray__\":\"O0OphqvOjj87Q6mGq86OPztDqYarzo4/\",\"dtype\":\"float64\",\"shape\":[3]},\"index\":[0,1,2],\"k_\":[1,3,5],\"mapk_lower\":{\"__ndarray__\":\"uT+BhhzO6z/MQmbPyHTpP//C0o+hpuY/\",\"dtype\":\"float64\",\"shape\":[3]},\"mapk_mean\":{\"__ndarray__\":\"+6aIk8Zm7D+A/VYCOo/qP8X0/+72eug/\",\"dtype\":\"float64\",\"shape\":[3]},\"mapk_std\":{\"__ndarray__\":\"RejsoEEVkz85qwsvE6ehP2Uc0/JVRa0/\",\"dtype\":\"float64\",\"shape\":[3]},\"mapk_upper\":{\"__ndarray__\":\"PQ6QoHD/7D80uEc1q6nrP4smLU5MT+o/\",\"dtype\":\"float64\",\"shape\":[3]},\"nans p@k_mean\":{\"__ndarray__\":\"AAAAAAAAAAAAAAAAAAAAAAAAAAAAAAAA\",\"dtype\":\"float64\",\"shape\":[3]},\"nans p@k_std\":{\"__ndarray__\":\"AAAAAAAAAAAAAAAAAAAAAAAAAAAAAAAA\",\"dtype\":\"float64\",\"shape\":[3]},\"nans r@k_mean\":{\"__ndarray__\":\"MzMzMzP3mUAzMzMzM/eZQDMzMzMz95lA\",\"dtype\":\"float64\",\"shape\":[3]},\"nans r@k_std\":{\"__ndarray__\":\"lv3DhKLCTUCW/cOEosJNQJb9w4Siwk1A\",\"dtype\":\"float64\",\"shape\":[3]},\"p@k_mean\":{\"__ndarray__\":\"Znt5EcIE5T+KqeHHrPjjP/UnTSDVquE/\",\"dtype\":\"float64\",\"shape\":[3]},\"p@k_std\":{\"__ndarray__\":\"zKwCayx/jz+Wb5pO9YGYP6WlBXCftqI/\",\"dtype\":\"float64\",\"shape\":[3]},\"r@k_mean\":{\"__ndarray__\":\"uLiEQCZJxD9ADRWRDBvcP8yfj5ST6uM/\",\"dtype\":\"float64\",\"shape\":[3]},\"r@k_std\":{\"__ndarray__\":\"u1nD/p27eT8QofEemhSVP6yE1M0cbaU/\",\"dtype\":\"float64\",\"shape\":[3]},\"rows_with_k_recommendations_mean\":{\"__ndarray__\":\"AAAAAAD4uEAAAAAAAPi4QAAAAAAA+LhA\",\"dtype\":\"float64\",\"shape\":[3]},\"rows_with_k_recommendations_std\":{\"__ndarray__\":\"GcoA/GilUEAZygD8aKVQQBnKAPxopVBA\",\"dtype\":\"float64\",\"shape\":[3]},\"rows_with_less_than_k_recommendations_mean\":{\"__ndarray__\":\"AAAAAAAAAAAAAAAAAAAAAAAAAAAAAAAA\",\"dtype\":\"float64\",\"shape\":[3]},\"rows_with_less_than_k_recommendations_std\":{\"__ndarray__\":\"AAAAAAAAAAAAAAAAAAAAAAAAAAAAAAAA\",\"dtype\":\"float64\",\"shape\":[3]},\"threshold_mean\":{\"__ndarray__\":\"AAAAAAAAAAAAAAAAAAAAAAAAAAAAAAAA\",\"dtype\":\"float64\",\"shape\":[3]},\"threshold_std\":{\"__ndarray__\":\"AAAAAAAAAAAAAAAAAAAAAAAAAAAAAAAA\",\"dtype\":\"float64\",\"shape\":[3]}},\"selected\":{\"id\":\"1164\"},\"selection_policy\":{\"id\":\"1163\"}},\"id\":\"1046\",\"type\":\"ColumnDataSource\"},{\"attributes\":{\"source\":{\"id\":\"1090\"}},\"id\":\"1095\",\"type\":\"CDSView\"},{\"attributes\":{\"line_color\":\"#e7298a\",\"line_width\":2,\"x\":{\"field\":\"k_\"},\"y\":{\"field\":\"mapk_mean\"}},\"id\":\"1070\",\"type\":\"Line\"},{\"attributes\":{\"line_alpha\":0.1,\"line_color\":\"#d95f02\",\"line_width\":2,\"x\":{\"field\":\"k_\"},\"y\":{\"field\":\"mapk_mean\"}},\"id\":\"1104\",\"type\":\"Line\"},{\"attributes\":{\"line_alpha\":0.1,\"line_color\":\"#1b9e77\",\"line_width\":2,\"x\":{\"field\":\"k_\"},\"y\":{\"field\":\"mapk_mean\"}},\"id\":\"1093\",\"type\":\"Line\"},{\"attributes\":{\"fill_color\":{\"value\":\"#d95f02\"},\"line_color\":{\"value\":\"#d95f02\"},\"x\":{\"field\":\"k_\"},\"y\":{\"field\":\"mapk_mean\"}},\"id\":\"1108\",\"type\":\"Circle\"},{\"attributes\":{\"fill_alpha\":{\"value\":0.1},\"fill_color\":{\"value\":\"#1b9e77\"},\"line_alpha\":{\"value\":0.1},\"line_color\":{\"value\":\"#1b9e77\"},\"x\":{\"field\":\"k_\"},\"y\":{\"field\":\"mapk_mean\"}},\"id\":\"1098\",\"type\":\"Circle\"},{\"attributes\":{},\"id\":\"1178\",\"type\":\"Selection\"},{\"attributes\":{\"source\":{\"id\":\"1079\"}},\"id\":\"1084\",\"type\":\"CDSView\"},{\"attributes\":{\"data\":{\"f1_average_mean\":{\"__ndarray__\":\"iQyvbr/14D8nvNvzjfbgP1zTxt4f9eA/\",\"dtype\":\"float64\",\"shape\":[3]},\"f1_average_std\":{\"__ndarray__\":\"+XYWmgKncz+vn9zy9rNzP3Qr/1i2gXM/\",\"dtype\":\"float64\",\"shape\":[3]},\"f1_macro_mean\":{\"__ndarray__\":\"iDPK6bN6zT/ggJaUbovNP/ssiwxles0/\",\"dtype\":\"float64\",\"shape\":[3]},\"f1_macro_std\":{\"__ndarray__\":\"ksjKJ753fT8S7gE+Rfp7P4lpzH1nWnw/\",\"dtype\":\"float64\",\"shape\":[3]},\"f1_micro_mean\":{\"__ndarray__\":\"PffP4K9x1z/xTj+gyIDXP1LsofMBdtc/\",\"dtype\":\"float64\",\"shape\":[3]},\"f1_micro_std\":{\"__ndarray__\":\"0jE+LltNdj/kCBVagfF1P1mXY8zjYnU/\",\"dtype\":\"float64\",\"shape\":[3]},\"hl_mean\":{\"__ndarray__\":\"+r/kdul03j/NaMuxLlPeP7ZO5vrkcN4/\",\"dtype\":\"float64\",\"shape\":[3]},\"hl_std\":{\"__ndarray__\":\"0vNDvmW3cz+jbuWHudFvP9u7YxK623U/\",\"dtype\":\"float64\",\"shape\":[3]},\"index\":[0,1,2],\"k_\":[1,3,5],\"mapk_lower\":{\"__ndarray__\":\"D1u+ceeF6z8ypPY7/A3qP1J1OEJeJ+c/\",\"dtype\":\"float64\",\"shape\":[3]},\"mapk_mean\":{\"__ndarray__\":\"jYjQlVvJ6z8KRvToeTHqP95lvbeeQec/\",\"dtype\":\"float64\",\"shape\":[3]},\"mapk_std\":{\"__ndarray__\":\"h1+LBAndgD8k7NB+1r5xP5CL8IR1QGo/\",\"dtype\":\"float64\",\"shape\":[3]},\"mapk_upper\":{\"__ndarray__\":\"C7biuc8M7D/i5/GV91TqP2pWQi3fW+c/\",\"dtype\":\"float64\",\"shape\":[3]},\"nans p@k_mean\":{\"__ndarray__\":\"ZmZmZmbmQ0CamZmZmZlDQM3MzMzMzEFA\",\"dtype\":\"float64\",\"shape\":[3]},\"nans p@k_std\":{\"__ndarray__\":\"QgP9OkgUMUAuGvRDby4xQDkCa19JpC9A\",\"dtype\":\"float64\",\"shape\":[3]},\"nans r@k_mean\":{\"__ndarray__\":\"MzMzMzP3mUAzMzMzM/eZQDMzMzMz95lA\",\"dtype\":\"float64\",\"shape\":[3]},\"nans r@k_std\":{\"__ndarray__\":\"lv3DhKLCTUCW/cOEosJNQJb9w4Siwk1A\",\"dtype\":\"float64\",\"shape\":[3]},\"p@k_mean\":{\"__ndarray__\":\"pumEr6815T9f1QjfEQbkP23/8bA5HOE/\",\"dtype\":\"float64\",\"shape\":[3]},\"p@k_std\":{\"__ndarray__\":\"JQwLBtQmgz+esHMN/N2APzcubP+zq3c/\",\"dtype\":\"float64\",\"shape\":[3]},\"r@k_mean\":{\"__ndarray__\":\"+1d+84BXxD9zlc0DzH3bP1z9y5CM9eI/\",\"dtype\":\"float64\",\"shape\":[3]},\"r@k_std\":{\"__ndarray__\":\"O8fJ+BHSZj+zMtZsg8hsP5KvoJMATnA/\",\"dtype\":\"float64\",\"shape\":[3]},\"rows_with_k_recommendations_mean\":{\"__ndarray__\":\"MzMzMzPQuEDNzMzMzMO4QM3MzMzMp7hA\",\"dtype\":\"float64\",\"shape\":[3]},\"rows_with_k_recommendations_std\":{\"__ndarray__\":\"iqMV2dHGVEDQgqiyNn5VQJwxGl6lVVNA\",\"dtype\":\"float64\",\"shape\":[3]},\"rows_with_less_than_k_recommendations_mean\":{\"__ndarray__\":\"ZmZmZmbmQ0CamZmZmRlKQM3MzMzMDFRA\",\"dtype\":\"float64\",\"shape\":[3]},\"rows_with_less_than_k_recommendations_std\":{\"__ndarray__\":\"QgP9OkgUMUCDdtKfIMY3QB/1tM7rkDJA\",\"dtype\":\"float64\",\"shape\":[3]},\"threshold_mean\":{\"__ndarray__\":\"AAAAAAAAAAAAAAAAAAAAAAAAAAAAAAAA\",\"dtype\":\"float64\",\"shape\":[3]},\"threshold_std\":{\"__ndarray__\":\"AAAAAAAAAAAAAAAAAAAAAAAAAAAAAAAA\",\"dtype\":\"float64\",\"shape\":[3]}},\"selected\":{\"id\":\"1172\"},\"selection_policy\":{\"id\":\"1171\"}},\"id\":\"1090\",\"type\":\"ColumnDataSource\"},{\"attributes\":{\"fill_alpha\":{\"value\":0.1},\"fill_color\":{\"value\":\"#7570b3\"},\"line_alpha\":{\"value\":0.1},\"line_color\":{\"value\":\"#7570b3\"},\"x\":{\"field\":\"k_\"},\"y\":{\"field\":\"mapk_mean\"}},\"id\":\"1120\",\"type\":\"Circle\"},{\"attributes\":{\"source\":{\"id\":\"1090\"}},\"id\":\"1100\",\"type\":\"CDSView\"},{\"attributes\":{\"data_source\":{\"id\":\"1079\"},\"glyph\":{\"id\":\"1081\"},\"hover_glyph\":null,\"muted_glyph\":null,\"nonselection_glyph\":{\"id\":\"1082\"},\"selection_glyph\":null,\"view\":{\"id\":\"1084\"}},\"id\":\"1083\",\"type\":\"GlyphRenderer\"},{\"attributes\":{\"data_source\":{\"id\":\"1090\"},\"glyph\":{\"id\":\"1092\"},\"hover_glyph\":null,\"muted_glyph\":null,\"nonselection_glyph\":{\"id\":\"1093\"},\"selection_glyph\":null,\"view\":{\"id\":\"1095\"}},\"id\":\"1094\",\"type\":\"GlyphRenderer\"},{\"attributes\":{\"source\":{\"id\":\"1112\"}},\"id\":\"1122\",\"type\":\"CDSView\"},{\"attributes\":{\"fill_color\":{\"value\":\"#e7298a\"},\"line_color\":{\"value\":\"#e7298a\"},\"x\":{\"field\":\"k_\"},\"y\":{\"field\":\"mapk_mean\"}},\"id\":\"1075\",\"type\":\"Circle\"},{\"attributes\":{\"label\":{\"value\":\"Random Forest without vector space translation\"},\"renderers\":[{\"id\":\"1039\"},{\"id\":\"1044\"}]},\"id\":\"1146\",\"type\":\"LegendItem\"},{\"attributes\":{\"bottom_units\":\"screen\",\"fill_alpha\":0.5,\"fill_color\":\"lightgrey\",\"left_units\":\"screen\",\"level\":\"overlay\",\"line_alpha\":1.0,\"line_color\":\"black\",\"line_dash\":[4,4],\"line_width\":2,\"render_mode\":\"css\",\"right_units\":\"screen\",\"top_units\":\"screen\"},\"id\":\"1027\",\"type\":\"BoxAnnotation\"},{\"attributes\":{\"fill_color\":{\"value\":\"#e7298a\"},\"line_color\":{\"value\":\"#e7298a\"},\"x\":{\"field\":\"k_\"},\"y\":{\"field\":\"mapk_mean\"}},\"id\":\"1130\",\"type\":\"Circle\"},{\"attributes\":{\"data_source\":{\"id\":\"1134\"},\"glyph\":{\"id\":\"1141\"},\"hover_glyph\":null,\"muted_glyph\":null,\"nonselection_glyph\":{\"id\":\"1142\"},\"selection_glyph\":null,\"view\":{\"id\":\"1144\"}},\"id\":\"1143\",\"type\":\"GlyphRenderer\"},{\"attributes\":{\"line_color\":\"#1b9e77\",\"line_width\":2,\"x\":{\"field\":\"k_\"},\"y\":{\"field\":\"mapk_mean\"}},\"id\":\"1092\",\"type\":\"Line\"},{\"attributes\":{\"label\":{\"value\":\"XGBoost without vector space translation\"},\"renderers\":[{\"id\":\"1050\"},{\"id\":\"1055\"}]},\"id\":\"1147\",\"type\":\"LegendItem\"},{\"attributes\":{\"text\":\"MAPK for different k-values (threshold=0)\"},\"id\":\"1003\",\"type\":\"Title\"},{\"attributes\":{},\"id\":\"1158\",\"type\":\"BasicTickFormatter\"},{\"attributes\":{},\"id\":\"1011\",\"type\":\"LinearScale\"},{\"attributes\":{\"data\":{\"f1_average_mean\":{\"__ndarray__\":\"uO8E0keYvD/Wjv8k+nXTP95azyZD/NU/\",\"dtype\":\"float64\",\"shape\":[3]},\"f1_average_std\":{\"__ndarray__\":\"dE86Us5lXD/P8To5M5FsPyTrInz91mc/\",\"dtype\":\"float64\",\"shape\":[3]},\"f1_macro_mean\":{\"__ndarray__\":\"iJLk/5Wrlj/1wkHgSGGwPy9gxyPM6LU/\",\"dtype\":\"float64\",\"shape\":[3]},\"f1_macro_std\":{\"__ndarray__\":\"YfEO5Pb1NT8grO+vYLFPP5WLkRb1UVU/\",\"dtype\":\"float64\",\"shape\":[3]},\"f1_micro_mean\":{\"__ndarray__\":\"kl4deeZZzT9L/9ARdfvePy42BfJvF98/\",\"dtype\":\"float64\",\"shape\":[3]},\"f1_micro_std\":{\"__ndarray__\":\"vxS5ZjYgZD8lhsljsjZsPzUj13yOmGE/\",\"dtype\":\"float64\",\"shape\":[3]},\"hl_mean\":{\"__ndarray__\":\"NI356c8CwD9g0qF7Vqe8P73mdlZi4ME/\",\"dtype\":\"float64\",\"shape\":[3]},\"hl_std\":{\"__ndarray__\":\"y3zUkrKRYz/vS/Oyda9gP7m/7dWGnGI/\",\"dtype\":\"float64\",\"shape\":[3]},\"index\":[0,1,2],\"k_\":[1,3,5],\"mapk_lower\":{\"__ndarray__\":\"oEOsCaBM7T/642aTk3zrP3tfF6vFquU/\",\"dtype\":\"float64\",\"shape\":[3]},\"mapk_mean\":{\"__ndarray__\":\"Q9f9Mmtx7T/wVxxKgZzrP5esdsonx+U/\",\"dtype\":\"float64\",\"shape\":[3]},\"mapk_std\":{\"__ndarray__\":\"rNHJqJRlcj9v9nO1tu1vP+cbTV8fYmw/\",\"dtype\":\"float64\",\"shape\":[3]},\"mapk_upper\":{\"__ndarray__\":\"5mpPXDaW7T/my9EAb7zrP7P51emJ4+U/\",\"dtype\":\"float64\",\"shape\":[3]},\"nans p@k_mean\":{\"__ndarray__\":\"AAAAAAAAAAAAAAAAAAAAAAAAAAAAAAAA\",\"dtype\":\"float64\",\"shape\":[3]},\"nans p@k_std\":{\"__ndarray__\":\"AAAAAAAAAAAAAAAAAAAAAAAAAAAAAAAA\",\"dtype\":\"float64\",\"shape\":[3]},\"nans r@k_mean\":{\"__ndarray__\":\"MzMzMzP3mUAzMzMzM/eZQDMzMzMz95lA\",\"dtype\":\"float64\",\"shape\":[3]},\"nans r@k_std\":{\"__ndarray__\":\"lv3DhKLCTUCW/cOEosJNQJb9w4Siwk1A\",\"dtype\":\"float64\",\"shape\":[3]},\"p@k_mean\":{\"__ndarray__\":\"OF/TURfK5T8IoI5SjX/kPxOIPp0l594/\",\"dtype\":\"float64\",\"shape\":[3]},\"p@k_std\":{\"__ndarray__\":\"ZKxz5qdNgD9s9QDxE+eAP/L6o7gQJXM/\",\"dtype\":\"float64\",\"shape\":[3]},\"r@k_mean\":{\"__ndarray__\":\"qnYqgoq+xD9zy9U9aBbcPw+g87rVIOE/\",\"dtype\":\"float64\",\"shape\":[3]},\"r@k_std\":{\"__ndarray__\":\"crraDQLEYD+gEfLo7NJkP4cqAZJVemE/\",\"dtype\":\"float64\",\"shape\":[3]},\"rows_with_k_recommendations_mean\":{\"__ndarray__\":\"AAAAAAD4uEAAAAAAAPi4QAAAAAAA+LhA\",\"dtype\":\"float64\",\"shape\":[3]},\"rows_with_k_recommendations_std\":{\"__ndarray__\":\"GcoA/GilUEAZygD8aKVQQBnKAPxopVBA\",\"dtype\":\"float64\",\"shape\":[3]},\"rows_with_less_than_k_recommendations_mean\":{\"__ndarray__\":\"AAAAAAAAAAAAAAAAAAAAAAAAAAAAAAAA\",\"dtype\":\"float64\",\"shape\":[3]},\"rows_with_less_than_k_recommendations_std\":{\"__ndarray__\":\"AAAAAAAAAAAAAAAAAAAAAAAAAAAAAAAA\",\"dtype\":\"float64\",\"shape\":[3]},\"threshold_mean\":{\"__ndarray__\":\"AAAAAAAAAAAAAAAAAAAAAAAAAAAAAAAA\",\"dtype\":\"float64\",\"shape\":[3]},\"threshold_std\":{\"__ndarray__\":\"AAAAAAAAAAAAAAAAAAAAAAAAAAAAAAAA\",\"dtype\":\"float64\",\"shape\":[3]}},\"selected\":{\"id\":\"1176\"},\"selection_policy\":{\"id\":\"1175\"}},\"id\":\"1112\",\"type\":\"ColumnDataSource\"},{\"attributes\":{\"source\":{\"id\":\"1134\"}},\"id\":\"1144\",\"type\":\"CDSView\"},{\"attributes\":{},\"id\":\"1165\",\"type\":\"UnionRenderers\"},{\"attributes\":{\"source\":{\"id\":\"1046\"}},\"id\":\"1056\",\"type\":\"CDSView\"},{\"attributes\":{},\"id\":\"1160\",\"type\":\"BasicTickFormatter\"},{\"attributes\":{},\"id\":\"1174\",\"type\":\"Selection\"},{\"attributes\":{},\"id\":\"1009\",\"type\":\"LinearScale\"},{\"attributes\":{\"fill_alpha\":{\"value\":0.1},\"fill_color\":{\"value\":\"#66a61e\"},\"line_alpha\":{\"value\":0.1},\"line_color\":{\"value\":\"#66a61e\"},\"x\":{\"field\":\"k_\"},\"y\":{\"field\":\"mapk_mean\"}},\"id\":\"1142\",\"type\":\"Circle\"},{\"attributes\":{\"source\":{\"id\":\"1046\"}},\"id\":\"1051\",\"type\":\"CDSView\"},{\"attributes\":{},\"id\":\"1161\",\"type\":\"UnionRenderers\"},{\"attributes\":{},\"id\":\"1162\",\"type\":\"Selection\"},{\"attributes\":{},\"id\":\"1007\",\"type\":\"DataRange1d\"},{\"attributes\":{\"line_alpha\":0.1,\"line_color\":\"#7570b3\",\"line_width\":2,\"x\":{\"field\":\"k_\"},\"y\":{\"field\":\"mapk_mean\"}},\"id\":\"1060\",\"type\":\"Line\"},{\"attributes\":{},\"id\":\"1163\",\"type\":\"UnionRenderers\"},{\"attributes\":{\"axis_label\":\"k\",\"formatter\":{\"id\":\"1158\"},\"ticker\":{\"id\":\"1014\"}},\"id\":\"1013\",\"type\":\"LinearAxis\"},{\"attributes\":{\"fill_color\":{\"value\":\"#7570b3\"},\"line_color\":{\"value\":\"#7570b3\"},\"x\":{\"field\":\"k_\"},\"y\":{\"field\":\"mapk_mean\"}},\"id\":\"1119\",\"type\":\"Circle\"},{\"attributes\":{},\"id\":\"1018\",\"type\":\"BasicTicker\"},{\"attributes\":{},\"id\":\"1164\",\"type\":\"Selection\"},{\"attributes\":{\"source\":{\"id\":\"1068\"}},\"id\":\"1073\",\"type\":\"CDSView\"},{\"attributes\":{},\"id\":\"1014\",\"type\":\"BasicTicker\"},{\"attributes\":{},\"id\":\"1166\",\"type\":\"Selection\"},{\"attributes\":{\"fill_color\":{\"value\":\"#1b9e77\"},\"line_color\":{\"value\":\"#1b9e77\"},\"x\":{\"field\":\"k_\"},\"y\":{\"field\":\"mapk_mean\"}},\"id\":\"1097\",\"type\":\"Circle\"},{\"attributes\":{\"axis\":{\"id\":\"1013\"},\"ticker\":null},\"id\":\"1016\",\"type\":\"Grid\"},{\"attributes\":{\"fill_color\":{\"value\":\"#d95f02\"},\"line_color\":{\"value\":\"#d95f02\"},\"x\":{\"field\":\"k_\"},\"y\":{\"field\":\"mapk_mean\"}},\"id\":\"1053\",\"type\":\"Circle\"},{\"attributes\":{\"data_source\":{\"id\":\"1046\"},\"glyph\":{\"id\":\"1048\"},\"hover_glyph\":null,\"muted_glyph\":null,\"nonselection_glyph\":{\"id\":\"1049\"},\"selection_glyph\":null,\"view\":{\"id\":\"1051\"}},\"id\":\"1050\",\"type\":\"GlyphRenderer\"},{\"attributes\":{\"active_drag\":\"auto\",\"active_inspect\":\"auto\",\"active_multi\":null,\"active_scroll\":\"auto\",\"active_tap\":\"auto\",\"tools\":[{\"id\":\"1021\"},{\"id\":\"1022\"},{\"id\":\"1023\"},{\"id\":\"1024\"},{\"id\":\"1025\"},{\"id\":\"1026\"}]},\"id\":\"1028\",\"type\":\"Toolbar\"},{\"attributes\":{},\"id\":\"1171\",\"type\":\"UnionRenderers\"},{\"attributes\":{\"axis\":{\"id\":\"1017\"},\"dimension\":1,\"ticker\":null},\"id\":\"1020\",\"type\":\"Grid\"},{\"attributes\":{\"line_color\":\"#7570b3\",\"line_width\":2,\"x\":{\"field\":\"k_\"},\"y\":{\"field\":\"mapk_mean\"}},\"id\":\"1114\",\"type\":\"Line\"},{\"attributes\":{},\"id\":\"1179\",\"type\":\"UnionRenderers\"},{\"attributes\":{\"line_color\":\"#7570b3\",\"line_width\":2,\"x\":{\"field\":\"k_\"},\"y\":{\"field\":\"mapk_mean\"}},\"id\":\"1059\",\"type\":\"Line\"},{\"attributes\":{\"axis_label\":\"MAPK\",\"formatter\":{\"id\":\"1160\"},\"ticker\":{\"id\":\"1018\"}},\"id\":\"1017\",\"type\":\"LinearAxis\"},{\"attributes\":{},\"id\":\"1167\",\"type\":\"UnionRenderers\"},{\"attributes\":{\"source\":{\"id\":\"1035\"}},\"id\":\"1040\",\"type\":\"CDSView\"},{\"attributes\":{\"data_source\":{\"id\":\"1057\"},\"glyph\":{\"id\":\"1064\"},\"hover_glyph\":null,\"muted_glyph\":null,\"nonselection_glyph\":{\"id\":\"1065\"},\"selection_glyph\":null,\"view\":{\"id\":\"1067\"}},\"id\":\"1066\",\"type\":\"GlyphRenderer\"},{\"attributes\":{\"source\":{\"id\":\"1123\"}},\"id\":\"1128\",\"type\":\"CDSView\"},{\"attributes\":{\"label\":{\"value\":\"Random Forest with original features without vector space translation\"},\"renderers\":[{\"id\":\"1083\"},{\"id\":\"1088\"}]},\"id\":\"1150\",\"type\":\"LegendItem\"},{\"attributes\":{},\"id\":\"1168\",\"type\":\"Selection\"},{\"attributes\":{\"label\":{\"value\":\"Random Forest with vector space translation\"},\"renderers\":[{\"id\":\"1061\"},{\"id\":\"1066\"}]},\"id\":\"1148\",\"type\":\"LegendItem\"},{\"attributes\":{\"source\":{\"id\":\"1057\"}},\"id\":\"1062\",\"type\":\"CDSView\"},{\"attributes\":{\"label\":{\"value\":\"Benchmark: Multi-label classification without network features\"},\"renderers\":[{\"id\":\"1094\"},{\"id\":\"1099\"}]},\"id\":\"1151\",\"type\":\"LegendItem\"},{\"attributes\":{},\"id\":\"1169\",\"type\":\"UnionRenderers\"},{\"attributes\":{\"data_source\":{\"id\":\"1123\"},\"glyph\":{\"id\":\"1125\"},\"hover_glyph\":null,\"muted_glyph\":null,\"nonselection_glyph\":{\"id\":\"1126\"},\"selection_glyph\":null,\"view\":{\"id\":\"1128\"}},\"id\":\"1127\",\"type\":\"GlyphRenderer\"},{\"attributes\":{\"label\":{\"value\":\"XGBoost with vector space translation\"},\"renderers\":[{\"id\":\"1072\"},{\"id\":\"1077\"}]},\"id\":\"1149\",\"type\":\"LegendItem\"},{\"attributes\":{\"label\":{\"value\":\"Benchmark: Multi-label classification with extended RFM features\"},\"renderers\":[{\"id\":\"1105\"},{\"id\":\"1110\"}]},\"id\":\"1152\",\"type\":\"LegendItem\"},{\"attributes\":{},\"id\":\"1170\",\"type\":\"Selection\"},{\"attributes\":{\"line_color\":\"#d95f02\",\"line_width\":2,\"x\":{\"field\":\"k_\"},\"y\":{\"field\":\"mapk_mean\"}},\"id\":\"1048\",\"type\":\"Line\"},{\"attributes\":{},\"id\":\"1180\",\"type\":\"Selection\"},{\"attributes\":{\"data_source\":{\"id\":\"1101\"},\"glyph\":{\"id\":\"1108\"},\"hover_glyph\":null,\"muted_glyph\":null,\"nonselection_glyph\":{\"id\":\"1109\"},\"selection_glyph\":null,\"view\":{\"id\":\"1111\"}},\"id\":\"1110\",\"type\":\"GlyphRenderer\"},{\"attributes\":{\"line_alpha\":0.1,\"line_color\":\"#e7298a\",\"line_width\":2,\"x\":{\"field\":\"k_\"},\"y\":{\"field\":\"mapk_mean\"}},\"id\":\"1071\",\"type\":\"Line\"},{\"attributes\":{\"data_source\":{\"id\":\"1068\"},\"glyph\":{\"id\":\"1070\"},\"hover_glyph\":null,\"muted_glyph\":null,\"nonselection_glyph\":{\"id\":\"1071\"},\"selection_glyph\":null,\"view\":{\"id\":\"1073\"}},\"id\":\"1072\",\"type\":\"GlyphRenderer\"},{\"attributes\":{\"label\":{\"value\":\"Benchmark: implicit feedback\"},\"renderers\":[{\"id\":\"1138\"},{\"id\":\"1143\"}]},\"id\":\"1155\",\"type\":\"LegendItem\"},{\"attributes\":{},\"id\":\"1022\",\"type\":\"WheelZoomTool\"},{\"attributes\":{},\"id\":\"1175\",\"type\":\"UnionRenderers\"},{\"attributes\":{\"fill_color\":{\"value\":\"#1b9e77\"},\"line_color\":{\"value\":\"#1b9e77\"},\"x\":{\"field\":\"k_\"},\"y\":{\"field\":\"mapk_mean\"}},\"id\":\"1042\",\"type\":\"Circle\"},{\"attributes\":{\"fill_alpha\":{\"value\":0.1},\"fill_color\":{\"value\":\"#1b9e77\"},\"line_alpha\":{\"value\":0.1},\"line_color\":{\"value\":\"#1b9e77\"},\"x\":{\"field\":\"k_\"},\"y\":{\"field\":\"mapk_mean\"}},\"id\":\"1043\",\"type\":\"Circle\"},{\"attributes\":{\"overlay\":{\"id\":\"1027\"}},\"id\":\"1023\",\"type\":\"BoxZoomTool\"},{\"attributes\":{\"label\":{\"value\":\"Benchmark: popular vote\"},\"renderers\":[{\"id\":\"1116\"},{\"id\":\"1121\"}]},\"id\":\"1153\",\"type\":\"LegendItem\"},{\"attributes\":{},\"id\":\"1024\",\"type\":\"SaveTool\"},{\"attributes\":{\"label\":{\"value\":\"Benchmark: explicit feedback\"},\"renderers\":[{\"id\":\"1127\"},{\"id\":\"1132\"}]},\"id\":\"1154\",\"type\":\"LegendItem\"},{\"attributes\":{},\"id\":\"1025\",\"type\":\"ResetTool\"},{\"attributes\":{\"source\":{\"id\":\"1035\"}},\"id\":\"1045\",\"type\":\"CDSView\"},{\"attributes\":{\"fill_alpha\":{\"value\":0.1},\"fill_color\":{\"value\":\"#d95f02\"},\"line_alpha\":{\"value\":0.1},\"line_color\":{\"value\":\"#d95f02\"},\"x\":{\"field\":\"k_\"},\"y\":{\"field\":\"mapk_mean\"}},\"id\":\"1054\",\"type\":\"Circle\"},{\"attributes\":{\"data\":{\"f1_average_mean\":{\"__ndarray__\":\"SUAIW4/l4D/+Anec2e/gP51yyNs34eA/\",\"dtype\":\"float64\",\"shape\":[3]},\"f1_average_std\":{\"__ndarray__\":\"hysxubpSeT+ONUdUyud9P5KBJa7Kjnk/\",\"dtype\":\"float64\",\"shape\":[3]},\"f1_macro_mean\":{\"__ndarray__\":\"Q/V14+O2zD/AKUcqOanMP40+6neYlsw/\",\"dtype\":\"float64\",\"shape\":[3]},\"f1_macro_std\":{\"__ndarray__\":\"m+a7Gymydz9pgSfureaHP9E73ue7toM/\",\"dtype\":\"float64\",\"shape\":[3]},\"f1_micro_mean\":{\"__ndarray__\":\"Mwcj0s1H2z99HF9FjznbP12r0FxUTNs/\",\"dtype\":\"float64\",\"shape\":[3]},\"f1_micro_std\":{\"__ndarray__\":\"UvH1nJpKjz/O0dwvstuPPwhVENt/QpE/\",\"dtype\":\"float64\",\"shape\":[3]},\"hl_mean\":{\"__ndarray__\":\"BS2yYs0z1j/qNqh9vFTWP1rDK60hV9Y/\",\"dtype\":\"float64\",\"shape\":[3]},\"hl_std\":{\"__ndarray__\":\"SU9GBziXmD/RkgphTBqaP5YGb9Lvlp8/\",\"dtype\":\"float64\",\"shape\":[3]},\"index\":[0,1,2],\"k_\":[1,3,5],\"mapk_lower\":{\"__ndarray__\":\"647RoCvG6j+85DYcmcPoP8oxX72Yb+Y/\",\"dtype\":\"float64\",\"shape\":[3]},\"mapk_mean\":{\"__ndarray__\":\"YlCXQgEX7D9CiBy7N7TpP9ZseKJwB+c/\",\"dtype\":\"float64\",\"shape\":[3]},\"mapk_std\":{\"__ndarray__\":\"dxdcHFoNpT/AcLTc0xOeP4hhJ6P8+pI/\",\"dtype\":\"float64\",\"shape\":[3]},\"mapk_upper\":{\"__ndarray__\":\"2RFd5NZn7T/IKwJa1qTqP+KnkYdIn+c/\",\"dtype\":\"float64\",\"shape\":[3]},\"nans p@k_mean\":{\"__ndarray__\":\"mpmZmZmZyT8AAAAAAAAAAAAAAAAAAAAA\",\"dtype\":\"float64\",\"shape\":[3]},\"nans p@k_std\":{\"__ndarray__\":\"2u2/xSWf3D8AAAAAAAAAAAAAAAAAAAAA\",\"dtype\":\"float64\",\"shape\":[3]},\"nans r@k_mean\":{\"__ndarray__\":\"MzMzMzP3mUAzMzMzM/eZQDMzMzMz95lA\",\"dtype\":\"float64\",\"shape\":[3]},\"nans r@k_std\":{\"__ndarray__\":\"lv3DhKLCTUCW/cOEosJNQJb9w4Siwk1A\",\"dtype\":\"float64\",\"shape\":[3]},\"p@k_mean\":{\"__ndarray__\":\"vdfcjqQk5T+2O26Dyq/jP5pen6xZHOE/\",\"dtype\":\"float64\",\"shape\":[3]},\"p@k_std\":{\"__ndarray__\":\"EDA3jhoRmD+aeGTezZeJP84xNdI8T4U/\",\"dtype\":\"float64\",\"shape\":[3]},\"r@k_mean\":{\"__ndarray__\":\"TVV8aZoFxT+abIZ8/YPbP/my/p8hLOM/\",\"dtype\":\"float64\",\"shape\":[3]},\"r@k_std\":{\"__ndarray__\":\"gm8CLCPjdz/xPumRKqJ/P89mSXIR5YE/\",\"dtype\":\"float64\",\"shape\":[3]},\"rows_with_k_recommendations_mean\":{\"__ndarray__\":\"zczMzMz3uEBmZmZmZvS4QDMzMzMz9LhA\",\"dtype\":\"float64\",\"shape\":[3]},\"rows_with_k_recommendations_std\":{\"__ndarray__\":\"kS48FKutUEDZUsuZnABRQFfYzvcEolFA\",\"dtype\":\"float64\",\"shape\":[3]},\"rows_with_less_than_k_recommendations_mean\":{\"__ndarray__\":\"mpmZmZmZyT/NzMzMzMwMQGZmZmZmZg5A\",\"dtype\":\"float64\",\"shape\":[3]},\"rows_with_less_than_k_recommendations_std\":{\"__ndarray__\":\"2u2/xSWf3D/Heh7By0oPQFVVZoaIEBFA\",\"dtype\":\"float64\",\"shape\":[3]},\"threshold_mean\":{\"__ndarray__\":\"AAAAAAAAAAAAAAAAAAAAAAAAAAAAAAAA\",\"dtype\":\"float64\",\"shape\":[3]},\"threshold_std\":{\"__ndarray__\":\"AAAAAAAAAAAAAAAAAAAAAAAAAAAAAAAA\",\"dtype\":\"float64\",\"shape\":[3]}},\"selected\":{\"id\":\"1166\"},\"selection_policy\":{\"id\":\"1165\"}},\"id\":\"1057\",\"type\":\"ColumnDataSource\"},{\"attributes\":{\"data\":{\"f1_average_mean\":{\"__ndarray__\":\"ko2L2umM4D8KiL9i+YzgP4rhsiHZjOA/\",\"dtype\":\"float64\",\"shape\":[3]},\"f1_average_std\":{\"__ndarray__\":\"L2MKuUa8cT+cDd8uzm1xP/I0BlgxsnE/\",\"dtype\":\"float64\",\"shape\":[3]},\"f1_macro_mean\":{\"__ndarray__\":\"sgwpjl+Eyz8DlOZEYITLP/oQ63ODfcs/\",\"dtype\":\"float64\",\"shape\":[3]},\"f1_macro_std\":{\"__ndarray__\":\"9peM3CccfT8LDYhhAdB9P+AHJejbOn4/\",\"dtype\":\"float64\",\"shape\":[3]},\"f1_micro_mean\":{\"__ndarray__\":\"xZpVDcz50z8iXul3o/3TP2Uz/2Yk99M/\",\"dtype\":\"float64\",\"shape\":[3]},\"f1_micro_std\":{\"__ndarray__\":\"+q0myktVgT+HGEMKbKaBP+sZuyAR8YE/\",\"dtype\":\"float64\",\"shape\":[3]},\"hl_mean\":{\"__ndarray__\":\"6H3XigHe4z+5sP/SKtjjP0bYmosU4eM/\",\"dtype\":\"float64\",\"shape\":[3]},\"hl_std\":{\"__ndarray__\":\"VcZmlNmHfj/+EMiXsd+AP8Zxfgu9zIA/\",\"dtype\":\"float64\",\"shape\":[3]},\"index\":[0,1,2],\"k_\":[1,3,5],\"mapk_lower\":{\"__ndarray__\":\"Ch3h4zU97T/802nr63rrP8XAI5C84Oc/\",\"dtype\":\"float64\",\"shape\":[3]},\"mapk_mean\":{\"__ndarray__\":\"omYfLZNt7T8r4CJvT6nrPxt+gxRQqug/\",\"dtype\":\"float64\",\"shape\":[3]},\"mapk_std\":{\"__ndarray__\":\"+8skn6QueD+BF4bcwTF3P76q94twMpk/\",\"dtype\":\"float64\",\"shape\":[3]},\"mapk_upper\":{\"__ndarray__\":\"OrBddvCd7T9a7NvystfrP3E745jjc+k/\",\"dtype\":\"float64\",\"shape\":[3]},\"nans p@k_mean\":{\"__ndarray__\":\"AAAAAAAAAAAAAAAAAAAAAAAAAAAAAAAA\",\"dtype\":\"float64\",\"shape\":[3]},\"nans p@k_std\":{\"__ndarray__\":\"AAAAAAAAAAAAAAAAAAAAAAAAAAAAAAAA\",\"dtype\":\"float64\",\"shape\":[3]},\"nans r@k_mean\":{\"__ndarray__\":\"MzMzMzP3mUAzMzMzM/eZQDMzMzMz95lA\",\"dtype\":\"float64\",\"shape\":[3]},\"nans r@k_std\":{\"__ndarray__\":\"lv3DhKLCTUCW/cOEosJNQJb9w4Siwk1A\",\"dtype\":\"float64\",\"shape\":[3]},\"p@k_mean\":{\"__ndarray__\":\"MGNt+FHS5T/HzdxgFYrkP5hmLmDOruE/\",\"dtype\":\"float64\",\"shape\":[3]},\"p@k_std\":{\"__ndarray__\":\"u3N+HIC1gT+fIezToaCBP12JFTN1DpQ/\",\"dtype\":\"float64\",\"shape\":[3]},\"r@k_mean\":{\"__ndarray__\":\"Cjjz/07lxD8NsuNC3V7cP2N68DPczOM/\",\"dtype\":\"float64\",\"shape\":[3]},\"r@k_std\":{\"__ndarray__\":\"RP9N5DkZZD+l5HgCDcFvP1Gm1h0UpJQ/\",\"dtype\":\"float64\",\"shape\":[3]},\"rows_with_k_recommendations_mean\":{\"__ndarray__\":\"AAAAAAD4uEAAAAAAAPi4QAAAAAAA+LhA\",\"dtype\":\"float64\",\"shape\":[3]},\"rows_with_k_recommendations_std\":{\"__ndarray__\":\"GcoA/GilUEAZygD8aKVQQBnKAPxopVBA\",\"dtype\":\"float64\",\"shape\":[3]},\"rows_with_less_than_k_recommendations_mean\":{\"__ndarray__\":\"AAAAAAAAAAAAAAAAAAAAAAAAAAAAAAAA\",\"dtype\":\"float64\",\"shape\":[3]},\"rows_with_less_than_k_recommendations_std\":{\"__ndarray__\":\"AAAAAAAAAAAAAAAAAAAAAAAAAAAAAAAA\",\"dtype\":\"float64\",\"shape\":[3]},\"threshold_mean\":{\"__ndarray__\":\"AAAAAAAAAAAAAAAAAAAAAAAAAAAAAAAA\",\"dtype\":\"float64\",\"shape\":[3]},\"threshold_std\":{\"__ndarray__\":\"AAAAAAAAAAAAAAAAAAAAAAAAAAAAAAAA\",\"dtype\":\"float64\",\"shape\":[3]}},\"selected\":{\"id\":\"1170\"},\"selection_policy\":{\"id\":\"1169\"}},\"id\":\"1079\",\"type\":\"ColumnDataSource\"},{\"attributes\":{},\"id\":\"1026\",\"type\":\"HelpTool\"},{\"attributes\":{\"data_source\":{\"id\":\"1035\"},\"glyph\":{\"id\":\"1042\"},\"hover_glyph\":null,\"muted_glyph\":null,\"nonselection_glyph\":{\"id\":\"1043\"},\"selection_glyph\":null,\"view\":{\"id\":\"1045\"}},\"id\":\"1044\",\"type\":\"GlyphRenderer\"},{\"attributes\":{\"fill_alpha\":{\"value\":0.1},\"fill_color\":{\"value\":\"#7570b3\"},\"line_alpha\":{\"value\":0.1},\"line_color\":{\"value\":\"#7570b3\"},\"x\":{\"field\":\"k_\"},\"y\":{\"field\":\"mapk_mean\"}},\"id\":\"1065\",\"type\":\"Circle\"},{\"attributes\":{\"fill_alpha\":{\"value\":0.1},\"fill_color\":{\"value\":\"#e7298a\"},\"line_alpha\":{\"value\":0.1},\"line_color\":{\"value\":\"#e7298a\"},\"x\":{\"field\":\"k_\"},\"y\":{\"field\":\"mapk_mean\"}},\"id\":\"1076\",\"type\":\"Circle\"},{\"attributes\":{\"line_alpha\":0.1,\"line_color\":\"#66a61e\",\"line_width\":2,\"x\":{\"field\":\"k_\"},\"y\":{\"field\":\"mapk_mean\"}},\"id\":\"1082\",\"type\":\"Line\"},{\"attributes\":{\"data_source\":{\"id\":\"1057\"},\"glyph\":{\"id\":\"1059\"},\"hover_glyph\":null,\"muted_glyph\":null,\"nonselection_glyph\":{\"id\":\"1060\"},\"selection_glyph\":null,\"view\":{\"id\":\"1062\"}},\"id\":\"1061\",\"type\":\"GlyphRenderer\"},{\"attributes\":{\"data_source\":{\"id\":\"1046\"},\"glyph\":{\"id\":\"1053\"},\"hover_glyph\":null,\"muted_glyph\":null,\"nonselection_glyph\":{\"id\":\"1054\"},\"selection_glyph\":null,\"view\":{\"id\":\"1056\"}},\"id\":\"1055\",\"type\":\"GlyphRenderer\"},{\"attributes\":{\"line_alpha\":0.1,\"line_color\":\"#1b9e77\",\"line_width\":2,\"x\":{\"field\":\"k_\"},\"y\":{\"field\":\"mapk_mean\"}},\"id\":\"1038\",\"type\":\"Line\"},{\"attributes\":{\"line_color\":\"#66a61e\",\"line_width\":2,\"x\":{\"field\":\"k_\"},\"y\":{\"field\":\"mapk_mean\"}},\"id\":\"1081\",\"type\":\"Line\"},{\"attributes\":{},\"id\":\"1176\",\"type\":\"Selection\"},{\"attributes\":{\"data\":{\"f1_average_mean\":{\"__ndarray__\":\"Iqb672WF4D8ipvrvZYXgPyKm+u9lheA/\",\"dtype\":\"float64\",\"shape\":[3]},\"f1_average_std\":{\"__ndarray__\":\"RuuNmgKFcD9G642aAoVwP0brjZoChXA/\",\"dtype\":\"float64\",\"shape\":[3]},\"f1_macro_mean\":{\"__ndarray__\":\"KroNRVrMyj8qug1FWszKPyq6DUVazMo/\",\"dtype\":\"float64\",\"shape\":[3]},\"f1_macro_std\":{\"__ndarray__\":\"Y5oi1XTDdT9jmiLVdMN1P2OaItV0w3U/\",\"dtype\":\"float64\",\"shape\":[3]},\"f1_micro_mean\":{\"__ndarray__\":\"KMPzKTTSzz8ow/MpNNLPPyjD8yk00s8/\",\"dtype\":\"float64\",\"shape\":[3]},\"f1_micro_std\":{\"__ndarray__\":\"GoK3j7H/fz8agrePsf9/PxqCt4+x/38/\",\"dtype\":\"float64\",\"shape\":[3]},\"hl_mean\":{\"__ndarray__\":\"wuw7QzFN6z/C7DtDMU3rP8LsO0MxTes/\",\"dtype\":\"float64\",\"shape\":[3]},\"hl_std\":{\"__ndarray__\":\"O0OphqvOjj87Q6mGq86OPztDqYarzo4/\",\"dtype\":\"float64\",\"shape\":[3]},\"index\":[0,1,2],\"k_\":[1,3,5],\"mapk_lower\":{\"__ndarray__\":\"jpqZ9pOz6T/yNchEuBLnP6mjTfX6D+Y/\",\"dtype\":\"float64\",\"shape\":[3]},\"mapk_mean\":{\"__ndarray__\":\"vbdmdvto6z/mW/Chx3voPxRgfAZUouY/\",\"dtype\":\"float64\",\"shape\":[3]},\"mapk_std\":{\"__ndarray__\":\"9dLR/HdWqz8/X4LS9ZCmP1yN1yUiS5I/\",\"dtype\":\"float64\",\"shape\":[3]},\"mapk_upper\":{\"__ndarray__\":\"7NQz9mIe7T/agRj/1uTpP38cqxetNOc/\",\"dtype\":\"float64\",\"shape\":[3]},\"nans p@k_mean\":{\"__ndarray__\":\"AAAAAAAAAAAAAAAAAAAAAAAAAAAAAAAA\",\"dtype\":\"float64\",\"shape\":[3]},\"nans p@k_std\":{\"__ndarray__\":\"AAAAAAAAAAAAAAAAAAAAAAAAAAAAAAAA\",\"dtype\":\"float64\",\"shape\":[3]},\"nans r@k_mean\":{\"__ndarray__\":\"MzMzMzP3mUAzMzMzM/eZQDMzMzMz95lA\",\"dtype\":\"float64\",\"shape\":[3]},\"nans r@k_std\":{\"__ndarray__\":\"lv3DhKLCTUCW/cOEosJNQJb9w4Siwk1A\",\"dtype\":\"float64\",\"shape\":[3]},\"p@k_mean\":{\"__ndarray__\":\"z4vopt9H5D8ajJe7H7DiP4ar5P+QwOA/\",\"dtype\":\"float64\",\"shape\":[3]},\"p@k_std\":{\"__ndarray__\":\"cDeYFfIgoz/9SPkBqvqUP51VpAJ12II/\",\"dtype\":\"float64\",\"shape\":[3]},\"r@k_mean\":{\"__ndarray__\":\"0y51Q2oZxD+IzToPR0jaPw1l/x/w7OI/\",\"dtype\":\"float64\",\"shape\":[3]},\"r@k_std\":{\"__ndarray__\":\"EGns/6nEgT+7RGZMXQmVP1Hz1zQw7YY/\",\"dtype\":\"float64\",\"shape\":[3]},\"rows_with_k_recommendations_mean\":{\"__ndarray__\":\"AAAAAAD4uEAAAAAAAPi4QAAAAAAA+LhA\",\"dtype\":\"float64\",\"shape\":[3]},\"rows_with_k_recommendations_std\":{\"__ndarray__\":\"GcoA/GilUEAZygD8aKVQQBnKAPxopVBA\",\"dtype\":\"float64\",\"shape\":[3]},\"rows_with_less_than_k_recommendations_mean\":{\"__ndarray__\":\"AAAAAAAAAAAAAAAAAAAAAAAAAAAAAAAA\",\"dtype\":\"float64\",\"shape\":[3]},\"rows_with_less_than_k_recommendations_std\":{\"__ndarray__\":\"AAAAAAAAAAAAAAAAAAAAAAAAAAAAAAAA\",\"dtype\":\"float64\",\"shape\":[3]},\"threshold_mean\":{\"__ndarray__\":\"AAAAAAAAAAAAAAAAAAAAAAAAAAAAAAAA\",\"dtype\":\"float64\",\"shape\":[3]},\"threshold_std\":{\"__ndarray__\":\"AAAAAAAAAAAAAAAAAAAAAAAAAAAAAAAA\",\"dtype\":\"float64\",\"shape\":[3]}},\"selected\":{\"id\":\"1168\"},\"selection_policy\":{\"id\":\"1167\"}},\"id\":\"1068\",\"type\":\"ColumnDataSource\"},{\"attributes\":{\"source\":{\"id\":\"1057\"}},\"id\":\"1067\",\"type\":\"CDSView\"}],\"root_ids\":[\"1002\"]},\"title\":\"Bokeh Application\",\"version\":\"2.0.1\"}};\n",
       "  var render_items = [{\"docid\":\"e8ae0acc-7b6b-488b-8a8c-38ddb7a07a09\",\"root_ids\":[\"1002\"],\"roots\":{\"1002\":\"9ac024d0-b10c-4179-bb1e-73828247f6d0\"}}];\n",
       "  root.Bokeh.embed.embed_items_notebook(docs_json, render_items);\n",
       "\n",
       "  }\n",
       "  if (root.Bokeh !== undefined) {\n",
       "    embed_document(root);\n",
       "  } else {\n",
       "    var attempts = 0;\n",
       "    var timer = setInterval(function(root) {\n",
       "      if (root.Bokeh !== undefined) {\n",
       "        clearInterval(timer);\n",
       "        embed_document(root);\n",
       "      } else {\n",
       "        attempts++;\n",
       "        if (attempts > 100) {\n",
       "          clearInterval(timer);\n",
       "          console.log(\"Bokeh: ERROR: Unable to run BokehJS code because BokehJS library is missing\");\n",
       "        }\n",
       "      }\n",
       "    }, 10, root)\n",
       "  }\n",
       "})(window);"
      ],
      "application/vnd.bokehjs_exec.v0+json": ""
     },
     "metadata": {
      "application/vnd.bokehjs_exec.v0+json": {
       "id": "1002"
      }
     },
     "output_type": "display_data"
    }
   ],
   "source": [
    "show(p)"
   ]
  },
  {
   "cell_type": "markdown",
   "metadata": {
    "slideshow": {
     "slide_type": "slide"
    }
   },
   "source": [
    "----"
   ]
  },
  {
   "cell_type": "code",
   "execution_count": null,
   "metadata": {},
   "outputs": [],
   "source": [
    "df_subset_0 = pd.concat([pd.read_csv(f, index_col=0) for f in glob.glob('./papermill/all_products/*_subset_0.csv')], ignore_index = True)"
   ]
  },
  {
   "cell_type": "code",
   "execution_count": null,
   "metadata": {},
   "outputs": [],
   "source": [
    "df_subset_0[df_subset_0.config_name == \"Random Forest without vector space translation\"]"
   ]
  },
  {
   "cell_type": "markdown",
   "metadata": {},
   "source": [
    "## Results for k=3 and t=0.5 "
   ]
  },
  {
   "cell_type": "code",
   "execution_count": null,
   "metadata": {},
   "outputs": [],
   "source": [
    "df_k3_t05 = df[(df.threshold==0.5)&(df.k == 3)]"
   ]
  },
  {
   "cell_type": "code",
   "execution_count": null,
   "metadata": {},
   "outputs": [],
   "source": [
    "# Get the mean over 5 replications\n",
    "df_k3_t05_grouped = df_k3_t05.groupby('config_name').agg(['mean', 'std']) #.mean()"
   ]
  },
  {
   "cell_type": "code",
   "execution_count": null,
   "metadata": {
    "scrolled": true
   },
   "outputs": [],
   "source": [
    "df_k3_t05_grouped_subset = df_k3_t05_grouped.loc[:, ['hl', 'mapk', 'f1_macro', 'f1_micro']]\n",
    "# We have to update the multiindex @column level. This multiindex is not updated with .loc. Hence when we try to change\n",
    "# the column names it will throw an error. Solution: remove_unused_levels().\n",
    "df_k3_t05_grouped_subset.columns = df_k3_t05_grouped_subset.columns.remove_unused_levels()\n",
    "#df_k3_t05_grouped_subset.columns.set_levels(['threshold','k','AP','AR' ,'Hamming loss', 'MAPK', 'F1 macro', 'F1 micro'], level=0, inplace=True)\n",
    "df_k3_t05_grouped_subset.columns.set_levels(['Hamming loss', 'MAPK', 'F1 macro', 'F1 micro'], level=0, inplace=True)\n",
    "df_k3_t05_grouped_subset.round(3)"
   ]
  },
  {
   "cell_type": "code",
   "execution_count": null,
   "metadata": {},
   "outputs": [],
   "source": [
    "df_sorted = df.merge(df_k3_t05_grouped, left_on='config_name', right_on='config_name', suffixes=('', '_mean'), how='left')\n",
    "df_sorted = df_sorted.sort_values(by=('ma', 'mean'), ascending=False)\n",
    "ax = sns.barplot(x='config_name', y='ma', data=df_sorted,capsize=.2)\n",
    "ax.set_title('Average MAPK scores over 5 replications')\n",
    "ax.set_ylabel('Average MAPK')\n",
    "plt.xticks(rotation=90)\n",
    "\n",
    "plt.savefig('./images/MAPK_plot.png', bbox_inches = \"tight\")"
   ]
  },
  {
   "cell_type": "markdown",
   "metadata": {},
   "source": [
    "-----"
   ]
  },
  {
   "cell_type": "code",
   "execution_count": null,
   "metadata": {},
   "outputs": [],
   "source": [
    "line1 = plt.plot(x_axis, data1,'ko-',label='line1')\n",
    "line2 = plt.plot(x_axis, data2,'ro-',label='line2') \n",
    "line3 = plt.plot(x_axis, data3,'mo-',label='line3')"
   ]
  },
  {
   "cell_type": "code",
   "execution_count": null,
   "metadata": {},
   "outputs": [],
   "source": [
    "import matplotlib.pyplot as plt"
   ]
  },
  {
   "cell_type": "code",
   "execution_count": null,
   "metadata": {},
   "outputs": [],
   "source": [
    "plt.figure(figsize=(10,8))\n",
    "for config in df.config_name.unique():\n",
    "    dff = df[df.config_name == config].sort_values(by='k')\n",
    "    #print(dff.head())\n",
    "    plt.plot('k', 'mapk', data=dff, label=config, marker='o', linestyle='')\n",
    "plt.legend()\n",
    "plt.title(\"MAPK scores for different values of k\")\n",
    "plt.xlabel(\"k\")\n",
    "plt.ylabel(\"MAPK\")\n",
    "\n",
    "plt.savefig('one.png')"
   ]
  },
  {
   "cell_type": "code",
   "execution_count": null,
   "metadata": {},
   "outputs": [],
   "source": [
    "df.config_name.unique()"
   ]
  },
  {
   "cell_type": "code",
   "execution_count": null,
   "metadata": {},
   "outputs": [],
   "source": [
    "configs = ['Random Forest without vector space translation',\n",
    "       'XGBoost without vector space translation',\n",
    "       'Random Forest with original features without vector space translation',\n",
    "       'Benchmark: Multi-label classification without network features',\n",
    "       'Benchmark: Multi-label classification with extended RFM features',\n",
    "       'Benchmark: popular vote', 'Benchmark: explicit feedback',\n",
    "       'Benchmark: implicit feedback']"
   ]
  },
  {
   "cell_type": "code",
   "execution_count": null,
   "metadata": {},
   "outputs": [],
   "source": [
    "df_subset_configs = df[df.config_name.isin(configs)]"
   ]
  },
  {
   "cell_type": "code",
   "execution_count": null,
   "metadata": {
    "scrolled": true
   },
   "outputs": [],
   "source": [
    "import seaborn as sns\n",
    "sns.set(style=\"ticks\", palette=\"pastel\")\n",
    "\n",
    "# Load the example tips dataset\n",
    "fig, ax = plt.subplots(figsize=(15,15))\n",
    "\n",
    "# Draw a nested boxplot to show bills by day and time\n",
    "\n",
    "ax = sns.boxplot(x=\"k\", y=\"mapk\",\n",
    "            hue=\"config_name\",\n",
    "            data=df_subset_configs, ax=ax)\n"
   ]
  },
  {
   "cell_type": "code",
   "execution_count": null,
   "metadata": {},
   "outputs": [],
   "source": [
    "plt.figure(figsize=(10,8))\n",
    "for config in df.config_name.unique():\n",
    "    dff = df[df.config_name == config].sort_values(by='k')\n",
    "    plt.plot('k', 'hl', data=dff, label=config, marker='o')\n",
    "plt.legend()\n",
    "plt.title(\"Hamilton loss scores for different values of k\")\n",
    "plt.xlabel(\"k\")\n",
    "plt.ylabel(\"Hamilton Loss\")\n",
    "\n",
    "plt.savefig('two.png')"
   ]
  },
  {
   "cell_type": "code",
   "execution_count": null,
   "metadata": {},
   "outputs": [],
   "source": [
    "axes.flatten()"
   ]
  },
  {
   "cell_type": "code",
   "execution_count": null,
   "metadata": {},
   "outputs": [],
   "source": [
    "measures[0]"
   ]
  },
  {
   "cell_type": "code",
   "execution_count": null,
   "metadata": {},
   "outputs": [],
   "source": [
    "fig, axes = plt.subplots(3,2, figsize=(15,15))\n",
    "measures = ['ap', 'ar', 'ma', 'f1_macro', 'f1_micro','f1_average']\n",
    "for i, axi in enumerate(axes.flatten()):\n",
    "    for config in df.config_name.unique():\n",
    "        dff = df[df.config_name == config].sort_values(by='k')\n",
    "        axi.plot('k', measures[i], data=dff, label=config, marker='o')\n",
    "    #axi.legend()\n",
    "    axi.set_title(measures[i]+\" scores for different values of k\")\n",
    "    axi.set_xlabel(\"k\")\n",
    "    axi.set_ylabel(measures[i])\n",
    "handles, labels = axi.get_legend_handles_labels()\n",
    "fig.legend(handles, labels, loc='upper center')\n",
    "\n",
    "plt.savefig('three.png')"
   ]
  },
  {
   "cell_type": "code",
   "execution_count": null,
   "metadata": {},
   "outputs": [],
   "source": []
  }
 ],
 "metadata": {
  "celltoolbar": "Slideshow",
  "kernelspec": {
   "display_name": "Python (coca_cola_b2b)",
   "language": "python",
   "name": "coca_cola_b2b"
  },
  "language_info": {
   "codemirror_mode": {
    "name": "ipython",
    "version": 3
   },
   "file_extension": ".py",
   "mimetype": "text/x-python",
   "name": "python",
   "nbconvert_exporter": "python",
   "pygments_lexer": "ipython3",
   "version": "3.7.6"
  },
  "toc": {
   "base_numbering": 1,
   "nav_menu": {},
   "number_sections": true,
   "sideBar": true,
   "skip_h1_title": true,
   "title_cell": "Table of Contents",
   "title_sidebar": "Contents",
   "toc_cell": false,
   "toc_position": {
    "height": "calc(100% - 180px)",
    "left": "10px",
    "top": "150px",
    "width": "339.594px"
   },
   "toc_section_display": true,
   "toc_window_display": true
  }
 },
 "nbformat": 4,
 "nbformat_minor": 4
}
